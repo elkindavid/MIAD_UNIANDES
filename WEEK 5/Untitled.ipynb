{
 "cells": [
  {
   "cell_type": "code",
   "execution_count": 2,
   "id": "4cdf3503",
   "metadata": {},
   "outputs": [
    {
     "name": "stdout",
     "output_type": "stream",
     "text": [
      "Artist1    0.4\n",
      "Artist2    0.4\n",
      "Artist3    0.2\n",
      "Name: Artista, dtype: float64\n"
     ]
    }
   ],
   "source": [
    "import pandas as pd\n",
    "\n",
    "# Crear un DataFrame con los datos ficticios\n",
    "data = {\n",
    "    'Usuario': ['User1', 'User2', 'User3', 'User4', 'User5'],\n",
    "    'Artista': ['Artist1', 'Artist2', 'Artist1', 'Artist3', 'Artist2']\n",
    "}\n",
    "\n",
    "df = pd.DataFrame(data)\n",
    "\n",
    "# Calcular la frecuencia de cada artista\n",
    "artist_counts = df['Artista'].value_counts()\n",
    "\n",
    "# Calcular la probabilidad de consumo por artista\n",
    "total_reproducciones = len(df)\n",
    "probabilidad_consumo = artist_counts / total_reproducciones\n",
    "\n",
    "# Mostrar la distribución de probabilidad\n",
    "print(probabilidad_consumo)\n"
   ]
  }
 ],
 "metadata": {
  "kernelspec": {
   "display_name": "Python 3 (ipykernel)",
   "language": "python",
   "name": "python3"
  },
  "language_info": {
   "codemirror_mode": {
    "name": "ipython",
    "version": 3
   },
   "file_extension": ".py",
   "mimetype": "text/x-python",
   "name": "python",
   "nbconvert_exporter": "python",
   "pygments_lexer": "ipython3",
   "version": "3.9.15"
  }
 },
 "nbformat": 4,
 "nbformat_minor": 5
}
