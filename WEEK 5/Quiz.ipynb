{
 "cells": [
  {
   "cell_type": "code",
   "execution_count": 1,
   "id": "83046518",
   "metadata": {},
   "outputs": [
    {
     "data": {
      "text/plain": [
       "array([[ 0.88, -1.08,  0.9 ,  1.09, -0.8 ],\n",
       "       [-0.9 ,  1.  , -1.  , -1.  ,  0.9 ],\n",
       "       [ 0.38,  0.6 ,  1.2 , -0.7 , -1.18],\n",
       "       [-0.11, -0.9 , -0.9 ,  1.  ,  0.91]])"
      ]
     },
     "execution_count": 1,
     "metadata": {},
     "output_type": "execute_result"
    }
   ],
   "source": [
    "import numpy as np\n",
    "U = np.array([[1,0.1], [-1,0], [0.2,-1],[0.1,1]])\n",
    "VT = np.transpose(np.array([[0.9,-0.2],[-1,-0.8],[1,-1],[1,0.9],[-0.9,1]]))\n",
    "np.dot(U,VT)"
   ]
  }
 ],
 "metadata": {
  "kernelspec": {
   "display_name": "Python 3 (ipykernel)",
   "language": "python",
   "name": "python3"
  },
  "language_info": {
   "codemirror_mode": {
    "name": "ipython",
    "version": 3
   },
   "file_extension": ".py",
   "mimetype": "text/x-python",
   "name": "python",
   "nbconvert_exporter": "python",
   "pygments_lexer": "ipython3",
   "version": "3.9.15"
  }
 },
 "nbformat": 4,
 "nbformat_minor": 5
}
