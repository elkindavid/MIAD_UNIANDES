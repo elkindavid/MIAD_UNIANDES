{
 "cells": [
  {
   "cell_type": "markdown",
   "metadata": {},
   "source": [
    "![image info](https://raw.githubusercontent.com/albahnsen/MIAD_ML_and_NLP/main/images/banner_1.png)"
   ]
  },
  {
   "cell_type": "markdown",
   "metadata": {},
   "source": [
    "# Taller: Tokenización de textos  \n",
    "\n",
    "En este taller podrán poner en práctica sus conocimientos sobre preprocesamiento de texto (tokenización). El taller está constituido por 5 puntos, en los cuales deberan seguir las intrucciones de cada numeral para su desarrollo."
   ]
  },
  {
   "cell_type": "markdown",
   "metadata": {},
   "source": [
    "## Datos detección de toxicidad en comentarios\n",
    "\n",
    "En este taller se usará el conjunto de datos de detección de toxicidad en comentarios de la base de datos de Kaggle. Cada observación es un comentario que tiene como variable objetivo (target) la probabilidad de ser un comentario tóxico. El objetivo es predecir la toxicidad de cada comentario. Para más detalles pueden visitar el siguiente enlace: [datos](https://www.kaggle.com/c/jigsaw-unintended-bias-in-toxicity-classification/data)."
   ]
  },
  {
   "cell_type": "code",
   "execution_count": 1,
   "metadata": {},
   "outputs": [],
   "source": [
    "import warnings\n",
    "warnings.filterwarnings('ignore')"
   ]
  },
  {
   "cell_type": "code",
   "execution_count": 2,
   "metadata": {},
   "outputs": [],
   "source": [
    "# Importación librerías\n",
    "import pandas as pd\n",
    "import numpy as np\n",
    "import scipy as sp\n",
    "from sklearn.model_selection import train_test_split, cross_val_score\n",
    "from sklearn.feature_extraction.text import CountVectorizer, TfidfVectorizer\n",
    "import matplotlib.pyplot as plt\n",
    "from sklearn import metrics\n",
    "%matplotlib inline\n",
    "\n",
    "from sklearn.naive_bayes import MultinomialNB\n",
    "from nltk.stem.snowball import SnowballStemmer\n"
   ]
  },
  {
   "cell_type": "code",
   "execution_count": 3,
   "metadata": {},
   "outputs": [
    {
     "data": {
      "text/html": [
       "<div>\n",
       "<style scoped>\n",
       "    .dataframe tbody tr th:only-of-type {\n",
       "        vertical-align: middle;\n",
       "    }\n",
       "\n",
       "    .dataframe tbody tr th {\n",
       "        vertical-align: top;\n",
       "    }\n",
       "\n",
       "    .dataframe thead th {\n",
       "        text-align: right;\n",
       "    }\n",
       "</style>\n",
       "<table border=\"1\" class=\"dataframe\">\n",
       "  <thead>\n",
       "    <tr style=\"text-align: right;\">\n",
       "      <th></th>\n",
       "      <th>id</th>\n",
       "      <th>comment_text</th>\n",
       "      <th>target</th>\n",
       "    </tr>\n",
       "  </thead>\n",
       "  <tbody>\n",
       "    <tr>\n",
       "      <th>0</th>\n",
       "      <td>6101457</td>\n",
       "      <td>What are you talking about? What group do Pete...</td>\n",
       "      <td>0.0</td>\n",
       "    </tr>\n",
       "    <tr>\n",
       "      <th>1</th>\n",
       "      <td>5342103</td>\n",
       "      <td>NO!, Let him, we need a Conservative government.</td>\n",
       "      <td>0.0</td>\n",
       "    </tr>\n",
       "    <tr>\n",
       "      <th>2</th>\n",
       "      <td>743361</td>\n",
       "      <td>Perhaps he took the \"power out of the Cardinal...</td>\n",
       "      <td>0.2</td>\n",
       "    </tr>\n",
       "    <tr>\n",
       "      <th>3</th>\n",
       "      <td>551008</td>\n",
       "      <td>As always, yours is dripping with sarcasm, whi...</td>\n",
       "      <td>0.0</td>\n",
       "    </tr>\n",
       "    <tr>\n",
       "      <th>4</th>\n",
       "      <td>865998</td>\n",
       "      <td>The dirty little secret is that the price rang...</td>\n",
       "      <td>0.3</td>\n",
       "    </tr>\n",
       "  </tbody>\n",
       "</table>\n",
       "</div>"
      ],
      "text/plain": [
       "        id                                       comment_text  target\n",
       "0  6101457  What are you talking about? What group do Pete...     0.0\n",
       "1  5342103   NO!, Let him, we need a Conservative government.     0.0\n",
       "2   743361  Perhaps he took the \"power out of the Cardinal...     0.2\n",
       "3   551008  As always, yours is dripping with sarcasm, whi...     0.0\n",
       "4   865998  The dirty little secret is that the price rang...     0.3"
      ]
     },
     "execution_count": 3,
     "metadata": {},
     "output_type": "execute_result"
    }
   ],
   "source": [
    "# Carga de datos de archivos .csv\n",
    "df = pd.read_csv('https://raw.githubusercontent.com/albahnsen/MIAD_ML_and_NLP/main/datasets/Toxicity.zip')\n",
    "df = df[['id','comment_text', 'target']]\n",
    "df.head()"
   ]
  },
  {
   "cell_type": "code",
   "execution_count": 4,
   "metadata": {},
   "outputs": [
    {
     "data": {
      "text/plain": [
       "<AxesSubplot:>"
      ]
     },
     "execution_count": 4,
     "metadata": {},
     "output_type": "execute_result"
    },
    {
     "data": {
      "image/png": "[encoded data removed]",
      "text/plain": [
       "<Figure size 432x288 with 1 Axes>"
      ]
     },
     "metadata": {
      "needs_background": "light"
     },
     "output_type": "display_data"
    }
   ],
   "source": [
    "# Impresión histograma de variable de interés (y)\n",
    "df.target.hist()"
   ]
  },
  {
   "cell_type": "markdown",
   "metadata": {},
   "source": [
    " Decidimos reducir el tamaño de la muestra a 50.000 registros debido al tiempo de procesamiento computacional del modelo "
   ]
  },
  {
   "cell_type": "code",
   "execution_count": 5,
   "metadata": {},
   "outputs": [],
   "source": [
    "df= df.sample(n=50000, random_state=42)"
   ]
  },
  {
   "cell_type": "code",
   "execution_count": 6,
   "metadata": {},
   "outputs": [
    {
     "data": {
      "text/plain": [
       "count    50000.000000\n",
       "mean         0.102826\n",
       "std          0.195921\n",
       "min          0.000000\n",
       "25%          0.000000\n",
       "50%          0.000000\n",
       "75%          0.166667\n",
       "max          1.000000\n",
       "Name: target, dtype: float64"
      ]
     },
     "execution_count": 6,
     "metadata": {},
     "output_type": "execute_result"
    }
   ],
   "source": [
    "# Separación de variable de interés (y)\n",
    "y = df.target\n",
    "y.describe()"
   ]
  },
  {
   "cell_type": "code",
   "execution_count": 7,
   "metadata": {},
   "outputs": [
    {
     "data": {
      "text/plain": [
       "356574    0.0\n",
       "471747    0.0\n",
       "118328    0.0\n",
       "142944    0.0\n",
       "496670    0.0\n",
       "Name: target, dtype: float64"
      ]
     },
     "execution_count": 7,
     "metadata": {},
     "output_type": "execute_result"
    }
   ],
   "source": [
    "y.head()"
   ]
  },
  {
   "cell_type": "code",
   "execution_count": 8,
   "metadata": {},
   "outputs": [],
   "source": [
    "# Separación de variables predictoras (X), solo se considera el texto de la noticia\n",
    "X = df.comment_text"
   ]
  },
  {
   "cell_type": "code",
   "execution_count": 9,
   "metadata": {},
   "outputs": [],
   "source": [
    "# Separación de datos en set de entrenamiento y test\n",
    "X_train, X_test, y_train, y_test = train_test_split(X, y, test_size=0.33, random_state=42)"
   ]
  },
  {
   "cell_type": "code",
   "execution_count": 10,
   "metadata": {},
   "outputs": [
    {
     "data": {
      "text/plain": [
       "164676    Correct, the police under no obligation to pro...\n",
       "268128    Annie, public relief offered by states to the ...\n",
       "287733             Clark has never kept promises. Times up.\n",
       "406335    I've always loved sticks because of the contro...\n",
       "64071     Kindergarten Christians deny Noah did, but cur...\n",
       "Name: comment_text, dtype: object"
      ]
     },
     "execution_count": 10,
     "metadata": {},
     "output_type": "execute_result"
    }
   ],
   "source": [
    "X_train.head()"
   ]
  },
  {
   "cell_type": "code",
   "execution_count": 11,
   "metadata": {},
   "outputs": [
    {
     "data": {
      "text/plain": [
       "(33500,)"
      ]
     },
     "execution_count": 11,
     "metadata": {},
     "output_type": "execute_result"
    }
   ],
   "source": [
    "X_train.shape"
   ]
  },
  {
   "cell_type": "markdown",
   "metadata": {},
   "source": [
    "## Punto 1 - Tokenización con CountVectorizer\n",
    "\n",
    "En la celda 1 creen y entrenen el modelo de regresión de su preferencia, para que prediga la probabilidad de que un comentario sea tóxico, usando los set de entrenamiento y test definidos anteriormente. Usen la función **CountVectorizer** para preprocesar los comentarios y presenten el desempeño del modelo con la métrica del MSE.\n",
    "\n",
    "Recuerden que el preprocesamiento que se haga sobre los datos de entrenamiento  (*.fit_transform()*) deben ser aplicado al set de test (*.transform()*)."
   ]
  },
  {
   "cell_type": "code",
   "execution_count": 12,
   "metadata": {},
   "outputs": [],
   "source": [
    "features=5000"
   ]
  },
  {
   "cell_type": "code",
   "execution_count": 13,
   "metadata": {},
   "outputs": [
    {
     "name": "stdout",
     "output_type": "stream",
     "text": [
      "MSE: 0.027589679659017374\n",
      "MAE: 0.11602553826909891\n",
      "MAPE: inf\n",
      "RMSE: 0.1661014137779007\n"
     ]
    }
   ],
   "source": [
    "# Celda 1\n",
    "import numpy as np\n",
    "from sklearn.ensemble import RandomForestRegressor\n",
    "from sklearn.feature_extraction.text import CountVectorizer\n",
    "from sklearn.metrics import mean_squared_error\n",
    "\n",
    "features=50\n",
    "# preprocesamiento de datos\n",
    "vectorizer = CountVectorizer()\n",
    "X_train_vectorized = vectorizer.fit_transform(X_train)\n",
    "X_test_vectorized = vectorizer.transform(X_test)\n",
    "\n",
    "# creación y entrenamiento del modelo\n",
    "model_countv = RandomForestRegressor(n_jobs=-1,n_estimators =50,max_features = features)\n",
    "model_countv.fit(X_train_vectorized, y_train)\n",
    "\n",
    "# evaluación del modelo\n",
    "y_pred = model_countv.predict(X_test_vectorized)\n",
    "mse_countv = mean_squared_error(y_test, y_pred)\n",
    "print(\"MSE:\", mse_countv)\n",
    "\n",
    "# Cálculo del MAE\n",
    "mae_countv = np.mean(np.abs(y_test - y_pred))\n",
    "print(\"MAE:\", mae_countv)\n",
    "\n",
    "# Cálculo del MAPE\n",
    "mape_countv = np.mean(np.abs((y_test - y_pred) / y_test)) * 100\n",
    "print(\"MAPE:\", mape_countv)\n",
    "\n",
    "# Cálculo del RMSE\n",
    "rmse_countv = np.sqrt(mse_countv)\n",
    "print(\"RMSE:\", rmse_countv)"
   ]
  },
  {
   "cell_type": "markdown",
   "metadata": {},
   "source": [
    "Luego de utilizar el CountVectorizer para preprocesar la información obtenida a partir de comentarios tóxicos a través de un RandomForest el cuál predice la probabilidad de que un comnetario sea tóxico y tuneando el modelo identificamos los mejores parámetros como max_features de 50.000 y n_estimators de 50. Con esto un obtiene un MSE de 0.0271, un MAE de 0.115 y un RMSE de 0.164 lo cuál consideramos que no es un buen indicador de desempeño del modelo ya que, para estimar una predicción puede tener un error en la probabilidad de mas o menos 0.11."
   ]
  },
  {
   "cell_type": "markdown",
   "metadata": {},
   "source": [
    "## Punto 2 - Tokenización con CountVectorizer y trigramas\n",
    "\n",
    "En la celda 2 creen y entrenen el mismo modelo de regresión del punto anterior (es decir si usaron un RandomForestRegresor usen nuevamente ese regresor), para que prediga la probabilidad de que un comentario sea tóxico, usando los set de entrenamiento y test definidos anteriormente. Usen la función CountVectorizer **considerando trigramas** para preprocesar los comentarios y presenten el desempeño del modelo con la métrica del MSE.\n",
    "\n",
    "Recuerden que el preprocesamiento que se haga sobre los datos de entrenamiento  (*.fit_transform()*) deben ser aplicado al set de test (*.transform()*)."
   ]
  },
  {
   "cell_type": "code",
   "execution_count": 14,
   "metadata": {},
   "outputs": [
    {
     "name": "stdout",
     "output_type": "stream",
     "text": [
      "MSE: 0.034753430551000115\n",
      "MAE: 0.1179935646808112\n",
      "MAPE: inf\n",
      "RMSE: 0.18642272005042765\n"
     ]
    }
   ],
   "source": [
    "# Celda 2\n",
    "# preprocesamiento de datos\n",
    "vectorizer = CountVectorizer(ngram_range=(1,3))\n",
    "X_train_vectorized = vectorizer.fit_transform(X_train)\n",
    "X_test_vectorized = vectorizer.transform(X_test)\n",
    "\n",
    "# creación y entrenamiento del modelo\n",
    "model_countvTr = RandomForestRegressor(n_jobs=-1,n_estimators = 50,max_features = features)\n",
    "model_countvTr.fit(X_train_vectorized, y_train)\n",
    "\n",
    "# evaluación del modelo\n",
    "y_pred = model_countvTr.predict(X_test_vectorized)\n",
    "mse_trig = mean_squared_error(y_test, y_pred)\n",
    "print(\"MSE:\", mse_trig)\n",
    "# Cálculo del MAE\n",
    "mae_trig = np.mean(np.abs(y_test - y_pred))\n",
    "print(\"MAE:\", mae_trig)\n",
    "\n",
    "# Cálculo del MAPE\n",
    "mape_trig = np.mean(np.abs((y_test - y_pred) / y_test)) * 100\n",
    "print(\"MAPE:\", mape_trig)\n",
    "\n",
    "# Cálculo del RMSE\n",
    "rmse_trig = np.sqrt(mse_trig)\n",
    "print(\"RMSE:\", rmse_trig)"
   ]
  },
  {
   "cell_type": "markdown",
   "metadata": {},
   "source": [
    "Luego de utilizar el CountVectorizer con trigramas para preprocesar la información obtenida a partir de comentarios tóxicos a través del RandomForest  y los parámetros de max_features de 50.000 y n_estimators de 50 obtenemos un MSE de 0.0345, un MAE de 0.118 y un RMSE de 0.186 lo cuál en comparaación con el metodo anterior no tiene una variación significativa o incluso peor desempeño ya que, para estimar una predicción puede tener un error en la probabilidad de mas o menos 0.118."
   ]
  },
  {
   "cell_type": "markdown",
   "metadata": {},
   "source": [
    "## Punto 3 - TfidfVectorizer\n",
    "\n",
    "Investigen sobre la función TfidfVectorizer. En la celda de texto 3, expliquen en qué consiste esta técnica de tokenización (describanla y expliquen su funcionamiento) y cúales son las ventajas o deventajas de su uso al compararlo con la función CountVectorizer."
   ]
  },
  {
   "cell_type": "markdown",
   "metadata": {},
   "source": [
    "#Celda 3\n",
    "\n",
    "TfidfVectorizer es una función de preprocesamiento de texto utilizadas para convertir textos en vectores numéricos que pueden ser procesados por algoritmos de Machine learning, creando un vocabulario a partir de los textos de entrada y transforman cada documento en un vector que representa la frecuencia de las palabras en el vocabulario.\n",
    "\n",
    "La principal diferencia que cuenta con CountVectorizer es que asigna un peso a cada palabra en el documento, cuenta el número de veces que aparece una palabra en el documento. La inversa de la frecuencia de documento (IDF) mide la rareza de la palabra en el conjunto de documentos de entrenamiento. Las palabras que aparecen con frecuencia en todos los documentos tendrán un IDF bajo y, por lo tanto, tendrán un peso bajo en el vector del documento. Por otro lado, las palabras que aparecen en pocos documentos tendrán un IDF alto y, por lo tanto, tendrán un peso alto en el vector del documento. Esto significa que las palabras que son informativas para la tarea de clasificación tendrán un peso más alto, mientras que las palabras comunes tendrán un peso más bajo. Mientras que CountVectorizer simplemente cuenta el número de ocurrencias de cada palabra en el documento, lo que significa que las palabras más frecuentes tendrán valores más altos.\n",
    "\n",
    "##### Ventajas:\n",
    "\n",
    "* TfidfVectorizer considera la importancia de las palabras, asignando un puntaje más alto a las palabras que son más relevantes para un documento en particular. Esto ayuda a destacar las palabras más importantes para el análisis.\n",
    "\n",
    "* TfidfVectorizer da más importancia a las palabras menos comunes que aparecen en un corpus, resaltando los términos raros que pueden ser importantes para la interpretación del texto.\n",
    "\n",
    "* TfidfVectorizer reduce el peso de las palabras comunes que aparecen en muchos documentos, evitando que estas dominen los resultados y destacando las palabras más distintivas en el análisis.\n",
    "\n",
    "##### Desventajas:\n",
    "\n",
    "* TfidfVectorizer requiere más tiempo de procesamiento que CountVectorizer debido al cálculo de los puntajes Tfidf, lo que puede hacer que sea más lento en el procesamiento de grandes cantidades de datos.\n",
    "\n",
    "* TfidfVectorizer se centra en la importancia relativa de las palabras en un documento y no tiene en cuenta la frecuencia absoluta de las palabras, lo que puede ser un problema en algunos casos donde la frecuencia de la palabra es importante para el análisis.\n",
    "\n",
    "* TfidfVectorizer puede no ser siempre mejor que CountVectorizer, ya que el enfoque más adecuado dependerá del problema específico y los datos disponibles para el análisis."
   ]
  },
  {
   "cell_type": "markdown",
   "metadata": {},
   "source": [
    "## Punto 4 - Tokenización con TfidfVectorizer\n",
    "\n",
    "En la celda 4 creen y entrenen el mismo modelo de regresión del primer punto, para que prediga la probabilidad de que un comentario sea tóxico, usando los set de entrenamiento y test definidos anteriormente. Procesen los comentarios con la función **TfidfVectorizer** y presenten el desempeño del modelo con la métrica del MSE.\n",
    "\n",
    "Recuerden que el preprocesamiento que se haga sobre los datos de entrenamiento  (*.fit_transform()*) deben ser aplicado al set de test (*.transform()*)."
   ]
  },
  {
   "cell_type": "code",
   "execution_count": 15,
   "metadata": {},
   "outputs": [
    {
     "name": "stdout",
     "output_type": "stream",
     "text": [
      "MSE: 0.028621989701318348\n",
      "MAE: 0.11715015509291034\n",
      "MAPE: inf\n",
      "RMSE: 0.16918034667572457\n"
     ]
    }
   ],
   "source": [
    "# Celda 4\n",
    "# preprocesamiento de datos\n",
    "vectorizer = TfidfVectorizer()\n",
    "X_train_vectorized = vectorizer.fit_transform(X_train)\n",
    "X_test_vectorized = vectorizer.transform(X_test)\n",
    "\n",
    "# creación y entrenamiento del modelo\n",
    "model = RandomForestRegressor(n_jobs=-1,n_estimators = 50,max_features = features)\n",
    "model.fit(X_train_vectorized, y_train)\n",
    "\n",
    "# evaluación del modelo\n",
    "y_pred = model.predict(X_test_vectorized)\n",
    "mse_tfid = mean_squared_error(y_test, y_pred)\n",
    "print(\"MSE:\", mse_tfid)\n",
    "# Cálculo del MAE\n",
    "mae_tfid = np.mean(np.abs(y_test - y_pred))\n",
    "print(\"MAE:\", mae_tfid)\n",
    "\n",
    "# Cálculo del MAPE\n",
    "mape_tfid = np.mean(np.abs((y_test - y_pred) / y_test)) * 100\n",
    "print(\"MAPE:\", mape_tfid)\n",
    "\n",
    "# Cálculo del RMSE\n",
    "rmse_tfid = np.sqrt(mse_tfid)\n",
    "print(\"RMSE:\", rmse_tfid)"
   ]
  },
  {
   "cell_type": "markdown",
   "metadata": {},
   "source": [
    "Luego de utilizar el TfidfVectorizer  para preprocesar la información obtenida asignando un puntaje más alto a las palabras que tienen mayor relevancia a partir de comentarios tóxicos, se evidencia que al aplicar en RandomForest y los parámetros de max_features de 50.000 y n_estimators de 50 obtenemos un MSE de 0.028, un MAE de 0.116 y un RMSE de 0.168 lo cuál en comparaación con los métodos anteriores no presenta una variación significativa o incluso peor desempeño que al aplicar el método de CountVectorizer ya que, para estimar una predicción puede tener un error en la probabilidad de mas o menos 0.116."
   ]
  },
  {
   "cell_type": "markdown",
   "metadata": {},
   "source": [
    "## Punto 5 - Comparación y análisis de resultados\n",
    "\n",
    "En la celda 5 comparen los resultados obtenidos de los diferentes modelos y comenten cómo el preprocesamiento de texto afecta el desempeño."
   ]
  },
  {
   "cell_type": "code",
   "execution_count": 16,
   "metadata": {},
   "outputs": [
    {
     "data": {
      "image/png": "[encoded data removed]",
      "text/plain": [
       "<Figure size 432x288 with 1 Axes>"
      ]
     },
     "metadata": {
      "needs_background": "light"
     },
     "output_type": "display_data"
    },
    {
     "data": {
      "image/png": "[encoded data removed]",
      "text/plain": [
       "<Figure size 432x288 with 1 Axes>"
      ]
     },
     "metadata": {
      "needs_background": "light"
     },
     "output_type": "display_data"
    }
   ],
   "source": [
    "# Celda 5\n",
    "import matplotlib.pyplot as plt\n",
    "\n",
    "fig = plt.figure()\n",
    "ax = fig.add_axes([0,0,1,1])\n",
    "ax.set_title(\"MSE\")\n",
    "ejeX = ['CountVectorizer', 'CountVectorizer trigrama','TfidfVectorizer']\n",
    "ejeY = [mse_countv,mse_trig,mse_tfid]\n",
    "ax.bar(ejeX,ejeY)\n",
    "def addlabels(x,y,plotP):\n",
    "    for i in range(len(x)):\n",
    "        plotP.text(i,y[i],y[i])\n",
    "addlabels(ejeX,ejeY,plt)\n",
    "plt.show()\n",
    "\n",
    "\n",
    "fig = plt.figure()\n",
    "ax = fig.add_axes([0,0,1,1])\n",
    "ax.set_title(\"MAE\")\n",
    "ejeX = ['CountVectorizer', 'CountVectorizer trigrama','TfidfVectorizer']\n",
    "ejeY = [mae_countv,mae_trig,mae_tfid]\n",
    "ax.bar(ejeX,ejeY)\n",
    "def addlabels(x,y,plotP):\n",
    "    for i in range(len(x)):\n",
    "        plotP.text(i,y[i],y[i])\n",
    "addlabels(ejeX,ejeY,plt)\n",
    "plt.show()"
   ]
  },
  {
   "cell_type": "markdown",
   "metadata": {},
   "source": [
    "Al realizar la comparación entre los tres métodos CountVectorizer, CountVectorizer con trigrama y TfidfVectorizer aplicamos las métricas del MSE y el MAE encontrando que se obtiene un mejor desempeño con el CountVectorizer ya que encontramos un MSE y un MAE menores para este método debido a que tiene un procesamiento más sencillo para las palabras encontradas en los comentarios mientras que el método de CountVectorizer con Trigramas genera más features para el modelo, por último el método TfidfVectorizer aunque asigna un peso mayor a las palabras menos comunes en este caso debido a la naturaleza del problema para identificar comentarios tóxicos la frencuencia de repetición de las palabras es más relevante que la aparicicón de palabaras no comunes."
   ]
  }
 ],
 "metadata": {
  "kernelspec": {
   "display_name": "Python 3",
   "language": "python",
   "name": "python3"
  },
  "language_info": {
   "codemirror_mode": {
    "name": "ipython",
    "version": 3
   },
   "file_extension": ".py",
   "mimetype": "text/x-python",
   "name": "python",
   "nbconvert_exporter": "python",
   "pygments_lexer": "ipython3",
   "version": "3.8.8"
  },
  "name": "_merged"
 },
 "nbformat": 4,
 "nbformat_minor": 4
}
