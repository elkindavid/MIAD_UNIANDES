{
 "cells": [
  {
   "cell_type": "markdown",
   "metadata": {},
   "source": [
    "![image info](https://raw.githubusercontent.com/davidzarruk/MIAD_ML_NLP_2023/main/images/banner_1.png)"
   ]
  },
  {
   "cell_type": "markdown",
   "metadata": {},
   "source": [
    "# Proyecto 1 - Predicción de precios de vehículos usados\n",
    "\n",
    "En este proyecto podrán poner en práctica sus conocimientos sobre modelos predictivos basados en árboles y ensambles, y sobre la disponibilización de modelos. Para su desasrrollo tengan en cuenta las instrucciones dadas en la \"Guía del proyecto 1: Predicción de precios de vehículos usados\".\n",
    "\n",
    "**Entrega**: La entrega del proyecto deberán realizarla durante la semana 4. Sin embargo, es importante que avancen en la semana 3 en el modelado del problema y en parte del informe, tal y como se les indicó en la guía.\n",
    "\n",
    "Para hacer la entrega, deberán adjuntar el informe autocontenido en PDF a la actividad de entrega del proyecto que encontrarán en la semana 4, y subir el archivo de predicciones a la [competencia de Kaggle](https://www.kaggle.com/t/b8be43cf89c540bfaf3831f2c8506614)."
   ]
  },
  {
   "cell_type": "markdown",
   "metadata": {},
   "source": [
    "## Datos para la predicción de precios de vehículos usados\n",
    "\n",
    "En este proyecto se usará el conjunto de datos de Car Listings de Kaggle, donde cada observación representa el precio de un automóvil teniendo en cuenta distintas variables como: año, marca, modelo, entre otras. El objetivo es predecir el precio del automóvil. Para más detalles puede visitar el siguiente enlace: [datos](https://www.kaggle.com/jpayne/852k-used-car-listings)."
   ]
  },
  {
   "cell_type": "markdown",
   "metadata": {},
   "source": [
    "## Ejemplo predicción conjunto de test para envío a Kaggle\n",
    "\n",
    "En esta sección encontrarán el formato en el que deben guardar los resultados de la predicción para que puedan subirlos a la competencia en Kaggle."
   ]
  },
  {
   "cell_type": "markdown",
   "metadata": {},
   "source": [
    "## Rúbrica de Calificación"
   ]
  },
  {
   "cell_type": "markdown",
   "metadata": {},
   "source": [
    "La calificación estará distribuida de la siguiente manera: \n",
    "\n",
    "**Competencia (20 puntos)**\n",
    "\n",
    "Para cada grupo la calificación será proporcional al lugar que ocupe en el ranking de la competencia. Los grupos que ocupen los primeros 5 puestos obtendrán 20 puntos, a los siguientes 5 grupos se le restarán 2 puntos y así sucesivamente. Es decir: posiciones del 1 al 5 obtendrán 20 puntos, posiciones del 6 al 10 obtendrán 18 puntos, posiciones del 11 a 15 obtendrán 16 puntos y así sucesivamente.\n",
    "\n",
    "**Informe (80 puntos)**\n",
    "\n",
    "La calificación del informe se realizará con base en los siguientes criterios (recuerden que deben dar cuenta de cada uno de los aspectos mencionados en los criterios por medio de pantallazos o fracciones de código):\n",
    "\n",
    "<ins>Preprocesamiento de datos (10 puntos)</ins>\n",
    "\n",
    "* Los datos de entrenamiento se dividen en datos de entrenamiento y validación. Si decidieron preprocesar los datos (estandarizar, normalizar, imputar valores, etc), estos son correctamente preprocesados al ajustar sobre los datos de entrenamiento (.fit_transform()) y al transformar los datos del set de validación (.transform()). (10 puntos)\n",
    "\n",
    "<ins>Calibración del modelo (15 puntos)</ins>\n",
    "\n",
    "* Se calibran los parámetros que se consideren pertinentes del modelo de clasificación seleccionado. (5 puntos)\n",
    "\n",
    "* Se justifica el método seleccionado de calibración. (5 puntos)\n",
    "\n",
    "* Se analizan los valores calibrados de cada parámetro y se explica cómo afectan el modelo. (5 puntos)\n",
    "\n",
    "<ins>Entrenamiento del modelo (15 puntos)</ins>\n",
    "\n",
    "* Se entrena el modelo de regresión escogido con los datos del set de entrenamiento preprocesados y los parámetros óptimos. (5 puntos)\n",
    "\n",
    "* Se presenta el desempeño del modelo en los datos de validación con al menos una métrica de desempeño. (5 puntos)\n",
    "\n",
    "* Se justifica la selección del modelo correctamente. (5 puntos)\n",
    "\n",
    "<ins>Disponibilización del modelo (30 puntos)</ins>\n",
    "\n",
    "* Se disponibiliza el modelo en una API alojada en un servicio en la nube. (20 puntos)\n",
    "\n",
    "* Se hacen las predicciones sobre el valor del automóvil en al menos dos observaciones del set de validación. (10 puntos)\n",
    "\n",
    "<ins>Conclusiones (10 puntos)</ins>\n",
    "\n",
    "* Se presentan conclusiones claras y concisas sobre el desarrollo y los resultados del proyecto. (10 puntos)"
   ]
  },
  {
   "cell_type": "code",
   "execution_count": 1,
   "metadata": {},
   "outputs": [],
   "source": [
    "import warnings\n",
    "warnings.filterwarnings('ignore')"
   ]
  },
  {
   "cell_type": "code",
   "execution_count": 2,
   "metadata": {},
   "outputs": [],
   "source": [
    "# Importación librerías\n",
    "import pandas as pd\n",
    "import numpy as np\n",
    "import seaborn as sns \n",
    "import matplotlib.pyplot as plt\n",
    "\n",
    "# import all what you need for machine learning\n",
    "import sklearn\n",
    "from sklearn.model_selection import cross_val_predict\n",
    "from sklearn.model_selection import cross_val_score\n",
    "from sklearn.model_selection import cross_validate\n",
    "from sklearn.model_selection import train_test_split\n",
    "from sklearn.ensemble import RandomForestRegressor\n",
    "import xgboost\n",
    "from sklearn.model_selection import RandomizedSearchCV\n",
    "from sklearn.model_selection import GridSearchCV\n",
    "from sklearn.linear_model import LinearRegression\n",
    "from sklearn.preprocessing import RobustScaler\n",
    "from sklearn import ensemble\n",
    "from sklearn.preprocessing import StandardScaler\n",
    "from sklearn.ensemble import BaggingRegressor\n",
    "from sklearn.tree import DecisionTreeRegressor \n",
    "from sklearn.metrics import mean_squared_error\n",
    "from sklearn.pipeline import make_pipeline\n",
    "from sklearn.preprocessing import RobustScaler, MinMaxScaler\n",
    "from sklearn.linear_model import LinearRegression, Lasso, ElasticNet\n",
    "from sklearn.kernel_ridge import KernelRidge\n",
    "from sklearn import neighbors\n",
    "\n",
    "from sklearn.ensemble import GradientBoostingRegressor\n",
    "import xgboost as xgb\n",
    "import lightgbm as lgb\n",
    "from sklearn.ensemble import StackingRegressor\n",
    "\n",
    "from sklearn.model_selection import cross_val_score\n",
    "from sklearn.model_selection import cross_val_predict\n",
    "from sklearn.metrics import mean_squared_error\n",
    "from sklearn.feature_selection import RFE\n",
    "import multiprocessing\n",
    "import math\n",
    "from statistics import mean\n",
    "import joblib\n",
    "import os\n",
    "os.chdir('..')\n",
    "\n",
    "# Global settings\n",
    "n_jobs = -1 # This parameter conrols the parallel processing. -1 means using all processors.\n",
    "random_state = 42 # This parameter controls the randomness of the data. Using some int value to get same results everytime this code is run."
   ]
  },
  {
   "cell_type": "code",
   "execution_count": 3,
   "metadata": {},
   "outputs": [],
   "source": [
    "# Carga de datos de archivo .csv\n",
    "dataTraining = pd.read_csv('C:/Users/ElkinDavidPeñaRuiz/OneDrive - CARBOMAX DE COLOMBIA S.A.S/PERSONALES/MIAD/CICLO 4/Machine Learning y PLN/MIAD_UNIANDES/Data/dataTrain_carListings.csv')\n",
    "dataTesting = pd.read_csv('C:/Users/ElkinDavidPeñaRuiz/OneDrive - CARBOMAX DE COLOMBIA S.A.S/PERSONALES/MIAD/CICLO 4/Machine Learning y PLN/MIAD_UNIANDES/Data/dataTest_carListings.csv', index_col=0)\n",
    "data = dataTraining\n",
    "test = dataTesting"
   ]
  },
  {
   "cell_type": "markdown",
   "metadata": {},
   "source": [
    "## Análisis Exploratorio de Datos"
   ]
  },
  {
   "cell_type": "code",
   "execution_count": 4,
   "metadata": {},
   "outputs": [
    {
     "data": {
      "text/html": [
       "<div>\n",
       "<style scoped>\n",
       "    .dataframe tbody tr th:only-of-type {\n",
       "        vertical-align: middle;\n",
       "    }\n",
       "\n",
       "    .dataframe tbody tr th {\n",
       "        vertical-align: top;\n",
       "    }\n",
       "\n",
       "    .dataframe thead th {\n",
       "        text-align: right;\n",
       "    }\n",
       "</style>\n",
       "<table border=\"1\" class=\"dataframe\">\n",
       "  <thead>\n",
       "    <tr style=\"text-align: right;\">\n",
       "      <th></th>\n",
       "      <th>Price</th>\n",
       "      <th>Year</th>\n",
       "      <th>Mileage</th>\n",
       "      <th>State</th>\n",
       "      <th>Make</th>\n",
       "      <th>Model</th>\n",
       "    </tr>\n",
       "  </thead>\n",
       "  <tbody>\n",
       "    <tr>\n",
       "      <th>0</th>\n",
       "      <td>34995</td>\n",
       "      <td>2017</td>\n",
       "      <td>9913</td>\n",
       "      <td>FL</td>\n",
       "      <td>Jeep</td>\n",
       "      <td>Wrangler</td>\n",
       "    </tr>\n",
       "    <tr>\n",
       "      <th>1</th>\n",
       "      <td>37895</td>\n",
       "      <td>2015</td>\n",
       "      <td>20578</td>\n",
       "      <td>OH</td>\n",
       "      <td>Chevrolet</td>\n",
       "      <td>Tahoe4WD</td>\n",
       "    </tr>\n",
       "    <tr>\n",
       "      <th>2</th>\n",
       "      <td>18430</td>\n",
       "      <td>2012</td>\n",
       "      <td>83716</td>\n",
       "      <td>TX</td>\n",
       "      <td>BMW</td>\n",
       "      <td>X5AWD</td>\n",
       "    </tr>\n",
       "    <tr>\n",
       "      <th>3</th>\n",
       "      <td>24681</td>\n",
       "      <td>2014</td>\n",
       "      <td>28729</td>\n",
       "      <td>OH</td>\n",
       "      <td>Cadillac</td>\n",
       "      <td>SRXLuxury</td>\n",
       "    </tr>\n",
       "    <tr>\n",
       "      <th>4</th>\n",
       "      <td>26998</td>\n",
       "      <td>2013</td>\n",
       "      <td>64032</td>\n",
       "      <td>CO</td>\n",
       "      <td>Jeep</td>\n",
       "      <td>Wrangler</td>\n",
       "    </tr>\n",
       "  </tbody>\n",
       "</table>\n",
       "</div>"
      ],
      "text/plain": [
       "   Price  Year  Mileage State       Make      Model\n",
       "0  34995  2017     9913    FL       Jeep   Wrangler\n",
       "1  37895  2015    20578    OH  Chevrolet   Tahoe4WD\n",
       "2  18430  2012    83716    TX        BMW      X5AWD\n",
       "3  24681  2014    28729    OH   Cadillac  SRXLuxury\n",
       "4  26998  2013    64032    CO       Jeep   Wrangler"
      ]
     },
     "execution_count": 4,
     "metadata": {},
     "output_type": "execute_result"
    }
   ],
   "source": [
    "# Visualización datos de entrenamiento\n",
    "data.head()"
   ]
  },
  {
   "cell_type": "code",
   "execution_count": 5,
   "metadata": {},
   "outputs": [
    {
     "name": "stdout",
     "output_type": "stream",
     "text": [
      "<class 'pandas.core.frame.DataFrame'>\n",
      "RangeIndex: 400000 entries, 0 to 399999\n",
      "Data columns (total 6 columns):\n",
      " #   Column   Non-Null Count   Dtype \n",
      "---  ------   --------------   ----- \n",
      " 0   Price    400000 non-null  int64 \n",
      " 1   Year     400000 non-null  int64 \n",
      " 2   Mileage  400000 non-null  int64 \n",
      " 3   State    400000 non-null  object\n",
      " 4   Make     400000 non-null  object\n",
      " 5   Model    400000 non-null  object\n",
      "dtypes: int64(3), object(3)\n",
      "memory usage: 18.3+ MB\n"
     ]
    }
   ],
   "source": [
    "data.info()"
   ]
  },
  {
   "cell_type": "code",
   "execution_count": 6,
   "metadata": {},
   "outputs": [
    {
     "data": {
      "text/plain": [
       "Index(['State', 'Make', 'Model'], dtype='object')"
      ]
     },
     "execution_count": 6,
     "metadata": {},
     "output_type": "execute_result"
    }
   ],
   "source": [
    "categorical_cols=data.select_dtypes(include=['object']).columns\n",
    "categorical_cols"
   ]
  },
  {
   "cell_type": "code",
   "execution_count": 7,
   "metadata": {},
   "outputs": [
    {
     "data": {
      "text/plain": [
       "Index(['Price', 'Year', 'Mileage'], dtype='object')"
      ]
     },
     "execution_count": 7,
     "metadata": {},
     "output_type": "execute_result"
    }
   ],
   "source": [
    "numerical_cols=data.select_dtypes(exclude=['object']).columns\n",
    "numerical_cols"
   ]
  },
  {
   "cell_type": "code",
   "execution_count": 8,
   "metadata": {},
   "outputs": [
    {
     "data": {
      "text/html": [
       "<div>\n",
       "<style scoped>\n",
       "    .dataframe tbody tr th:only-of-type {\n",
       "        vertical-align: middle;\n",
       "    }\n",
       "\n",
       "    .dataframe tbody tr th {\n",
       "        vertical-align: top;\n",
       "    }\n",
       "\n",
       "    .dataframe thead th {\n",
       "        text-align: right;\n",
       "    }\n",
       "</style>\n",
       "<table border=\"1\" class=\"dataframe\">\n",
       "  <thead>\n",
       "    <tr style=\"text-align: right;\">\n",
       "      <th></th>\n",
       "      <th>Price</th>\n",
       "      <th>Year</th>\n",
       "      <th>Mileage</th>\n",
       "    </tr>\n",
       "  </thead>\n",
       "  <tbody>\n",
       "    <tr>\n",
       "      <th>count</th>\n",
       "      <td>400000.000000</td>\n",
       "      <td>400000.000000</td>\n",
       "      <td>4.000000e+05</td>\n",
       "    </tr>\n",
       "    <tr>\n",
       "      <th>mean</th>\n",
       "      <td>21146.919312</td>\n",
       "      <td>2013.198125</td>\n",
       "      <td>5.507296e+04</td>\n",
       "    </tr>\n",
       "    <tr>\n",
       "      <th>std</th>\n",
       "      <td>10753.664940</td>\n",
       "      <td>3.292326</td>\n",
       "      <td>4.088102e+04</td>\n",
       "    </tr>\n",
       "    <tr>\n",
       "      <th>min</th>\n",
       "      <td>5001.000000</td>\n",
       "      <td>1997.000000</td>\n",
       "      <td>5.000000e+00</td>\n",
       "    </tr>\n",
       "    <tr>\n",
       "      <th>25%</th>\n",
       "      <td>13499.000000</td>\n",
       "      <td>2012.000000</td>\n",
       "      <td>2.584100e+04</td>\n",
       "    </tr>\n",
       "    <tr>\n",
       "      <th>50%</th>\n",
       "      <td>18450.000000</td>\n",
       "      <td>2014.000000</td>\n",
       "      <td>4.295500e+04</td>\n",
       "    </tr>\n",
       "    <tr>\n",
       "      <th>75%</th>\n",
       "      <td>26999.000000</td>\n",
       "      <td>2016.000000</td>\n",
       "      <td>7.743300e+04</td>\n",
       "    </tr>\n",
       "    <tr>\n",
       "      <th>max</th>\n",
       "      <td>79999.000000</td>\n",
       "      <td>2018.000000</td>\n",
       "      <td>2.457832e+06</td>\n",
       "    </tr>\n",
       "  </tbody>\n",
       "</table>\n",
       "</div>"
      ],
      "text/plain": [
       "               Price           Year       Mileage\n",
       "count  400000.000000  400000.000000  4.000000e+05\n",
       "mean    21146.919312    2013.198125  5.507296e+04\n",
       "std     10753.664940       3.292326  4.088102e+04\n",
       "min      5001.000000    1997.000000  5.000000e+00\n",
       "25%     13499.000000    2012.000000  2.584100e+04\n",
       "50%     18450.000000    2014.000000  4.295500e+04\n",
       "75%     26999.000000    2016.000000  7.743300e+04\n",
       "max     79999.000000    2018.000000  2.457832e+06"
      ]
     },
     "execution_count": 8,
     "metadata": {},
     "output_type": "execute_result"
    }
   ],
   "source": [
    "data.describe()"
   ]
  },
  {
   "cell_type": "code",
   "execution_count": 9,
   "metadata": {},
   "outputs": [],
   "source": [
    "df=pd.DataFrame(data['Make'].value_counts()).reset_index().rename(columns={'index':'make','Make': 'count'})"
   ]
  },
  {
   "cell_type": "code",
   "execution_count": 10,
   "metadata": {},
   "outputs": [
    {
     "data": {
      "image/png": "[encoded data removed]",
      "text/plain": [
       "<Figure size 800x800 with 1 Axes>"
      ]
     },
     "metadata": {},
     "output_type": "display_data"
    }
   ],
   "source": [
    "# Cantidad de carros por marca\n",
    "plt.figure(figsize=(8,8))\n",
    "plot = sns.barplot(y='make',x='count',data=df)\n",
    "plot=plt.setp(plot.get_xticklabels(), rotation=45)\n",
    "\n"
   ]
  },
  {
   "cell_type": "code",
   "execution_count": 11,
   "metadata": {},
   "outputs": [],
   "source": [
    "# Make10 = data['Make'].value_counts().sort_values(ascending=False).head(3).index.tolist()\n",
    "# Make10"
   ]
  },
  {
   "cell_type": "code",
   "execution_count": 12,
   "metadata": {},
   "outputs": [],
   "source": [
    "df2=pd.DataFrame(data['State'].value_counts()).reset_index().rename(columns={'index':'state','State': 'count'})"
   ]
  },
  {
   "cell_type": "code",
   "execution_count": 13,
   "metadata": {},
   "outputs": [
    {
     "data": {
      "image/png": "[encoded data removed]",
      "text/plain": [
       "<Figure size 800x800 with 1 Axes>"
      ]
     },
     "metadata": {},
     "output_type": "display_data"
    }
   ],
   "source": [
    "# Cantidad de carros por state\n",
    "plt.figure(figsize=(8,8))\n",
    "plot = sns.barplot(y='state',x='count',data=df2)\n",
    "plot=plt.setp(plot.get_xticklabels(), rotation=45)"
   ]
  },
  {
   "cell_type": "code",
   "execution_count": 14,
   "metadata": {},
   "outputs": [],
   "source": [
    "# State10 = data['State'].value_counts().sort_values(ascending=False).head(3).index.tolist()\n",
    "# State10"
   ]
  },
  {
   "cell_type": "code",
   "execution_count": 15,
   "metadata": {},
   "outputs": [
    {
     "data": {
      "text/plain": [
       "<AxesSubplot:xlabel='Price', ylabel='Density'>"
      ]
     },
     "execution_count": 15,
     "metadata": {},
     "output_type": "execute_result"
    },
    {
     "data": {
      "image/png": "[encoded data removed]",
      "text/plain": [
       "<Figure size 640x480 with 1 Axes>"
      ]
     },
     "metadata": {},
     "output_type": "display_data"
    }
   ],
   "source": [
    "# Distribución del Precio de los carros\n",
    "sns.distplot(data['Price'],kde=True)"
   ]
  },
  {
   "cell_type": "markdown",
   "metadata": {},
   "source": [
    "### Variables Dummy"
   ]
  },
  {
   "cell_type": "code",
   "execution_count": 16,
   "metadata": {},
   "outputs": [],
   "source": [
    "# dummies_data = pd.get_dummies(data['Make'])\n",
    "# dummies_test = pd.get_dummies(test['Make'])\n",
    "\n",
    "# dummies_data_s = pd.get_dummies(data['State'])\n",
    "# dummies_test_s = pd.get_dummies(test['State'])"
   ]
  },
  {
   "cell_type": "code",
   "execution_count": 17,
   "metadata": {},
   "outputs": [],
   "source": [
    "# first = dummies_data.columns.tolist()\n",
    "# second = dummies_test.columns.tolist()\n",
    "# cols = set(first).intersection(second)\n",
    "# cols = set(cols).intersection(Make10)\n",
    "\n",
    "# data = pd.concat([data, dummies_data[cols]], axis=1)\n",
    "# test = pd.concat([test, dummies_test[cols]], axis=1)\n",
    "\n",
    "# first = dummies_data_s.columns.tolist()\n",
    "# second = dummies_test_s.columns.tolist()\n",
    "# cols = set(first).intersection(second)\n",
    "# cols = set(cols).intersection(State10)\n",
    "\n",
    "# data = pd.concat([data, dummies_data_s[cols]], axis=1)\n",
    "# test = pd.concat([test, dummies_test_s[cols]], axis=1)"
   ]
  },
  {
   "cell_type": "code",
   "execution_count": 18,
   "metadata": {},
   "outputs": [],
   "source": [
    "# Codificación de las variables categoricas\n",
    "data['State'] = pd.factorize(data.State)[0]\n",
    "data['Model'] = pd.factorize(data.Model)[0]\n",
    "data['Make'] = pd.factorize(data.Make)[0]\n",
    "\n",
    "test['State'] = pd.factorize(test.State)[0]\n",
    "test['Model'] = pd.factorize(test.Model)[0]\n",
    "test['Make'] = pd.factorize(test.Make)[0]"
   ]
  },
  {
   "cell_type": "code",
   "execution_count": 19,
   "metadata": {},
   "outputs": [],
   "source": [
    "# # df = data[['Price','Mileage','Year']]\n",
    "# df = data\n",
    "# filas = math.ceil(len(df.columns) / 3)\n",
    "# fig, a = plt.subplots(filas,3,figsize=(20, 10))\n",
    "\n",
    "# a = a.ravel()\n",
    "# titles = df.columns\n",
    "\n",
    "# for i, ax in enumerate(a):\n",
    "    \n",
    "#     if i < len(df.columns):\n",
    "#         ax.hist(df.iloc[:,i])\n",
    "#         ax.set_title(titles[i])\n",
    "# plt.tight_layout()"
   ]
  },
  {
   "cell_type": "code",
   "execution_count": 20,
   "metadata": {},
   "outputs": [],
   "source": [
    "# # df = data[['Price','Mileage','Year']]\n",
    "# df = data\n",
    "# filas = math.ceil(len(df.columns) / 3)\n",
    "# fig, a = plt.subplots(filas,3,figsize=(20, 10))\n",
    "\n",
    "# a = a.ravel()\n",
    "# titles = df.columns\n",
    "\n",
    "# for i, ax in enumerate(a):\n",
    "    \n",
    "#     if i < len(df.columns):\n",
    "#         ax.boxplot(df.iloc[:,i])\n",
    "#         ax.set_title(titles[i])\n",
    "# plt.tight_layout()"
   ]
  },
  {
   "cell_type": "code",
   "execution_count": 21,
   "metadata": {},
   "outputs": [],
   "source": [
    "# print('Cantidad Datos:',len(data))\n",
    "\n",
    "# # Control de Outliers\n",
    "# Q1 = data['Price'].quantile(0.25)\n",
    "# print('Primer Cuartil:', Q1)\n",
    "\n",
    "# Q3 = data['Price'].quantile(0.75)\n",
    "# print('Tercer Cuartil:', Q3)\n",
    "\n",
    "# IQR = Q3 - Q1\n",
    "# print('Rango Intercuartil:', IQR)\n",
    "\n",
    "# Mediana = data['Price'].median()\n",
    "# print('Mediana:', Mediana)\n",
    "\n",
    "# Valor_Minimo = data['Price'].min()\n",
    "# print('Valor Mínimo:', Valor_Minimo)\n",
    "\n",
    "# Valor_Maximo = data['Price'].max()\n",
    "# print('Valor Máximo:', Valor_Maximo)\n",
    "\n",
    "# BI_Calculado = (Q1 - 1.5 * IQR)\n",
    "# print('BI_Calculado: \\n', BI_Calculado)\n",
    "\n",
    "# BS_Calculado = (Q3 + 1.5 * IQR)\n",
    "# print('BS_Calculado: \\n', BS_Calculado)"
   ]
  },
  {
   "cell_type": "code",
   "execution_count": 22,
   "metadata": {},
   "outputs": [],
   "source": [
    "# ubicacion_outliers = (data['Price'] < BI_Calculado) | (data['Price'] > BS_Calculado)\n",
    "# outliers = data[ubicacion_outliers]\n",
    "# print('\\n Lista de Outliers \\n', outliers)\n",
    "\n",
    "# ubicacion_sin_out = (data['Price'] >= BI_Calculado) & (data['Price'] <= BS_Calculado)\n",
    "# data = data[ubicacion_sin_out]\n",
    "# data"
   ]
  },
  {
   "cell_type": "code",
   "execution_count": 23,
   "metadata": {},
   "outputs": [
    {
     "data": {
      "text/plain": [
       "<AxesSubplot:>"
      ]
     },
     "execution_count": 23,
     "metadata": {},
     "output_type": "execute_result"
    },
    {
     "data": {
      "image/png": "[encoded data removed]",
      "text/plain": [
       "<Figure size 640x480 with 1 Axes>"
      ]
     },
     "metadata": {},
     "output_type": "display_data"
    }
   ],
   "source": [
    "total = len(data)\n",
    "data['Por_Make'] = 0\n",
    "for i in data['Make'].unique():\n",
    "    data.loc[data['Make'] == i,'Por_Make'] = len(data[data['Make'] == i])/total\n",
    "\n",
    "data['Por_State'] = 0\n",
    "for i in data['State'].unique():\n",
    "    data.loc[data['State'] == i,'Por_State'] = len(data[data['State'] == i])/total\n",
    "    \n",
    "data.Por_Make.value_counts().hist()"
   ]
  },
  {
   "cell_type": "code",
   "execution_count": 24,
   "metadata": {},
   "outputs": [
    {
     "data": {
      "text/plain": [
       "<AxesSubplot:>"
      ]
     },
     "execution_count": 24,
     "metadata": {},
     "output_type": "execute_result"
    },
    {
     "data": {
      "image/png": "[encoded data removed]",
      "text/plain": [
       "<Figure size 640x480 with 1 Axes>"
      ]
     },
     "metadata": {},
     "output_type": "display_data"
    }
   ],
   "source": [
    "total = len(test)\n",
    "test['Por_Make'] = 0\n",
    "for i in test['Make'].unique():\n",
    "    test.loc[test['Make'] == i,'Por_Make'] = len(test[test['Make'] == i])/total\n",
    "\n",
    "test['Por_State'] = 0\n",
    "for i in test['State'].unique():\n",
    "    test.loc[test['State'] == i,'Por_State'] = len(test[test['State'] == i])/total\n",
    "    \n",
    "test.Por_Make.value_counts().hist()"
   ]
  },
  {
   "cell_type": "code",
   "execution_count": 25,
   "metadata": {},
   "outputs": [
    {
     "data": {
      "text/plain": [
       "<AxesSubplot:>"
      ]
     },
     "execution_count": 25,
     "metadata": {},
     "output_type": "execute_result"
    },
    {
     "data": {
      "image/png": "[encoded data removed]",
      "text/plain": [
       "<Figure size 640x480 with 2 Axes>"
      ]
     },
     "metadata": {},
     "output_type": "display_data"
    }
   ],
   "source": [
    "sns.heatmap(data.corr())"
   ]
  },
  {
   "cell_type": "code",
   "execution_count": 26,
   "metadata": {},
   "outputs": [],
   "source": [
    "# Selección de variables numéricas (X)\n",
    "\n",
    "X = data.drop(['Price','State','Make','Model'], axis=1)\n",
    "test = test.drop(['Make','State','Model'], axis=1)\n",
    "\n",
    "X['YxM'] = X['Year'] * X['Mileage']\n",
    "test['YxM'] = test['Year'] * test['Mileage']\n",
    "\n",
    "# Definición variable de interés binaria (y)\n",
    "y = data['Price']"
   ]
  },
  {
   "cell_type": "code",
   "execution_count": 27,
   "metadata": {},
   "outputs": [
    {
     "data": {
      "text/html": [
       "<div>\n",
       "<style scoped>\n",
       "    .dataframe tbody tr th:only-of-type {\n",
       "        vertical-align: middle;\n",
       "    }\n",
       "\n",
       "    .dataframe tbody tr th {\n",
       "        vertical-align: top;\n",
       "    }\n",
       "\n",
       "    .dataframe thead th {\n",
       "        text-align: right;\n",
       "    }\n",
       "</style>\n",
       "<table border=\"1\" class=\"dataframe\">\n",
       "  <thead>\n",
       "    <tr style=\"text-align: right;\">\n",
       "      <th></th>\n",
       "      <th>Year</th>\n",
       "      <th>Mileage</th>\n",
       "      <th>Por_Make</th>\n",
       "      <th>Por_State</th>\n",
       "      <th>YxM</th>\n",
       "    </tr>\n",
       "  </thead>\n",
       "  <tbody>\n",
       "    <tr>\n",
       "      <th>0</th>\n",
       "      <td>2017</td>\n",
       "      <td>9913</td>\n",
       "      <td>0.060922</td>\n",
       "      <td>0.084398</td>\n",
       "      <td>19994521</td>\n",
       "    </tr>\n",
       "    <tr>\n",
       "      <th>1</th>\n",
       "      <td>2015</td>\n",
       "      <td>20578</td>\n",
       "      <td>0.145957</td>\n",
       "      <td>0.028410</td>\n",
       "      <td>41464670</td>\n",
       "    </tr>\n",
       "    <tr>\n",
       "      <th>2</th>\n",
       "      <td>2012</td>\n",
       "      <td>83716</td>\n",
       "      <td>0.030815</td>\n",
       "      <td>0.114795</td>\n",
       "      <td>168436592</td>\n",
       "    </tr>\n",
       "    <tr>\n",
       "      <th>3</th>\n",
       "      <td>2014</td>\n",
       "      <td>28729</td>\n",
       "      <td>0.013535</td>\n",
       "      <td>0.028410</td>\n",
       "      <td>57860206</td>\n",
       "    </tr>\n",
       "    <tr>\n",
       "      <th>4</th>\n",
       "      <td>2013</td>\n",
       "      <td>64032</td>\n",
       "      <td>0.060922</td>\n",
       "      <td>0.027187</td>\n",
       "      <td>128896416</td>\n",
       "    </tr>\n",
       "    <tr>\n",
       "      <th>...</th>\n",
       "      <td>...</td>\n",
       "      <td>...</td>\n",
       "      <td>...</td>\n",
       "      <td>...</td>\n",
       "      <td>...</td>\n",
       "    </tr>\n",
       "    <tr>\n",
       "      <th>399995</th>\n",
       "      <td>2015</td>\n",
       "      <td>25287</td>\n",
       "      <td>0.034160</td>\n",
       "      <td>0.114795</td>\n",
       "      <td>50953305</td>\n",
       "    </tr>\n",
       "    <tr>\n",
       "      <th>399996</th>\n",
       "      <td>2015</td>\n",
       "      <td>17677</td>\n",
       "      <td>0.145957</td>\n",
       "      <td>0.013317</td>\n",
       "      <td>35619155</td>\n",
       "    </tr>\n",
       "    <tr>\n",
       "      <th>399997</th>\n",
       "      <td>2014</td>\n",
       "      <td>66688</td>\n",
       "      <td>0.012105</td>\n",
       "      <td>0.044825</td>\n",
       "      <td>134309632</td>\n",
       "    </tr>\n",
       "    <tr>\n",
       "      <th>399998</th>\n",
       "      <td>2014</td>\n",
       "      <td>37872</td>\n",
       "      <td>0.027775</td>\n",
       "      <td>0.019625</td>\n",
       "      <td>76274208</td>\n",
       "    </tr>\n",
       "    <tr>\n",
       "      <th>399999</th>\n",
       "      <td>2014</td>\n",
       "      <td>78606</td>\n",
       "      <td>0.026423</td>\n",
       "      <td>0.027187</td>\n",
       "      <td>158312484</td>\n",
       "    </tr>\n",
       "  </tbody>\n",
       "</table>\n",
       "<p>400000 rows × 5 columns</p>\n",
       "</div>"
      ],
      "text/plain": [
       "        Year  Mileage  Por_Make  Por_State        YxM\n",
       "0       2017     9913  0.060922   0.084398   19994521\n",
       "1       2015    20578  0.145957   0.028410   41464670\n",
       "2       2012    83716  0.030815   0.114795  168436592\n",
       "3       2014    28729  0.013535   0.028410   57860206\n",
       "4       2013    64032  0.060922   0.027187  128896416\n",
       "...      ...      ...       ...        ...        ...\n",
       "399995  2015    25287  0.034160   0.114795   50953305\n",
       "399996  2015    17677  0.145957   0.013317   35619155\n",
       "399997  2014    66688  0.012105   0.044825  134309632\n",
       "399998  2014    37872  0.027775   0.019625   76274208\n",
       "399999  2014    78606  0.026423   0.027187  158312484\n",
       "\n",
       "[400000 rows x 5 columns]"
      ]
     },
     "execution_count": 27,
     "metadata": {},
     "output_type": "execute_result"
    }
   ],
   "source": [
    "X"
   ]
  },
  {
   "cell_type": "code",
   "execution_count": 28,
   "metadata": {},
   "outputs": [],
   "source": [
    "# Separación de variables predictoras (X) y variable de interés (y) en set de entrenamiento y test usandola función train_test_split\n",
    "from sklearn.model_selection import train_test_split\n",
    "X_train, X_test, y_train, y_test = train_test_split(X, y, test_size=0.33, random_state=40)"
   ]
  },
  {
   "cell_type": "code",
   "execution_count": 29,
   "metadata": {},
   "outputs": [],
   "source": [
    "# estimator = ElasticNet(alpha=0.0005, l1_ratio= .9, random_state= random_state)\n",
    "\n",
    "# selector = RFE(estimator, n_features_to_select=20, step=1) #Se define step=1, pero lo puede cambiar para que sea más rápido\n",
    "# selector = selector.fit(X_train, y_train) # esto puede tardar algunos minutos\n",
    "\n",
    "# selected_vars = X_train.iloc[:,selector.support_].columns\n",
    "# selected_vars = ['Year','Mileage','YxM','Por_Make','Por_State']"
   ]
  },
  {
   "cell_type": "code",
   "execution_count": 30,
   "metadata": {},
   "outputs": [],
   "source": [
    "# X_train = X_train[selected_vars]\n",
    "# X_test = X_test[selected_vars]\n",
    "# test = test[selected_vars]"
   ]
  },
  {
   "cell_type": "code",
   "execution_count": 31,
   "metadata": {},
   "outputs": [
    {
     "data": {
      "text/html": [
       "<div>\n",
       "<style scoped>\n",
       "    .dataframe tbody tr th:only-of-type {\n",
       "        vertical-align: middle;\n",
       "    }\n",
       "\n",
       "    .dataframe tbody tr th {\n",
       "        vertical-align: top;\n",
       "    }\n",
       "\n",
       "    .dataframe thead th {\n",
       "        text-align: right;\n",
       "    }\n",
       "</style>\n",
       "<table border=\"1\" class=\"dataframe\">\n",
       "  <thead>\n",
       "    <tr style=\"text-align: right;\">\n",
       "      <th></th>\n",
       "      <th>Year</th>\n",
       "      <th>Mileage</th>\n",
       "      <th>Por_Make</th>\n",
       "      <th>Por_State</th>\n",
       "      <th>YxM</th>\n",
       "    </tr>\n",
       "  </thead>\n",
       "  <tbody>\n",
       "    <tr>\n",
       "      <th>105079</th>\n",
       "      <td>2013</td>\n",
       "      <td>47857</td>\n",
       "      <td>0.052085</td>\n",
       "      <td>0.044825</td>\n",
       "      <td>96336141</td>\n",
       "    </tr>\n",
       "    <tr>\n",
       "      <th>390719</th>\n",
       "      <td>2011</td>\n",
       "      <td>16161</td>\n",
       "      <td>0.114852</td>\n",
       "      <td>0.044825</td>\n",
       "      <td>32499771</td>\n",
       "    </tr>\n",
       "    <tr>\n",
       "      <th>80432</th>\n",
       "      <td>2014</td>\n",
       "      <td>30513</td>\n",
       "      <td>0.037643</td>\n",
       "      <td>0.019625</td>\n",
       "      <td>61453182</td>\n",
       "    </tr>\n",
       "    <tr>\n",
       "      <th>390536</th>\n",
       "      <td>2015</td>\n",
       "      <td>48226</td>\n",
       "      <td>0.040880</td>\n",
       "      <td>0.020073</td>\n",
       "      <td>97175390</td>\n",
       "    </tr>\n",
       "    <tr>\n",
       "      <th>148784</th>\n",
       "      <td>2012</td>\n",
       "      <td>72000</td>\n",
       "      <td>0.157248</td>\n",
       "      <td>0.007820</td>\n",
       "      <td>144864000</td>\n",
       "    </tr>\n",
       "    <tr>\n",
       "      <th>...</th>\n",
       "      <td>...</td>\n",
       "      <td>...</td>\n",
       "      <td>...</td>\n",
       "      <td>...</td>\n",
       "      <td>...</td>\n",
       "    </tr>\n",
       "    <tr>\n",
       "      <th>316722</th>\n",
       "      <td>2015</td>\n",
       "      <td>43672</td>\n",
       "      <td>0.016977</td>\n",
       "      <td>0.012355</td>\n",
       "      <td>87999080</td>\n",
       "    </tr>\n",
       "    <tr>\n",
       "      <th>318904</th>\n",
       "      <td>2010</td>\n",
       "      <td>102222</td>\n",
       "      <td>0.016977</td>\n",
       "      <td>0.006860</td>\n",
       "      <td>205466220</td>\n",
       "    </tr>\n",
       "    <tr>\n",
       "      <th>355320</th>\n",
       "      <td>2017</td>\n",
       "      <td>17389</td>\n",
       "      <td>0.040880</td>\n",
       "      <td>0.009260</td>\n",
       "      <td>35073613</td>\n",
       "    </tr>\n",
       "    <tr>\n",
       "      <th>292871</th>\n",
       "      <td>2017</td>\n",
       "      <td>42947</td>\n",
       "      <td>0.052085</td>\n",
       "      <td>0.023185</td>\n",
       "      <td>86624099</td>\n",
       "    </tr>\n",
       "    <tr>\n",
       "      <th>375003</th>\n",
       "      <td>2014</td>\n",
       "      <td>35862</td>\n",
       "      <td>0.082977</td>\n",
       "      <td>0.031117</td>\n",
       "      <td>72226068</td>\n",
       "    </tr>\n",
       "  </tbody>\n",
       "</table>\n",
       "<p>268000 rows × 5 columns</p>\n",
       "</div>"
      ],
      "text/plain": [
       "        Year  Mileage  Por_Make  Por_State        YxM\n",
       "105079  2013    47857  0.052085   0.044825   96336141\n",
       "390719  2011    16161  0.114852   0.044825   32499771\n",
       "80432   2014    30513  0.037643   0.019625   61453182\n",
       "390536  2015    48226  0.040880   0.020073   97175390\n",
       "148784  2012    72000  0.157248   0.007820  144864000\n",
       "...      ...      ...       ...        ...        ...\n",
       "316722  2015    43672  0.016977   0.012355   87999080\n",
       "318904  2010   102222  0.016977   0.006860  205466220\n",
       "355320  2017    17389  0.040880   0.009260   35073613\n",
       "292871  2017    42947  0.052085   0.023185   86624099\n",
       "375003  2014    35862  0.082977   0.031117   72226068\n",
       "\n",
       "[268000 rows x 5 columns]"
      ]
     },
     "execution_count": 31,
     "metadata": {},
     "output_type": "execute_result"
    }
   ],
   "source": [
    "X_train"
   ]
  },
  {
   "cell_type": "markdown",
   "metadata": {},
   "source": [
    "## Data Standarization"
   ]
  },
  {
   "cell_type": "code",
   "execution_count": 32,
   "metadata": {},
   "outputs": [],
   "source": [
    "# Escalamiento\n",
    "X_train = MinMaxScaler().fit_transform(X_train)\n",
    "X_test = MinMaxScaler().fit_transform(X_test)\n",
    "test = MinMaxScaler().fit_transform(test)"
   ]
  },
  {
   "cell_type": "code",
   "execution_count": 33,
   "metadata": {},
   "outputs": [],
   "source": [
    "models_scores = [] # To store model scores\n",
    "\n",
    "def rmse(model):\n",
    "    model.fit(X_train, y_train)\n",
    "    y_pred = model.predict(X_test)\n",
    "    \n",
    "    return mean_squared_error(y_test, y_pred, squared= False) # squared= False > returns Root Mean Square Error                  "
   ]
  },
  {
   "cell_type": "markdown",
   "metadata": {},
   "source": [
    "### Hiperparámetros"
   ]
  },
  {
   "cell_type": "code",
   "execution_count": 34,
   "metadata": {},
   "outputs": [],
   "source": [
    "# reg_decision_model=DecisionTreeRegressor()\n",
    "\n",
    "# # Hyper parameters range intialization for tuning \n",
    "# parameters={\"splitter\":[\"best\",\"random\"],\n",
    "#             \"max_depth\" : [1,3,5,7,9,11,12],\n",
    "#            \"min_samples_leaf\":[1,2,3,4,5,6,7,8,9,10],\n",
    "#            \"min_weight_fraction_leaf\":[0.1,0.2,0.3,0.4,0.5,0.6,0.7,0.8,0.9],\n",
    "#            \"max_features\":[\"auto\",\"log2\",\"sqrt\",None],\n",
    "#            \"max_leaf_nodes\":[None,10,20,30,40,50,60,70,80,90] }\n",
    "\n",
    "# # calculating different regression metrics\n",
    "# from sklearn.model_selection import GridSearchCV\n",
    "# tuning_model=GridSearchCV(reg_decision_model,param_grid=parameters,scoring='neg_mean_squared_error',cv=3,verbose=3)\n",
    "\n",
    "# # function for calculating how much time take for hyperparameter tuning\n",
    "# def timer(start_time=None):\n",
    "#     if not start_time:\n",
    "#         start_time=datetime.now()\n",
    "#         return start_time\n",
    "#     elif start_time:\n",
    "#         thour,temp_sec=divmod((datetime.now()-start_time).total_seconds(),3600)\n",
    "#         tmin,tsec=divmod(temp_sec,60)\n",
    "        \n",
    "\n",
    "# from datetime import datetime\n",
    "# start_time=timer(None)\n",
    "# tuning_model.fit(X_train,y_train)\n",
    "# timer(start_time)\n",
    "\n",
    "# # best hyperparameters \n",
    "# tuning_model.best_params_\n",
    "\n",
    "# # best model score\n",
    "# tuning_model.best_score_"
   ]
  },
  {
   "cell_type": "code",
   "execution_count": 35,
   "metadata": {},
   "outputs": [],
   "source": [
    "# tuning_model.best_params_"
   ]
  },
  {
   "cell_type": "markdown",
   "metadata": {},
   "source": [
    "### Bagging"
   ]
  },
  {
   "cell_type": "code",
   "execution_count": 36,
   "metadata": {},
   "outputs": [
    {
     "name": "stdout",
     "output_type": "stream",
     "text": [
      "RMSE BaggingRegressor Score = 9707.25523944949\n"
     ]
    }
   ],
   "source": [
    "# Creación de Metamodelos de Bagging\n",
    "\n",
    "# Estimador base\n",
    "regresor = DecisionTreeRegressor(max_depth = 12, max_features = 'sqrt', max_leaf_nodes = None, \n",
    "                                 min_samples_leaf = 8, min_weight_fraction_leaf = 0.1, splitter = 'best', random_state= random_state)\n",
    "\n",
    "n = 200 # Número de modelos\n",
    "\n",
    "# Modelos bagging para regresión con 30% de muestra\n",
    "meta_regresor = BaggingRegressor(base_estimator=regresor, n_estimators=n, max_samples=0.30).fit(X_train, y_train)\n",
    "\n",
    "#RMSE\n",
    "score = rmse(meta_regresor)\n",
    "models_scores.append(['BaggingRegressor', score])\n",
    "print(f'RMSE BaggingRegressor Score = {score}')"
   ]
  },
  {
   "cell_type": "markdown",
   "metadata": {},
   "source": [
    "### Linear Regression"
   ]
  },
  {
   "cell_type": "code",
   "execution_count": 37,
   "metadata": {},
   "outputs": [
    {
     "name": "stdout",
     "output_type": "stream",
     "text": [
      "LinearRegression Score= 16837.8017602825\n"
     ]
    }
   ],
   "source": [
    "linear_regression = make_pipeline(LinearRegression())\n",
    "score = rmse(linear_regression)\n",
    "\n",
    "models_scores.append(['LinearRegression', score])\n",
    "print(f'LinearRegression Score= {score}')"
   ]
  },
  {
   "cell_type": "markdown",
   "metadata": {},
   "source": [
    "### Lasso"
   ]
  },
  {
   "cell_type": "code",
   "execution_count": 38,
   "metadata": {},
   "outputs": [
    {
     "name": "stdout",
     "output_type": "stream",
     "text": [
      "Lasso Score= 11670.439481340563\n"
     ]
    }
   ],
   "source": [
    "lasso = make_pipeline(RobustScaler(), Lasso(alpha=0.0005, random_state= random_state))\n",
    "\n",
    "score = rmse(lasso)\n",
    "models_scores.append(['Lasso', score])\n",
    "print(f'Lasso Score= {score}')"
   ]
  },
  {
   "cell_type": "markdown",
   "metadata": {},
   "source": [
    "### Elastic Net"
   ]
  },
  {
   "cell_type": "code",
   "execution_count": 39,
   "metadata": {},
   "outputs": [
    {
     "name": "stdout",
     "output_type": "stream",
     "text": [
      "ElasticNet Score= 11670.552130762582\n"
     ]
    }
   ],
   "source": [
    "elastic_net = make_pipeline(RobustScaler(), ElasticNet(alpha=0.0005, l1_ratio= .9, random_state= random_state))\n",
    "\n",
    "score = rmse(elastic_net)\n",
    "models_scores.append(['ElasticNet', score])\n",
    "print(f'ElasticNet Score= {score}')"
   ]
  },
  {
   "cell_type": "markdown",
   "metadata": {},
   "source": [
    "## Calibración de Hiperparámetros"
   ]
  },
  {
   "cell_type": "code",
   "execution_count": 40,
   "metadata": {},
   "outputs": [],
   "source": [
    "# # Gradient Boosting\n",
    "# # Validación empleando k-cross-validation y neg_root_mean_squared_error\n",
    "# # ==============================================================================\n",
    "# train_scores = []\n",
    "# cv_scores    = []\n",
    "\n",
    "# # Valores evaluados\n",
    "# estimator_range = range(1, 500, 25)\n",
    "\n",
    "# # Bucle para entrenar un modelo con cada valor de n_estimators y extraer su error\n",
    "# # de entrenamiento y de k-cross-validation.\n",
    "# for n_estimators in estimator_range:\n",
    "    \n",
    "#     modelo = GradientBoostingRegressor(\n",
    "#                 n_estimators = n_estimators,\n",
    "#                 loss         = 'ls',\n",
    "#                 max_features = 'auto',\n",
    "#                 random_state = 123\n",
    "#              )\n",
    "    \n",
    "#     # Error de train\n",
    "#     modelo.fit(X_train, y_train)\n",
    "#     predicciones = modelo.predict(X = X_train)\n",
    "#     rmse = mean_squared_error(\n",
    "#             y_true  = y_train,\n",
    "#             y_pred  = predicciones,\n",
    "#             squared = False\n",
    "#            )\n",
    "#     train_scores.append(rmse)\n",
    "    \n",
    "#     # Error de validación cruzada\n",
    "#     scores = cross_val_score(\n",
    "#                 estimator = modelo,\n",
    "#                 X         = X_train,\n",
    "#                 y         = y_train,\n",
    "#                 scoring   = 'neg_root_mean_squared_error',\n",
    "#                 cv        = 5,\n",
    "#                 n_jobs    = multiprocessing.cpu_count() - 1,\n",
    "#              )\n",
    "#     # Se agregan los scores de cross_val_score() y se pasa a positivo\n",
    "#     cv_scores.append(-1*scores.mean())\n",
    "    \n",
    "# # Gráfico con la evolución de los errores\n",
    "# fig, ax = plt.subplots(figsize=(6, 3.84))\n",
    "# ax.plot(estimator_range, train_scores, label=\"train scores\")\n",
    "# ax.plot(estimator_range, cv_scores, label=\"cv scores\")\n",
    "# ax.plot(estimator_range[np.argmin(cv_scores)], min(cv_scores),\n",
    "#         marker='o', color = \"red\", label=\"min score\")\n",
    "# ax.set_ylabel(\"root_mean_squared_error\")\n",
    "# ax.set_xlabel(\"n_estimators\")\n",
    "# ax.set_title(\"Evolución del cv-error vs número árboles\")\n",
    "# plt.legend();\n",
    "# print(f\"Valor óptimo de n_estimators: {estimator_range[np.argmin(cv_scores)]}\")"
   ]
  },
  {
   "cell_type": "code",
   "execution_count": 41,
   "metadata": {},
   "outputs": [],
   "source": [
    "# # Validación empleando k-cross-validation y neg_root_mean_squared_error\n",
    "# # ==============================================================================\n",
    "# resultados = {}\n",
    "\n",
    "# # Valores evaluados\n",
    "# learning_rates = [0.001, 0.01, 0.1]\n",
    "# n_estimators   = [10, 20, 100, 200, 300, 400, 500]\n",
    "\n",
    "\n",
    "# # Bucle para entrenar un modelo con cada combinacion de  learning_rate y n_estimator \n",
    "# # y extraer su error de entrenamiento y k-cross-validation.\n",
    "# for learning_rate in learning_rates:\n",
    "#     train_scores = []\n",
    "#     cv_scores    = []\n",
    "    \n",
    "#     for n_estimator in n_estimators:\n",
    "    \n",
    "#         modelo = GradientBoostingRegressor(\n",
    "#                     n_estimators  = n_estimator,\n",
    "#                     learning_rate = learning_rate,\n",
    "#                     loss          = 'ls',\n",
    "#                     max_features  = 'auto',\n",
    "#                     random_state  = 123\n",
    "#                  )\n",
    "\n",
    "#         # Error de train\n",
    "#         modelo.fit(X_train, y_train)\n",
    "#         predicciones = modelo.predict(X = X_train)\n",
    "#         rmse = mean_squared_error(\n",
    "#                 y_true  = y_train,\n",
    "#                 y_pred  = predicciones,\n",
    "#                 squared = False\n",
    "#                )\n",
    "#         train_scores.append(rmse)\n",
    "\n",
    "#         # Error de validación cruzada\n",
    "#         scores = cross_val_score(\n",
    "#                     estimator = modelo,\n",
    "#                     X         = X_train,\n",
    "#                     y         = y_train,\n",
    "#                     scoring   = 'neg_root_mean_squared_error',\n",
    "#                     cv        = 3,\n",
    "#                     n_jobs    = multiprocessing.cpu_count() - 1\n",
    "#                  )\n",
    "#         # Se agregan los scores de cross_val_score() y se pasa a positivo\n",
    "#         cv_scores.append(-1*scores.mean())\n",
    "        \n",
    "#     resultados[learning_rate] = {'train_scores': train_scores, 'cv_scores': cv_scores}\n",
    "\n",
    "# # Gráfico con la evolución de los errores de entrenamiento\n",
    "# fig, axs = plt.subplots(nrows=1, ncols=2, figsize=(12, 3.84))\n",
    "\n",
    "# for key, value in resultados.items():\n",
    "#     axs[0].plot(n_estimators, value['train_scores'], label=f\"Learning rate {key}\")\n",
    "#     axs[0].set_ylabel(\"root_mean_squared_error\")\n",
    "#     axs[0].set_xlabel(\"n_estimators\")\n",
    "#     axs[0].set_title(\"Evolución del train error vs learning rate\")\n",
    "    \n",
    "#     axs[1].plot(n_estimators, value['cv_scores'], label=f\"Learning rate {key}\")\n",
    "#     axs[1].set_ylabel(\"root_mean_squared_error\")\n",
    "#     axs[1].set_xlabel(\"n_estimators\")\n",
    "#     axs[1].set_title(\"Evolución del cv-error vs learning rate\")\n",
    "#     plt.legend();"
   ]
  },
  {
   "cell_type": "code",
   "execution_count": 42,
   "metadata": {},
   "outputs": [],
   "source": [
    "# # Validación empleando k-cross-validation y neg_root_mean_squared_error\n",
    "# # ==============================================================================\n",
    "# train_scores = []\n",
    "# cv_scores    = []\n",
    "\n",
    "# # Valores evaluados\n",
    "# max_depths = [1, 3, 5, 10, 20]\n",
    "\n",
    "# # Bucle para entrenar un modelo con cada valor de max_depth y extraer su error\n",
    "# # de entrenamiento y de k-cross-validation.\n",
    "# for max_depth in max_depths:\n",
    "    \n",
    "#     modelo = GradientBoostingRegressor(\n",
    "#                 n_estimators = 100,\n",
    "#                 loss         = 'ls',\n",
    "#                 max_depth    = max_depth,\n",
    "#                 max_features = 'auto',\n",
    "#                 random_state = 123\n",
    "#              )\n",
    "    \n",
    "#     # Error de train\n",
    "#     modelo.fit(X_train, y_train)\n",
    "#     predicciones = modelo.predict(X = X_train)\n",
    "#     rmse = mean_squared_error(\n",
    "#             y_true  = y_train,\n",
    "#             y_pred  = predicciones,\n",
    "#             squared = False\n",
    "#            )\n",
    "#     train_scores.append(rmse)\n",
    "    \n",
    "#     # Error de validación cruzada\n",
    "#     scores = cross_val_score(\n",
    "#                 estimator = modelo,\n",
    "#                 X         = X_train,\n",
    "#                 y         = y_train,\n",
    "#                 scoring   = 'neg_root_mean_squared_error',\n",
    "#                 cv        = 5,\n",
    "#                 n_jobs    = multiprocessing.cpu_count() - 1\n",
    "#              )\n",
    "#     # Se agregan los scores de cross_val_score() y se pasa a positivo\n",
    "#     cv_scores.append(-1*scores.mean())\n",
    "    \n",
    "# # Gráfico con la evolución de los errores\n",
    "# fig, ax = plt.subplots(figsize=(6, 3.84))\n",
    "# ax.plot(max_depths, train_scores, label=\"train scores\")\n",
    "# ax.plot(max_depths, cv_scores, label=\"cv scores\")\n",
    "# ax.plot(max_depths[np.argmin(cv_scores)], min(cv_scores),\n",
    "#         marker='o', color = \"red\", label=\"min score\")\n",
    "# ax.set_ylabel(\"root_mean_squared_error\")\n",
    "# ax.set_xlabel(\"max_depth\")\n",
    "# ax.set_title(\"Evolución del cv-error vs profundidad árboles\")\n",
    "# plt.legend();\n",
    "# print(f\"Valor óptimo de max_depth: {max_depths[np.argmin(cv_scores)]}\")"
   ]
  },
  {
   "cell_type": "code",
   "execution_count": 43,
   "metadata": {},
   "outputs": [],
   "source": [
    "# XGB Regresor"
   ]
  },
  {
   "cell_type": "code",
   "execution_count": 44,
   "metadata": {},
   "outputs": [],
   "source": [
    "# LGBM Regresor"
   ]
  },
  {
   "cell_type": "markdown",
   "metadata": {},
   "source": [
    "### Gradient Boosting"
   ]
  },
  {
   "cell_type": "code",
   "execution_count": 45,
   "metadata": {},
   "outputs": [
    {
     "name": "stdout",
     "output_type": "stream",
     "text": [
      "GradientBoostingRegressor Score= 8665.818918838202\n"
     ]
    }
   ],
   "source": [
    "gradient_boosting_regressor= GradientBoostingRegressor(n_estimators=100, learning_rate=0.1,\n",
    "                                   max_depth=3, max_features='sqrt',\n",
    "                                   min_samples_leaf=15, min_samples_split=10, \n",
    "                                   random_state = random_state)\n",
    "\n",
    "score = rmse(gradient_boosting_regressor)\n",
    "models_scores.append(['GradientBoostingRegressor', score])\n",
    "print(f'GradientBoostingRegressor Score= {score}')"
   ]
  },
  {
   "cell_type": "markdown",
   "metadata": {},
   "source": [
    "### XGB Regressor"
   ]
  },
  {
   "cell_type": "code",
   "execution_count": 46,
   "metadata": {},
   "outputs": [
    {
     "name": "stdout",
     "output_type": "stream",
     "text": [
      "XGBRegressor Score= 9331.363756839877\n"
     ]
    }
   ],
   "source": [
    "xgb_regressor= xgb.XGBRegressor(learning_rate=0.05, max_depth=3, \n",
    "                              n_estimators=50, verbosity=0,  random_state = random_state)\n",
    "\n",
    "score = rmse(xgb_regressor)\n",
    "models_scores.append(['XGBRegressor', score])\n",
    "print(f'XGBRegressor Score= {score}')"
   ]
  },
  {
   "cell_type": "markdown",
   "metadata": {},
   "source": [
    "### LGBM Regressor"
   ]
  },
  {
   "cell_type": "code",
   "execution_count": 47,
   "metadata": {},
   "outputs": [
    {
     "name": "stdout",
     "output_type": "stream",
     "text": [
      "[LightGBM] [Warning] feature_fraction is set=0.2319, colsample_bytree=1.0 will be ignored. Current value: feature_fraction=0.2319\n",
      "[LightGBM] [Warning] min_data_in_leaf is set=6, min_child_samples=20 will be ignored. Current value: min_data_in_leaf=6\n",
      "[LightGBM] [Warning] min_sum_hessian_in_leaf is set=11, min_child_weight=0.001 will be ignored. Current value: min_sum_hessian_in_leaf=11\n",
      "[LightGBM] [Warning] bagging_fraction is set=0.8, subsample=1.0 will be ignored. Current value: bagging_fraction=0.8\n",
      "[LightGBM] [Warning] bagging_freq is set=5, subsample_freq=0 will be ignored. Current value: bagging_freq=5\n",
      "LGBMRegressor Score= 8632.033788436534\n"
     ]
    }
   ],
   "source": [
    "lgbm_regressor= lgb.LGBMRegressor(objective='regression',num_leaves=5,\n",
    "                              learning_rate=0.05, n_estimators=720,\n",
    "                              max_bin = 55, bagging_fraction = 0.8,\n",
    "                              bagging_freq = 5, feature_fraction = 0.2319,\n",
    "                              feature_fraction_seed=9, bagging_seed=9,\n",
    "                              min_data_in_leaf =6, min_sum_hessian_in_leaf = 11,random_state = random_state)\n",
    "\n",
    "score = rmse(lgbm_regressor)\n",
    "models_scores.append(['LGBMRegressor', score])\n",
    "print(f'LGBMRegressor Score= {score}')"
   ]
  },
  {
   "cell_type": "code",
   "execution_count": 48,
   "metadata": {},
   "outputs": [
    {
     "name": "stdout",
     "output_type": "stream",
     "text": [
      "rmse= 8657.647228202755\n"
     ]
    }
   ],
   "source": [
    "estimators = [ ('lgbm_regressor', lgbm_regressor) , ('GradientBoostingRegressor', gradient_boosting_regressor),('xgb_regressor', xgb_regressor) ]\n",
    "\n",
    "stack = StackingRegressor(estimators=estimators, final_estimator= lasso, cv= 5, n_jobs= n_jobs, passthrough = True)\n",
    "\n",
    "stack.fit(X_train, y_train)\n",
    "\n",
    "pred = stack.predict(X_test)\n",
    "\n",
    "rmse_val = mean_squared_error(y_test, pred, squared= False) # squared= False > returns Root Mean Square Error    \n",
    "models_scores.append(['Stacking', rmse_val])\n",
    "print(f'rmse= {rmse_val}')"
   ]
  },
  {
   "cell_type": "code",
   "execution_count": 49,
   "metadata": {},
   "outputs": [
    {
     "data": {
      "text/plain": [
       "array([21704.77904299, 28934.18438453, 19877.84483224, ...,\n",
       "       19805.27768858, 24505.17655706, 17530.33312423])"
      ]
     },
     "execution_count": 49,
     "metadata": {},
     "output_type": "execute_result"
    }
   ],
   "source": [
    "# Predicción del conjunto de test - acá se genera un número aleatorio como ejemplo\n",
    "y_pred_test = meta_regresor.predict(test)\n",
    "y_pred = pd.DataFrame(y_pred_test, index=dataTesting.index, columns=['Price'])\n",
    "y_pred_test"
   ]
  },
  {
   "cell_type": "code",
   "execution_count": 50,
   "metadata": {},
   "outputs": [
    {
     "data": {
      "text/html": [
       "<div>\n",
       "<style scoped>\n",
       "    .dataframe tbody tr th:only-of-type {\n",
       "        vertical-align: middle;\n",
       "    }\n",
       "\n",
       "    .dataframe tbody tr th {\n",
       "        vertical-align: top;\n",
       "    }\n",
       "\n",
       "    .dataframe thead th {\n",
       "        text-align: right;\n",
       "    }\n",
       "</style>\n",
       "<table border=\"1\" class=\"dataframe\">\n",
       "  <thead>\n",
       "    <tr style=\"text-align: right;\">\n",
       "      <th></th>\n",
       "      <th>Price</th>\n",
       "    </tr>\n",
       "    <tr>\n",
       "      <th>ID</th>\n",
       "      <th></th>\n",
       "    </tr>\n",
       "  </thead>\n",
       "  <tbody>\n",
       "    <tr>\n",
       "      <th>0</th>\n",
       "      <td>21704.779043</td>\n",
       "    </tr>\n",
       "    <tr>\n",
       "      <th>1</th>\n",
       "      <td>28934.184385</td>\n",
       "    </tr>\n",
       "    <tr>\n",
       "      <th>2</th>\n",
       "      <td>19877.844832</td>\n",
       "    </tr>\n",
       "    <tr>\n",
       "      <th>3</th>\n",
       "      <td>12187.483242</td>\n",
       "    </tr>\n",
       "    <tr>\n",
       "      <th>4</th>\n",
       "      <td>23201.233067</td>\n",
       "    </tr>\n",
       "  </tbody>\n",
       "</table>\n",
       "</div>"
      ],
      "text/plain": [
       "           Price\n",
       "ID              \n",
       "0   21704.779043\n",
       "1   28934.184385\n",
       "2   19877.844832\n",
       "3   12187.483242\n",
       "4   23201.233067"
      ]
     },
     "execution_count": 50,
     "metadata": {},
     "output_type": "execute_result"
    }
   ],
   "source": [
    "# Guardar predicciones en formato exigido en la competencia de kaggle\n",
    "y_pred.to_csv('test_submission.csv', index_label='ID')\n",
    "y_pred.head()"
   ]
  },
  {
   "cell_type": "code",
   "execution_count": 51,
   "metadata": {},
   "outputs": [
    {
     "data": {
      "text/plain": [
       "array([[0.52380952, 0.10051748, 0.02251479, 0.23122655, 0.10056755],\n",
       "       [0.47619048, 0.05465147, 0.16793869, 0.16486409, 0.05465145],\n",
       "       [0.80952381, 0.02110728, 0.52763468, 0.26571309, 0.0211809 ],\n",
       "       ...,\n",
       "       [0.80952381, 0.04445565, 0.38736246, 0.10951451, 0.0446107 ],\n",
       "       [0.71428571, 0.05631293, 0.16793869, 0.23122655, 0.05645322],\n",
       "       [0.85714286, 0.02144208, 0.38736246, 0.23122655, 0.02152755]])"
      ]
     },
     "execution_count": 51,
     "metadata": {},
     "output_type": "execute_result"
    }
   ],
   "source": [
    "X_test"
   ]
  },
  {
   "cell_type": "markdown",
   "metadata": {},
   "source": [
    "## Microservicios"
   ]
  },
  {
   "cell_type": "code",
   "execution_count": 52,
   "metadata": {},
   "outputs": [
    {
     "data": {
      "text/plain": [
       "['C:/Users/ElkinDavidPeñaRuiz/OneDrive - CARBOMAX DE COLOMBIA S.A.S/PERSONALES/MIAD/CICLO 4/Machine Learning y PLN/MIAD_UNIANDES/model/car_price_reg.pkl']"
      ]
     },
     "execution_count": 52,
     "metadata": {},
     "output_type": "execute_result"
    }
   ],
   "source": [
    "# Exportar modelo a archivo binario .pkl\n",
    "joblib.dump(meta_regresor, 'C:/Users/ElkinDavidPeñaRuiz/OneDrive - CARBOMAX DE COLOMBIA S.A.S/PERSONALES/MIAD/CICLO 4/Machine Learning y PLN/MIAD_UNIANDES/model/car_price_reg.pkl', compress=3)"
   ]
  },
  {
   "cell_type": "code",
   "execution_count": 53,
   "metadata": {},
   "outputs": [],
   "source": [
    "# # Importar modelo y predicción\n",
    "# from model.model_deployment import predict\n",
    "\n",
    "# # Predicción\n",
    "# predict(2017,9913)"
   ]
  },
  {
   "cell_type": "markdown",
   "metadata": {},
   "source": [
    "# Disponibilizar modelo con Flask"
   ]
  },
  {
   "cell_type": "code",
   "execution_count": 54,
   "metadata": {},
   "outputs": [],
   "source": [
    "# # Importación librerías\n",
    "# from flask import Flask\n",
    "# from flask_restx import Api, Resource, fields"
   ]
  },
  {
   "cell_type": "code",
   "execution_count": 55,
   "metadata": {},
   "outputs": [],
   "source": [
    "# # Definición aplicación Flask\n",
    "# app = Flask(__name__)\n",
    "\n",
    "# # Definición API Flask\n",
    "# api = Api(\n",
    "#     app, \n",
    "#     version='1.0', \n",
    "#     title='Car Price Prediction API',\n",
    "#     description='Car Price Prediction API')\n",
    "\n",
    "# ns = api.namespace('predict', \n",
    "#      description='Car Price Regression')\n",
    "\n",
    "# # Definición argumentos o parámetros de la API\n",
    "# parser = api.parser()\n",
    "# # \tYear\tMileage\tState\tMake\n",
    "# parser.add_argument(\n",
    "#     'YEAR', \n",
    "#     type=int, \n",
    "#     required=True, \n",
    "#     help='Año de Fabricación', \n",
    "#     location='args')\n",
    "\n",
    "# parser.add_argument(\n",
    "#     'MILEAGE', \n",
    "#     type=int, \n",
    "#     required=True, \n",
    "#     help='Kilometraje', \n",
    "#     location='args')\n",
    "\n",
    "# resource_fields = api.model('Resource', {\n",
    "#     'result': fields.String,\n",
    "# })"
   ]
  },
  {
   "cell_type": "code",
   "execution_count": 56,
   "metadata": {},
   "outputs": [],
   "source": [
    "# # Definición de la clase para disponibilización\n",
    "# @ns.route('/')\n",
    "# class CarPriceApi(Resource):\n",
    "\n",
    "#     @api.doc(parser=parser)\n",
    "#     @api.marshal_with(resource_fields)\n",
    "#     def get(self):\n",
    "#         args = parser.parse_args()\n",
    "        \n",
    "#         return {\n",
    "#          \"result\": predict(args['YEAR'],args['MILEAGE'])\n",
    "#         }, 200"
   ]
  },
  {
   "cell_type": "code",
   "execution_count": 57,
   "metadata": {
    "scrolled": true
   },
   "outputs": [],
   "source": [
    "# # Ejecución de la aplicación que disponibiliza el modelo de manera local en el puerto 5000\n",
    "# app.run(debug=True, use_reloader=False, host='0.0.0.0', port=5000)"
   ]
  },
  {
   "cell_type": "code",
   "execution_count": null,
   "metadata": {},
   "outputs": [],
   "source": []
  }
 ],
 "metadata": {
  "kernelspec": {
   "display_name": "Python 3",
   "language": "python",
   "name": "python3"
  },
  "language_info": {
   "codemirror_mode": {
    "name": "ipython",
    "version": 3
   },
   "file_extension": ".py",
   "mimetype": "text/x-python",
   "name": "python",
   "nbconvert_exporter": "python",
   "pygments_lexer": "ipython3",
   "version": "3.8.8"
  }
 },
 "nbformat": 4,
 "nbformat_minor": 4
}
