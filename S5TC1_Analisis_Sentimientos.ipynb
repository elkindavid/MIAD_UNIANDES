{
 "cells": [
  {
   "cell_type": "markdown",
   "metadata": {},
   "source": [
    "![image info](https://raw.githubusercontent.com/albahnsen/MIAD_ML_and_NLP/main/images/banner_1.png)"
   ]
  },
  {
   "cell_type": "markdown",
   "metadata": {},
   "source": [
    "# Taller: Análisis de sentimientos y técnicas de NLP\n",
    "\n",
    "En este taller podrán poner en práctica sus conocimientos sobre las diferentes técnicas para el procesamiento de lenguaje natural. El taller está constituido por 5 puntos, en los cuales deberan seguir las intrucciones de cada numeral para su desarrollo."
   ]
  },
  {
   "cell_type": "markdown",
   "metadata": {},
   "source": [
    "## Datos predicción sentimientos de viajeros en Twitter\n",
    "\n",
    "En este taller se usará el conjunto de datos de sentimientos sobre distintas aerolíneas de EE.UU. provenientes de Twitter. Cada observación contiene si el sentimiento de los tweets es positivo, neutral o negativo teniendo en cuenta distintas variables como aerolínea y las razones de los sentimientos negativos (como \"retraso en el vuelo\" o \"servicio grosero\"). El objetivo es predecir el sentimiento asociado a cada tweet. Para más detalles pueden visitar el siguiente enlace: [datos](https://www.kaggle.com/crowdflower/twitter-airline-sentiment)."
   ]
  },
  {
   "cell_type": "code",
   "execution_count": 1,
   "metadata": {},
   "outputs": [],
   "source": [
    "import warnings\n",
    "warnings.filterwarnings('ignore')"
   ]
  },
  {
   "cell_type": "code",
   "execution_count": 2,
   "metadata": {},
   "outputs": [
    {
     "name": "stderr",
     "output_type": "stream",
     "text": [
      "[nltk_data] Downloading package wordnet to\n",
      "[nltk_data]     C:\\Users\\andre\\AppData\\Roaming\\nltk_data...\n",
      "[nltk_data]   Package wordnet is already up-to-date!\n"
     ]
    },
    {
     "data": {
      "text/plain": [
       "True"
      ]
     },
     "execution_count": 2,
     "metadata": {},
     "output_type": "execute_result"
    }
   ],
   "source": [
    "# Importación de librerías\n",
    "import pandas as pd\n",
    "import numpy as np\n",
    "%matplotlib inline\n",
    "import matplotlib.pyplot as plt\n",
    "\n",
    "from nltk.stem import WordNetLemmatizer\n",
    "wordnet_lemmatizer = WordNetLemmatizer()\n",
    "import nltk\n",
    "nltk.download('wordnet')"
   ]
  },
  {
   "cell_type": "code",
   "execution_count": 3,
   "metadata": {},
   "outputs": [
    {
     "data": {
      "text/html": [
       "<div>\n",
       "<style scoped>\n",
       "    .dataframe tbody tr th:only-of-type {\n",
       "        vertical-align: middle;\n",
       "    }\n",
       "\n",
       "    .dataframe tbody tr th {\n",
       "        vertical-align: top;\n",
       "    }\n",
       "\n",
       "    .dataframe thead th {\n",
       "        text-align: right;\n",
       "    }\n",
       "</style>\n",
       "<table border=\"1\" class=\"dataframe\">\n",
       "  <thead>\n",
       "    <tr style=\"text-align: right;\">\n",
       "      <th></th>\n",
       "      <th>airline_sentiment</th>\n",
       "      <th>airline_sentiment_confidence</th>\n",
       "      <th>negativereason</th>\n",
       "      <th>negativereason_confidence</th>\n",
       "      <th>airline</th>\n",
       "      <th>airline_sentiment_gold</th>\n",
       "      <th>name</th>\n",
       "      <th>negativereason_gold</th>\n",
       "      <th>retweet_count</th>\n",
       "      <th>text</th>\n",
       "      <th>tweet_coord</th>\n",
       "      <th>tweet_created</th>\n",
       "      <th>tweet_location</th>\n",
       "      <th>user_timezone</th>\n",
       "    </tr>\n",
       "    <tr>\n",
       "      <th>tweet_id</th>\n",
       "      <th></th>\n",
       "      <th></th>\n",
       "      <th></th>\n",
       "      <th></th>\n",
       "      <th></th>\n",
       "      <th></th>\n",
       "      <th></th>\n",
       "      <th></th>\n",
       "      <th></th>\n",
       "      <th></th>\n",
       "      <th></th>\n",
       "      <th></th>\n",
       "      <th></th>\n",
       "      <th></th>\n",
       "    </tr>\n",
       "  </thead>\n",
       "  <tbody>\n",
       "    <tr>\n",
       "      <th>570306133677760513</th>\n",
       "      <td>neutral</td>\n",
       "      <td>1.0000</td>\n",
       "      <td>NaN</td>\n",
       "      <td>NaN</td>\n",
       "      <td>Virgin America</td>\n",
       "      <td>NaN</td>\n",
       "      <td>cairdin</td>\n",
       "      <td>NaN</td>\n",
       "      <td>0</td>\n",
       "      <td>@VirginAmerica What @dhepburn said.</td>\n",
       "      <td>NaN</td>\n",
       "      <td>2015-02-24 11:35:52 -0800</td>\n",
       "      <td>NaN</td>\n",
       "      <td>Eastern Time (US &amp; Canada)</td>\n",
       "    </tr>\n",
       "    <tr>\n",
       "      <th>570301130888122368</th>\n",
       "      <td>positive</td>\n",
       "      <td>0.3486</td>\n",
       "      <td>NaN</td>\n",
       "      <td>0.0000</td>\n",
       "      <td>Virgin America</td>\n",
       "      <td>NaN</td>\n",
       "      <td>jnardino</td>\n",
       "      <td>NaN</td>\n",
       "      <td>0</td>\n",
       "      <td>@VirginAmerica plus you've added commercials t...</td>\n",
       "      <td>NaN</td>\n",
       "      <td>2015-02-24 11:15:59 -0800</td>\n",
       "      <td>NaN</td>\n",
       "      <td>Pacific Time (US &amp; Canada)</td>\n",
       "    </tr>\n",
       "    <tr>\n",
       "      <th>570301083672813571</th>\n",
       "      <td>neutral</td>\n",
       "      <td>0.6837</td>\n",
       "      <td>NaN</td>\n",
       "      <td>NaN</td>\n",
       "      <td>Virgin America</td>\n",
       "      <td>NaN</td>\n",
       "      <td>yvonnalynn</td>\n",
       "      <td>NaN</td>\n",
       "      <td>0</td>\n",
       "      <td>@VirginAmerica I didn't today... Must mean I n...</td>\n",
       "      <td>NaN</td>\n",
       "      <td>2015-02-24 11:15:48 -0800</td>\n",
       "      <td>Lets Play</td>\n",
       "      <td>Central Time (US &amp; Canada)</td>\n",
       "    </tr>\n",
       "    <tr>\n",
       "      <th>570301031407624196</th>\n",
       "      <td>negative</td>\n",
       "      <td>1.0000</td>\n",
       "      <td>Bad Flight</td>\n",
       "      <td>0.7033</td>\n",
       "      <td>Virgin America</td>\n",
       "      <td>NaN</td>\n",
       "      <td>jnardino</td>\n",
       "      <td>NaN</td>\n",
       "      <td>0</td>\n",
       "      <td>@VirginAmerica it's really aggressive to blast...</td>\n",
       "      <td>NaN</td>\n",
       "      <td>2015-02-24 11:15:36 -0800</td>\n",
       "      <td>NaN</td>\n",
       "      <td>Pacific Time (US &amp; Canada)</td>\n",
       "    </tr>\n",
       "    <tr>\n",
       "      <th>570300817074462722</th>\n",
       "      <td>negative</td>\n",
       "      <td>1.0000</td>\n",
       "      <td>Can't Tell</td>\n",
       "      <td>1.0000</td>\n",
       "      <td>Virgin America</td>\n",
       "      <td>NaN</td>\n",
       "      <td>jnardino</td>\n",
       "      <td>NaN</td>\n",
       "      <td>0</td>\n",
       "      <td>@VirginAmerica and it's a really big bad thing...</td>\n",
       "      <td>NaN</td>\n",
       "      <td>2015-02-24 11:14:45 -0800</td>\n",
       "      <td>NaN</td>\n",
       "      <td>Pacific Time (US &amp; Canada)</td>\n",
       "    </tr>\n",
       "  </tbody>\n",
       "</table>\n",
       "</div>"
      ],
      "text/plain": [
       "                   airline_sentiment  airline_sentiment_confidence  \\\n",
       "tweet_id                                                             \n",
       "570306133677760513           neutral                        1.0000   \n",
       "570301130888122368          positive                        0.3486   \n",
       "570301083672813571           neutral                        0.6837   \n",
       "570301031407624196          negative                        1.0000   \n",
       "570300817074462722          negative                        1.0000   \n",
       "\n",
       "                   negativereason  negativereason_confidence         airline  \\\n",
       "tweet_id                                                                       \n",
       "570306133677760513            NaN                        NaN  Virgin America   \n",
       "570301130888122368            NaN                     0.0000  Virgin America   \n",
       "570301083672813571            NaN                        NaN  Virgin America   \n",
       "570301031407624196     Bad Flight                     0.7033  Virgin America   \n",
       "570300817074462722     Can't Tell                     1.0000  Virgin America   \n",
       "\n",
       "                   airline_sentiment_gold        name negativereason_gold  \\\n",
       "tweet_id                                                                    \n",
       "570306133677760513                    NaN     cairdin                 NaN   \n",
       "570301130888122368                    NaN    jnardino                 NaN   \n",
       "570301083672813571                    NaN  yvonnalynn                 NaN   \n",
       "570301031407624196                    NaN    jnardino                 NaN   \n",
       "570300817074462722                    NaN    jnardino                 NaN   \n",
       "\n",
       "                    retweet_count  \\\n",
       "tweet_id                            \n",
       "570306133677760513              0   \n",
       "570301130888122368              0   \n",
       "570301083672813571              0   \n",
       "570301031407624196              0   \n",
       "570300817074462722              0   \n",
       "\n",
       "                                                                 text  \\\n",
       "tweet_id                                                                \n",
       "570306133677760513                @VirginAmerica What @dhepburn said.   \n",
       "570301130888122368  @VirginAmerica plus you've added commercials t...   \n",
       "570301083672813571  @VirginAmerica I didn't today... Must mean I n...   \n",
       "570301031407624196  @VirginAmerica it's really aggressive to blast...   \n",
       "570300817074462722  @VirginAmerica and it's a really big bad thing...   \n",
       "\n",
       "                   tweet_coord              tweet_created tweet_location  \\\n",
       "tweet_id                                                                   \n",
       "570306133677760513         NaN  2015-02-24 11:35:52 -0800            NaN   \n",
       "570301130888122368         NaN  2015-02-24 11:15:59 -0800            NaN   \n",
       "570301083672813571         NaN  2015-02-24 11:15:48 -0800      Lets Play   \n",
       "570301031407624196         NaN  2015-02-24 11:15:36 -0800            NaN   \n",
       "570300817074462722         NaN  2015-02-24 11:14:45 -0800            NaN   \n",
       "\n",
       "                                 user_timezone  \n",
       "tweet_id                                        \n",
       "570306133677760513  Eastern Time (US & Canada)  \n",
       "570301130888122368  Pacific Time (US & Canada)  \n",
       "570301083672813571  Central Time (US & Canada)  \n",
       "570301031407624196  Pacific Time (US & Canada)  \n",
       "570300817074462722  Pacific Time (US & Canada)  "
      ]
     },
     "execution_count": 3,
     "metadata": {},
     "output_type": "execute_result"
    }
   ],
   "source": [
    "# Lectura de la información de archivo .zip\n",
    "tweets = pd.read_csv('https://raw.githubusercontent.com/albahnsen/MIAD_ML_and_NLP/main/datasets/Tweets.zip', index_col=0)\n",
    "\n",
    "# Visualización dataset\n",
    "tweets.head()"
   ]
  },
  {
   "cell_type": "code",
   "execution_count": 4,
   "metadata": {},
   "outputs": [
    {
     "data": {
      "text/plain": [
       "(14640, 14)"
      ]
     },
     "execution_count": 4,
     "metadata": {},
     "output_type": "execute_result"
    }
   ],
   "source": [
    "# Impresión tamaño del cojunto de datos\n",
    "tweets.shape"
   ]
  },
  {
   "cell_type": "markdown",
   "metadata": {},
   "source": [
    "### Análisis descriptivo"
   ]
  },
  {
   "cell_type": "code",
   "execution_count": 5,
   "metadata": {},
   "outputs": [
    {
     "data": {
      "text/plain": [
       "negative    9178\n",
       "neutral     3099\n",
       "positive    2363\n",
       "Name: airline_sentiment, dtype: int64"
      ]
     },
     "execution_count": 5,
     "metadata": {},
     "output_type": "execute_result"
    }
   ],
   "source": [
    "# Cuenta de tweets por cada sentimiento\n",
    "tweets['airline_sentiment'].value_counts()"
   ]
  },
  {
   "cell_type": "code",
   "execution_count": 6,
   "metadata": {},
   "outputs": [
    {
     "data": {
      "text/plain": [
       "United            3822\n",
       "US Airways        2913\n",
       "American          2759\n",
       "Southwest         2420\n",
       "Delta             2222\n",
       "Virgin America     504\n",
       "Name: airline, dtype: int64"
      ]
     },
     "execution_count": 6,
     "metadata": {},
     "output_type": "execute_result"
    }
   ],
   "source": [
    "# Cuenta de tweets por cada aerolínea\n",
    "tweets['airline'].value_counts()"
   ]
  },
  {
   "cell_type": "code",
   "execution_count": 7,
   "metadata": {},
   "outputs": [
    {
     "data": {
      "text/plain": [
       "<AxesSubplot:title={'center':'Sentiminetos por aerolínea'}, xlabel='airline'>"
      ]
     },
     "execution_count": 7,
     "metadata": {},
     "output_type": "execute_result"
    },
    {
     "data": {
      "image/png": "[encoded data removed]",
      "text/plain": [
       "<Figure size 720x432 with 1 Axes>"
      ]
     },
     "metadata": {
      "needs_background": "light"
     },
     "output_type": "display_data"
    }
   ],
   "source": [
    "# Plot con cuenta de tweets por cada aerolínea y sentimiento\n",
    "pd.crosstab(index = tweets[\"airline\"],columns = tweets[\"airline_sentiment\"]).plot(kind='bar',figsize=(10, 6),alpha=0.5,rot=0,stacked=True,title=\"Sentiminetos por aerolínea\")"
   ]
  },
  {
   "cell_type": "markdown",
   "metadata": {},
   "source": [
    "### Liberias y Variables de interés y predicción"
   ]
  },
  {
   "cell_type": "code",
   "execution_count": 8,
   "metadata": {},
   "outputs": [],
   "source": [
    "from sklearn.model_selection import train_test_split, cross_val_score\n",
    "from sklearn.feature_extraction.text import CountVectorizer, TfidfVectorizer\n",
    "from sklearn.ensemble import RandomForestClassifier\n",
    "from nltk.stem.snowball import SnowballStemmer\n",
    "from nltk.stem import WordNetLemmatizer\n",
    "from sklearn.metrics import accuracy_score\n",
    "import re"
   ]
  },
  {
   "cell_type": "code",
   "execution_count": 9,
   "metadata": {},
   "outputs": [],
   "source": [
    "# Separación de variables predictoras (X) y de variable de interés (y)\n",
    "X = tweets['text']\n",
    "y = tweets['airline_sentiment'].map({'negative':-1,'neutral':0,'positive':1})"
   ]
  },
  {
   "cell_type": "code",
   "execution_count": 10,
   "metadata": {},
   "outputs": [],
   "source": [
    "# Separación de datos en set de entrenamiento y test\n",
    "X_train, X_test, y_train, y_test = train_test_split(X, y, test_size=0.33, random_state=42)"
   ]
  },
  {
   "cell_type": "markdown",
   "metadata": {},
   "source": [
    "### Punto 1 - Uso de CountVectorizer\n",
    "\n",
    "En la celda 1 creen un modelo de random forest con la libreria sklearn que prediga el sentimiento de los tweets usando los set de entrenamiento y test definidos anteriormente. Usen la función **CountVectorizer** y presenten el desempeño del modelo con la métrica del acurracy.\n",
    "\n",
    "Recuerden que el preprocesamiento que se haga sobre los datos de entrenamiento  (*.fit_transform()*) deben ser aplicado al set de test (*.transform()*)."
   ]
  },
  {
   "cell_type": "code",
   "execution_count": 11,
   "metadata": {},
   "outputs": [
    {
     "name": "stdout",
     "output_type": "stream",
     "text": [
      "La precisión del modelo en el conjunto de entrenamiento es: 0.6914763458401305\n",
      "La precisión del modelo en el conjunto de prueba es: 0.6841887417218543\n"
     ]
    }
   ],
   "source": [
    "# Celda 1\n",
    "\n",
    "# preprocesamiento de datos\n",
    "vectorizer = CountVectorizer( max_features=1000)\n",
    "X_train_vectorized = vectorizer.fit_transform(X_train)\n",
    "X_test_vectorized = vectorizer.transform(X_test)\n",
    "\n",
    "model = RandomForestClassifier(n_estimators=100, max_depth=15, min_samples_leaf=1)\n",
    "model.fit(X_train_vectorized, y_train)\n",
    "y_train_pred = model.predict(X_train_vectorized)\n",
    "train_accuracy_cv = accuracy_score(y_train, y_train_pred)\n",
    "#métricas\n",
    "y_test_pred = model.predict(X_test_vectorized)\n",
    "test_accuracy_cv = accuracy_score(y_test, y_test_pred)\n",
    "\n",
    "print(\"La precisión del modelo en el conjunto de entrenamiento es:\", train_accuracy_cv)\n",
    "print(\"La precisión del modelo en el conjunto de prueba es:\", test_accuracy_cv)"
   ]
  },
  {
   "cell_type": "markdown",
   "metadata": {},
   "source": [
    "### Punto 2 - Eliminación de Stopwords\n",
    "\n",
    "En la celda 2 creen un modelo de random forest con la libreria sklearn que prediga el sentimiento de los tweets usando los set de entrenamiento y test definidos anteriormente. Usen la función CountVectorizer, **eliminen stopwords** y presenten el desempeño del modelo con la métrica del acurracy.\n",
    "\n",
    "Recuerden que el preprocesamiento que se haga sobre los datos de entrenamiento  (*.fit_transform()*) deben ser aplicado al set de test (*.transform()*)."
   ]
  },
  {
   "cell_type": "code",
   "execution_count": 12,
   "metadata": {},
   "outputs": [
    {
     "name": "stdout",
     "output_type": "stream",
     "text": [
      "Stopwords eliminadas en el modelo: frozenset({\"it's\", 'me', 'yourselves', 'yourself', 've', 'doing', 'out', \"that'll\", 'against', 'll', 'how', 'than', 'o', \"you've\", 'they', 'wasn', 'because', 'about', 'by', 'does', 'all', 'what', 'that', 'before', 'ourselves', 'she', 'myself', 'under', 'an', 'isn', 'when', 'won', 'his', \"hasn't\", 'hasn', 'to', 'again', 'can', 'the', 'ain', 'himself', 'my', 'her', 'our', 'in', 'only', 'had', 'yours', 'while', 'why', \"mightn't\", \"shan't\", 'and', 'be', 'is', \"don't\", 'too', 'hers', 'both', 'these', 'will', 'which', \"should've\", \"weren't\", 'shan', 'for', \"you'll\", 'haven', 'a', 'from', 'more', 'through', 'theirs', 'them', 'were', 'on', 'whom', 'here', \"couldn't\", 'up', 'am', \"shouldn't\", 'most', 'we', 'not', 'into', 'of', 'at', 'hadn', 'nor', 'each', 'herself', 'with', 's', 'few', 'wouldn', \"wasn't\", 'doesn', \"she's\", 'was', 'needn', 'you', 'during', 'until', 'now', 'your', 'are', 'then', \"didn't\", 'between', \"won't\", 'its', 'off', 'their', 'over', 'did', 'themselves', 'have', 'once', 'there', 'after', 'couldn', 'itself', 'other', 'mightn', 'don', 'aren', 'above', 'down', 'or', 'ma', 'so', 'i', 'him', 'has', 'should', \"haven't\", 'same', 'do', 'own', 'below', 'this', 'some', 'it', 'having', \"you'd\", 'as', 'such', 't', 'weren', 'any', 'mustn', 'who', 'm', 'being', 're', \"you're\", 'y', 'further', 'if', 'been', 'just', 'ours', 'those', 'where', 'he', 'd'})\n",
      "La precisión del modelo en el conjunto de entrenamiento es: 0.6840334420880914\n",
      "La precisión del modelo en el conjunto de prueba es: 0.6812913907284768\n"
     ]
    }
   ],
   "source": [
    "# Celda 2\n",
    "\n",
    "# lista de stopwords en inglés, excluyendo palabras que se consideran importantes en nuestro problema\n",
    "stopwords_english = set(nltk.corpus.stopwords.words('english')) - set([\"no\", \"doesn't\",\"didn\",\"hadn't\",\"wouldn't\",\"shouldn\",\"aren't\",\"mustn't\",\"needn't\",\"isn't\",\"but\",\"very\"])\n",
    "\n",
    "# Crea un objeto CountVectorizer con max_features y stop_words\n",
    "vectorizer = CountVectorizer(max_features=1000, stop_words=stopwords_english)\n",
    "\n",
    "# Ajusta el vectorizador en los datos de entrenamiento y transforma los datos de prueba\n",
    "X_train_vectorized = vectorizer.fit_transform(X_train)\n",
    "X_test_vectorized = vectorizer.transform(X_test)\n",
    "\n",
    "# Entrena un modelo RandomForestClassifier con los datos vectorizados\n",
    "model = RandomForestClassifier(n_estimators=100, max_depth=15, min_samples_leaf=1)\n",
    "model.fit(X_train_vectorized, y_train)\n",
    "\n",
    "# Realiza las predicciones y calcula la precisión\n",
    "y_train_pred = model.predict(X_train_vectorized)\n",
    "train_accuracy_sw = accuracy_score(y_train, y_train_pred)\n",
    "\n",
    "y_test_pred = model.predict(X_test_vectorized)\n",
    "test_accuracy_sw = accuracy_score(y_test, y_test_pred)\n",
    "\n",
    "# Imprime la lista de stopwords utilizada en el modelo\n",
    "print(\"Stopwords eliminadas en el modelo:\", vectorizer.get_stop_words())\n",
    "\n",
    "# Imprime las métricas de precisión\n",
    "print(\"La precisión del modelo en el conjunto de entrenamiento es:\", train_accuracy_sw)\n",
    "print(\"La precisión del modelo en el conjunto de prueba es:\", test_accuracy_sw)"
   ]
  },
  {
   "cell_type": "markdown",
   "metadata": {},
   "source": [
    "Al usar el mtodo de StopWords con el listado de palabras en Ingles, nos damos cuenta que el modelo arroja un resultado mucho más bajo que con el método de CountVentorizer, por lo cuál se decide imprimir el listado de palabras que está eliminando en nuestros datos y se identifican algunas  palabras que pueden ser relevantes para identificar el tipo de sentimiento de acuerdo a nuestra clasificación que al excluirlas no da un mejor resultado."
   ]
  },
  {
   "cell_type": "markdown",
   "metadata": {},
   "source": [
    "### Punto 3 - Lematización con verbos\n",
    "\n",
    "En la celda 3 creen un modelo de random forest con la libreria sklearn que prediga el sentimiento de los tweets usando los set de entrenamiento y test definidos anteriormente. Usen la función CountVectorizer, **lematizen el texto con verbos** y presenten el desempeño del modelo con la métrica del acurracy.\n",
    "\n",
    "Recuerden que el preprocesamiento que se haga sobre los datos de entrenamiento  (*.fit_transform()*) deben ser aplicado al set de test (*.transform()*)."
   ]
  },
  {
   "cell_type": "code",
   "execution_count": 13,
   "metadata": {},
   "outputs": [
    {
     "name": "stdout",
     "output_type": "stream",
     "text": [
      "La precisión del modelo para los datos de entrenamiento es: 0.623062805872757\n",
      "La precisión del modelo para los datos de prueba es: 0.6392798013245033\n"
     ]
    }
   ],
   "source": [
    "# Celda 3\n",
    "\n",
    "# definir la función para dividir el texto en lemas\n",
    "def split_into_lemmas(text):\n",
    "    text = text.lower()\n",
    "    words = text.split()\n",
    "    return [wordnet_lemmatizer.lemmatize(word) for word in words]\n",
    "\n",
    "# vectorizar los datos de entrenamiento y prueba\n",
    "vect_lemas = CountVectorizer( analyzer=split_into_lemmas)\n",
    "X_train_vect_lemas = vect_lemas.fit_transform(X_train)\n",
    "X_test_vect_lemas = vect_lemas.transform(X_test)\n",
    "\n",
    "# crear el modelo de Random Forest\n",
    "model = RandomForestClassifier(n_estimators=100, max_depth=15, min_samples_leaf=1)\n",
    "\n",
    "# entrenar el modelo con los datos de entrenamiento\n",
    "model.fit(X_train_vect_lemas, y_train)\n",
    "\n",
    "# predecir los datos de entrenamiento y prueba\n",
    "y_pred_train_vect_lemas = model.predict(X_train_vect_lemas)\n",
    "y_pred_test_vect_lemas = model.predict(X_test_vect_lemas)\n",
    "\n",
    "# calcular la precisión del modelo para los datos de entrenamiento y prueba\n",
    "accuracy_train_vect_lemas = accuracy_score(y_train, y_pred_train_vect_lemas)\n",
    "accuracy_test_vect_lemas = accuracy_score(y_test, y_pred_test_vect_lemas)\n",
    "\n",
    "# imprimir la precisión del modelo para los datos de entrenamiento y prueba\n",
    "print(\"La precisión del modelo para los datos de entrenamiento es:\", accuracy_train_vect_lemas)\n",
    "print(\"La precisión del modelo para los datos de prueba es:\", accuracy_test_vect_lemas)"
   ]
  },
  {
   "cell_type": "markdown",
   "metadata": {},
   "source": [
    "### Punto 4 - Multiples técnicas\n",
    "\n",
    "En la celda 4 creen un modelo de random forest con la libreria sklearn que prediga el sentimiento de los tweets usando los set de entrenamiento y test definidos anteriormente. Usen la función **CountVectorizer, eliminen stopwords, lematizen el texto con verbos** y presenten el desempeño del modelo con la métrica del acurracy.\n",
    "\n",
    "Recuerden que el preprocesamiento que se haga sobre los datos de entrenamiento  (*.fit_transform()*) deben ser aplicado al set de test (*.transform()*)."
   ]
  },
  {
   "cell_type": "code",
   "execution_count": 14,
   "metadata": {},
   "outputs": [
    {
     "name": "stdout",
     "output_type": "stream",
     "text": [
      "La precisión del modelo para los datos de entrenamiento es: 0.6228588907014682\n",
      "La precisión del modelo para los datos de prueba es: 0.6390728476821192\n"
     ]
    }
   ],
   "source": [
    "# Celda 4\n",
    "\n",
    "stopwords_english = set(nltk.corpus.stopwords.words('english')) - set([\"no\", \"doesn't\",\"didn\",\"hadn't\",\"wouldn't\",\"shouldn\",\"aren't\",\"mustn't\",\"needn't\",\"isn't\",\"but\",\"very\"])\n",
    "\n",
    "# definir la función para dividir el texto en lemas\n",
    "def split_into_lemmas(text):\n",
    "    text = text.lower()\n",
    "    words = text.split()\n",
    "    return [wordnet_lemmatizer.lemmatize(word) for word in words]\n",
    "\n",
    "# vectorizar los datos de entrenamiento y prueba\n",
    "vect_lemas = CountVectorizer(analyzer=split_into_lemmas,stop_words=stopwords_english)\n",
    "X_train_vect_lemas = vect_lemas.fit_transform(X_train)\n",
    "X_test_vect_lemas = vect_lemas.transform(X_test)\n",
    "\n",
    "# crear el modelo de Random Forest\n",
    "model = RandomForestClassifier(n_estimators=100, max_depth=15, min_samples_leaf=1)\n",
    "\n",
    "# entrenar el modelo con los datos de entrenamiento\n",
    "model.fit(X_train_vect_lemas, y_train)\n",
    "\n",
    "# predecir los datos de entrenamiento y prueba\n",
    "y_pred_train_vect_lemas = model.predict(X_train_vect_lemas)\n",
    "y_pred_test_vect_lemas = model.predict(X_test_vect_lemas)\n",
    "\n",
    "# calcular la precisión del modelo para los datos de entrenamiento y prueba\n",
    "accuracy_train_mult = accuracy_score(y_train, y_pred_train_vect_lemas)\n",
    "accuracy_test_mult = accuracy_score(y_test, y_pred_test_vect_lemas)\n",
    "\n",
    "# imprimir la precisión del modelo para los datos de entrenamiento y prueba\n",
    "print(\"La precisión del modelo para los datos de entrenamiento es:\", accuracy_train_mult)\n",
    "print(\"La precisión del modelo para los datos de prueba es:\", accuracy_test_mult)"
   ]
  },
  {
   "cell_type": "markdown",
   "metadata": {},
   "source": [
    "### Punto 5 - Comparación y análisis de resultados\n",
    "\n",
    "En la celda 5 comparen los resultados obtenidos de los diferentes modelos (random forest) y comenten las ventajas del mejor modelo y las desventajas del modelo con el menor desempeño."
   ]
  },
  {
   "cell_type": "code",
   "execution_count": 15,
   "metadata": {},
   "outputs": [
    {
     "data": {
      "image/png": "[encoded data removed]",
      "text/plain": [
       "<Figure size 432x288 with 1 Axes>"
      ]
     },
     "metadata": {
      "needs_background": "light"
     },
     "output_type": "display_data"
    },
    {
     "data": {
      "image/png": "[encoded data removed]",
      "text/plain": [
       "<Figure size 432x288 with 1 Axes>"
      ]
     },
     "metadata": {
      "needs_background": "light"
     },
     "output_type": "display_data"
    }
   ],
   "source": [
    "# Celda 5\n",
    "import matplotlib.pyplot as plt\n",
    "\n",
    "# Crear gráfica para train\n",
    "train_metrics = [train_accuracy_cv, train_accuracy_sw, accuracy_train_vect_lemas, accuracy_train_mult]\n",
    "train_labels = ['CV', 'StopWords', 'Lemmas', 'Multiple']\n",
    "\n",
    "plt.bar(train_labels, train_metrics, color=['green', 'blue', 'red', 'orange'])\n",
    "plt.ylim([0.5, 0.75])\n",
    "plt.title('Train Metrics')\n",
    "plt.xlabel('Technique')\n",
    "plt.ylabel('Accuracy')\n",
    "\n",
    "# Agregar etiquetas de las barras\n",
    "for i, v in enumerate(train_metrics):\n",
    "    plt.text(i, v + 0.01, str(round(v, 3)), color='black', ha='center')\n",
    "\n",
    "plt.show()\n",
    "\n",
    "# Crear gráfica para test\n",
    "test_metrics = [test_accuracy_cv, test_accuracy_sw, accuracy_test_vect_lemas, accuracy_test_mult]\n",
    "test_labels = ['CV', 'StopWords', 'Lemmas', 'Multiple']\n",
    "\n",
    "plt.bar(test_labels, test_metrics, color=['green', 'blue', 'red', 'orange'])\n",
    "plt.ylim([0.5, 0.75])\n",
    "plt.title('Test Metrics')\n",
    "plt.xlabel('Technique')\n",
    "plt.ylabel('Accuracy')\n",
    "\n",
    "# Agregar etiquetas de las barras\n",
    "for i, v in enumerate(test_metrics):\n",
    "    plt.text(i, v + 0.01, str(round(v, 3)), color='black', ha='center')\n",
    "\n",
    "plt.show()"
   ]
  },
  {
   "cell_type": "markdown",
   "metadata": {},
   "source": [
    "Las gráficas anteriores comparan los resultados de la métrica accuracy para las distintas opciones de modelo, la primera gráfica para los datos de entrenamiento y otra para los de prueba. La primera estimación coresponde al modelo que únicamente usa el \"CountVectorizer\" como herramienta para generar un vector de representación de los textos, a pesar de ser la opción más simple, tuvo el modelo con el mejor desempeño en cuanto a precisión tanto en train como test. Como ventajas del countvectorizer podríamos argumentar que su relativa simplicidad implica una carga computacional menor que algunos de los otros métodos disponibles. En contraste, el método más complejo, que incluia la combinación de limpieza de stopwords y lemmatización fue la alternativa con el menor desempeño desde la métrica del accuracy. En teoría, al retirar los stopwords enfocamos el modelo en las palabras que realmente le dan el sentido a las frases retirando palabras de uso común. Así mismo, el uso de lematización permite relacionar las palabras con sus raices de acuerdo a su forma base o de diccionario. Las desventaja de los algoritmos de Lematización podría ser su mayor complejidad, lo que podría tener un costo computacional más alto.\n",
    "\n",
    "De modo que para el ejercicio se obtuvieron resultados contraintuitivos, pues en teoría el modelo que combinaba múltiples métodos debería ser más robusto y tener desempeños superiores al countvectorizer. En este set de datos, la aproximación más directa y con menor procesamiento generó con el mejor desempeño al medirlo con la métrica del accuracy. "
   ]
  },
  {
   "cell_type": "code",
   "execution_count": null,
   "metadata": {},
   "outputs": [],
   "source": []
  }
 ],
 "metadata": {
  "kernelspec": {
   "display_name": "Python 3 (ipykernel)",
   "language": "python",
   "name": "python3"
  },
  "language_info": {
   "codemirror_mode": {
    "name": "ipython",
    "version": 3
   },
   "file_extension": ".py",
   "mimetype": "text/x-python",
   "name": "python",
   "nbconvert_exporter": "python",
   "pygments_lexer": "ipython3",
   "version": "3.9.13"
  }
 },
 "nbformat": 4,
 "nbformat_minor": 4
}
