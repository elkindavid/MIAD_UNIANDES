{
 "cells": [
  {
   "cell_type": "markdown",
   "id": "4ae68bbb",
   "metadata": {},
   "source": [
    "![image info](https://raw.githubusercontent.com/albahnsen/MIAD_ML_and_NLP/main/images/banner_1.png)"
   ]
  },
  {
   "cell_type": "markdown",
   "id": "26b28d94",
   "metadata": {},
   "source": [
    "# Proyecto 2 - Clasificación de género de películas\n",
    "\n",
    "El propósito de este proyecto es que puedan poner en práctica, en sus respectivos grupos de trabajo, sus conocimientos sobre técnicas de preprocesamiento, modelos predictivos de NLP, y la disponibilización de modelos. Para su desarrollo tengan en cuenta las instrucciones dadas en la \"Guía del proyecto 2: Clasificación de género de películas\"\n",
    "\n",
    "**Entrega**: La entrega del proyecto deberán realizarla durante la semana 8. Sin embargo, es importante que avancen en la semana 7 en el modelado del problema y en parte del informe, tal y como se les indicó en la guía.\n",
    "\n",
    "Para hacer la entrega, deberán adjuntar el informe autocontenido en PDF a la actividad de entrega del proyecto que encontrarán en la semana 8, y subir el archivo de predicciones a la [competencia de Kaggle](https://www.kaggle.com/t/2c54d005f76747fe83f77fbf8b3ec232)."
   ]
  },
  {
   "cell_type": "markdown",
   "id": "5e69965f",
   "metadata": {},
   "source": [
    "## Datos para la predicción de género en películas"
   ]
  },
  {
   "cell_type": "markdown",
   "id": "861e35b6",
   "metadata": {},
   "source": [
    "![image info](https://raw.githubusercontent.com/albahnsen/MIAD_ML_and_NLP/main/images/moviegenre.png)"
   ]
  },
  {
   "cell_type": "markdown",
   "id": "14604064",
   "metadata": {},
   "source": [
    "En este proyecto se usará un conjunto de datos de géneros de películas. Cada observación contiene el título de una película, su año de lanzamiento, la sinopsis o plot de la película (resumen de la trama) y los géneros a los que pertenece (una película puede pertenercer a más de un género). Por ejemplo:\n",
    "- Título: 'How to Be a Serial Killer'\n",
    "- Plot: 'A serial killer decides to teach the secrets of his satisfying career to a video store clerk.'\n",
    "- Generos: 'Comedy', 'Crime', 'Horror'\n",
    "\n",
    "La idea es que usen estos datos para predecir la probabilidad de que una película pertenezca, dada la sinopsis, a cada uno de los géneros."
   ]
  },
  {
   "cell_type": "markdown",
   "id": "2b1fe273",
   "metadata": {},
   "source": [
    "Agradecemos al profesor Fabio González, Ph.D. y a su alumno John Arevalo por proporcionar este conjunto de datos. Ver https://arxiv.org/abs/1702.01992"
   ]
  },
  {
   "cell_type": "markdown",
   "id": "a2e12433",
   "metadata": {},
   "source": [
    "## Ejemplo predicción conjunto de test para envío a Kaggle\n",
    "En esta sección encontrarán el formato en el que deben guardar los resultados de la predicción para que puedan subirlos a la competencia en Kaggle."
   ]
  },
  {
   "cell_type": "code",
   "execution_count": 1,
   "id": "aff1df04",
   "metadata": {},
   "outputs": [],
   "source": [
    "import warnings\n",
    "warnings.filterwarnings('ignore')"
   ]
  },
  {
   "cell_type": "code",
   "execution_count": 2,
   "id": "4c9cab23",
   "metadata": {},
   "outputs": [],
   "source": [
    "import pandas as pd\n",
    "import numpy as np\n",
    "import json\n",
    "import nltk\n",
    "import re\n",
    "import csv\n",
    "import matplotlib.pyplot as plt \n",
    "import seaborn as sns\n",
    "from tqdm import tqdm\n",
    "from sklearn.feature_extraction.text import TfidfVectorizer\n",
    "from sklearn.model_selection import train_test_split\n",
    "from sklearn.metrics import r2_score, roc_auc_score\n",
    "import xgboost as xgb\n",
    "from sklearn.preprocessing import MultiLabelBinarizer\n",
    "\n",
    "from sklearn.tree import DecisionTreeClassifier\n",
    "from sklearn.ensemble import RandomForestClassifier\n",
    "from sklearn.svm import SVC\n",
    "from sklearn.neighbors import KNeighborsClassifier\n",
    "from sklearn.naive_bayes import GaussianNB\n",
    "from sklearn.linear_model import LogisticRegression\n",
    "from sklearn.metrics import f1_score\n",
    "# Binary Relevance\n",
    "from sklearn.multiclass import OneVsRestClassifier\n",
    "from sklearn.model_selection import GridSearchCV\n",
    "from sklearn.pipeline import Pipeline\n",
    "import ast\n",
    "\n",
    "%matplotlib inline\n",
    "pd.set_option('display.max_colwidth', 300)\n",
    "\n",
    "from sklearn import linear_model, decomposition, datasets\n",
    "from sklearn.preprocessing import StandardScaler"
   ]
  },
  {
   "cell_type": "code",
   "execution_count": 3,
   "id": "1312411b",
   "metadata": {},
   "outputs": [],
   "source": [
    "# Carga de datos de archivo .csv\n",
    "dataTraining = pd.read_csv('data_movies/dataTraining.csv', encoding='UTF-8', index_col=0)\n",
    "dataTesting = pd.read_csv('data_movies/dataTesting.csv', encoding='UTF-8', index_col=0)"
   ]
  },
  {
   "cell_type": "code",
   "execution_count": 4,
   "id": "930abd36",
   "metadata": {},
   "outputs": [
    {
     "data": {
      "text/html": [
       "<div>\n",
       "<style scoped>\n",
       "    .dataframe tbody tr th:only-of-type {\n",
       "        vertical-align: middle;\n",
       "    }\n",
       "\n",
       "    .dataframe tbody tr th {\n",
       "        vertical-align: top;\n",
       "    }\n",
       "\n",
       "    .dataframe thead th {\n",
       "        text-align: right;\n",
       "    }\n",
       "</style>\n",
       "<table border=\"1\" class=\"dataframe\">\n",
       "  <thead>\n",
       "    <tr style=\"text-align: right;\">\n",
       "      <th></th>\n",
       "      <th>year</th>\n",
       "      <th>title</th>\n",
       "      <th>plot</th>\n",
       "      <th>genres</th>\n",
       "      <th>rating</th>\n",
       "    </tr>\n",
       "  </thead>\n",
       "  <tbody>\n",
       "    <tr>\n",
       "      <th>3107</th>\n",
       "      <td>2003</td>\n",
       "      <td>Most</td>\n",
       "      <td>most is the story of a single father who takes his eight year - old son to work with him at the railroad drawbridge where he is the bridge tender .  a day before ,  the boy meets a woman boarding a train ,  a drug abuser .  at the bridge ,  the father goes into the engine room ,  and tells his s...</td>\n",
       "      <td>['Short', 'Drama']</td>\n",
       "      <td>8.0</td>\n",
       "    </tr>\n",
       "    <tr>\n",
       "      <th>900</th>\n",
       "      <td>2008</td>\n",
       "      <td>How to Be a Serial Killer</td>\n",
       "      <td>a serial killer decides to teach the secrets of his satisfying career to a video store clerk .</td>\n",
       "      <td>['Comedy', 'Crime', 'Horror']</td>\n",
       "      <td>5.6</td>\n",
       "    </tr>\n",
       "    <tr>\n",
       "      <th>6724</th>\n",
       "      <td>1941</td>\n",
       "      <td>A Woman's Face</td>\n",
       "      <td>in sweden ,  a female blackmailer with a disfiguring facial scar meets a gentleman who lives beyond his means .  they become accomplices in blackmail ,  and she falls in love with him ,  bitterly resigned to the impossibility of his returning her affection .  her life changes when one of her vic...</td>\n",
       "      <td>['Drama', 'Film-Noir', 'Thriller']</td>\n",
       "      <td>7.2</td>\n",
       "    </tr>\n",
       "    <tr>\n",
       "      <th>4704</th>\n",
       "      <td>1954</td>\n",
       "      <td>Executive Suite</td>\n",
       "      <td>in a friday afternoon in new york ,  the president of the tredway corporation avery bullard has just had a meeting with investment bankers and sends a telegram scheduling a meeting at the furniture factory in millburgh ,  pennsylvania ,  at six pm with his executives .  bullard has never appoint...</td>\n",
       "      <td>['Drama']</td>\n",
       "      <td>7.4</td>\n",
       "    </tr>\n",
       "    <tr>\n",
       "      <th>2582</th>\n",
       "      <td>1990</td>\n",
       "      <td>Narrow Margin</td>\n",
       "      <td>in los angeles ,  the editor of a publishing house carol hunnicut goes to a blind date with the lawyer michael tarlow ,  who has embezzled the powerful mobster leo watts .  carol accidentally witnesses the murder of michel by leo ' s hitman .  the scared carol sneaks out of michael ' s room and ...</td>\n",
       "      <td>['Action', 'Crime', 'Thriller']</td>\n",
       "      <td>6.6</td>\n",
       "    </tr>\n",
       "  </tbody>\n",
       "</table>\n",
       "</div>"
      ],
      "text/plain": [
       "      year                      title  \\\n",
       "3107  2003                       Most   \n",
       "900   2008  How to Be a Serial Killer   \n",
       "6724  1941             A Woman's Face   \n",
       "4704  1954            Executive Suite   \n",
       "2582  1990              Narrow Margin   \n",
       "\n",
       "                                                                                                                                                                                                                                                                                                             plot  \\\n",
       "3107  most is the story of a single father who takes his eight year - old son to work with him at the railroad drawbridge where he is the bridge tender .  a day before ,  the boy meets a woman boarding a train ,  a drug abuser .  at the bridge ,  the father goes into the engine room ,  and tells his s...   \n",
       "900                                                                                                                                                                                                                a serial killer decides to teach the secrets of his satisfying career to a video store clerk .   \n",
       "6724  in sweden ,  a female blackmailer with a disfiguring facial scar meets a gentleman who lives beyond his means .  they become accomplices in blackmail ,  and she falls in love with him ,  bitterly resigned to the impossibility of his returning her affection .  her life changes when one of her vic...   \n",
       "4704  in a friday afternoon in new york ,  the president of the tredway corporation avery bullard has just had a meeting with investment bankers and sends a telegram scheduling a meeting at the furniture factory in millburgh ,  pennsylvania ,  at six pm with his executives .  bullard has never appoint...   \n",
       "2582  in los angeles ,  the editor of a publishing house carol hunnicut goes to a blind date with the lawyer michael tarlow ,  who has embezzled the powerful mobster leo watts .  carol accidentally witnesses the murder of michel by leo ' s hitman .  the scared carol sneaks out of michael ' s room and ...   \n",
       "\n",
       "                                  genres  rating  \n",
       "3107                  ['Short', 'Drama']     8.0  \n",
       "900        ['Comedy', 'Crime', 'Horror']     5.6  \n",
       "6724  ['Drama', 'Film-Noir', 'Thriller']     7.2  \n",
       "4704                           ['Drama']     7.4  \n",
       "2582     ['Action', 'Crime', 'Thriller']     6.6  "
      ]
     },
     "execution_count": 4,
     "metadata": {},
     "output_type": "execute_result"
    }
   ],
   "source": [
    "# Visualización datos de entrenamiento\n",
    "dataTraining.head()"
   ]
  },
  {
   "cell_type": "code",
   "execution_count": 5,
   "id": "cd987564",
   "metadata": {},
   "outputs": [
    {
     "data": {
      "text/html": [
       "<div>\n",
       "<style scoped>\n",
       "    .dataframe tbody tr th:only-of-type {\n",
       "        vertical-align: middle;\n",
       "    }\n",
       "\n",
       "    .dataframe tbody tr th {\n",
       "        vertical-align: top;\n",
       "    }\n",
       "\n",
       "    .dataframe thead th {\n",
       "        text-align: right;\n",
       "    }\n",
       "</style>\n",
       "<table border=\"1\" class=\"dataframe\">\n",
       "  <thead>\n",
       "    <tr style=\"text-align: right;\">\n",
       "      <th></th>\n",
       "      <th>year</th>\n",
       "      <th>title</th>\n",
       "      <th>plot</th>\n",
       "    </tr>\n",
       "  </thead>\n",
       "  <tbody>\n",
       "    <tr>\n",
       "      <th>1</th>\n",
       "      <td>1999</td>\n",
       "      <td>Message in a Bottle</td>\n",
       "      <td>who meets by fate ,  shall be sealed by fate .  theresa osborne is running along the beach when she stumbles upon a bottle washed up on the shore .  inside is a message ,  reading the letter she feels so moved and yet she felt as if she has violated someone ' s thoughts .  in love with a man she...</td>\n",
       "    </tr>\n",
       "    <tr>\n",
       "      <th>4</th>\n",
       "      <td>1978</td>\n",
       "      <td>Midnight Express</td>\n",
       "      <td>the true story of billy hayes ,  an american college student who is caught smuggling drugs out of turkey and thrown into prison .</td>\n",
       "    </tr>\n",
       "    <tr>\n",
       "      <th>5</th>\n",
       "      <td>1996</td>\n",
       "      <td>Primal Fear</td>\n",
       "      <td>martin vail left the chicago da ' s office to become a successful criminal lawyer ,  that success predicated on working on high profile cases .  as such ,  he fights to get the case of naive nineteen year old rural kentuckian aaron stampler ,  an altar boy accused of the vicious bludgeoning deat...</td>\n",
       "    </tr>\n",
       "    <tr>\n",
       "      <th>6</th>\n",
       "      <td>1950</td>\n",
       "      <td>Crisis</td>\n",
       "      <td>husband and wife americans dr .  eugene and mrs .  helen ferguson  -  he a renowned neurosurgeon  -  are traveling through latin america for a vacation .  when they make the decision to return to new york earlier than expected ,  they find they are being detained by the military in the country t...</td>\n",
       "    </tr>\n",
       "    <tr>\n",
       "      <th>7</th>\n",
       "      <td>1959</td>\n",
       "      <td>The Tingler</td>\n",
       "      <td>the coroner and scientist dr .  warren chapin is researching the shivering effect of fear with his assistant david morris .  dr .  warren is introduced to ollie higgins ,  the relative of a criminal sentenced to the electric chair ,  while making the autopsy of the corpse ,  and he makes a comme...</td>\n",
       "    </tr>\n",
       "  </tbody>\n",
       "</table>\n",
       "</div>"
      ],
      "text/plain": [
       "   year                title  \\\n",
       "1  1999  Message in a Bottle   \n",
       "4  1978     Midnight Express   \n",
       "5  1996          Primal Fear   \n",
       "6  1950               Crisis   \n",
       "7  1959          The Tingler   \n",
       "\n",
       "                                                                                                                                                                                                                                                                                                          plot  \n",
       "1  who meets by fate ,  shall be sealed by fate .  theresa osborne is running along the beach when she stumbles upon a bottle washed up on the shore .  inside is a message ,  reading the letter she feels so moved and yet she felt as if she has violated someone ' s thoughts .  in love with a man she...  \n",
       "4                                                                                                                                                                            the true story of billy hayes ,  an american college student who is caught smuggling drugs out of turkey and thrown into prison .  \n",
       "5  martin vail left the chicago da ' s office to become a successful criminal lawyer ,  that success predicated on working on high profile cases .  as such ,  he fights to get the case of naive nineteen year old rural kentuckian aaron stampler ,  an altar boy accused of the vicious bludgeoning deat...  \n",
       "6  husband and wife americans dr .  eugene and mrs .  helen ferguson  -  he a renowned neurosurgeon  -  are traveling through latin america for a vacation .  when they make the decision to return to new york earlier than expected ,  they find they are being detained by the military in the country t...  \n",
       "7  the coroner and scientist dr .  warren chapin is researching the shivering effect of fear with his assistant david morris .  dr .  warren is introduced to ollie higgins ,  the relative of a criminal sentenced to the electric chair ,  while making the autopsy of the corpse ,  and he makes a comme...  "
      ]
     },
     "execution_count": 5,
     "metadata": {},
     "output_type": "execute_result"
    }
   ],
   "source": [
    "# Visualización datos de test\n",
    "dataTesting.head()"
   ]
  },
  {
   "cell_type": "markdown",
   "id": "09ef0b88",
   "metadata": {},
   "source": [
    "#### Exploratory data analysis"
   ]
  },
  {
   "cell_type": "code",
   "execution_count": 6,
   "id": "faaf4d6a",
   "metadata": {},
   "outputs": [
    {
     "name": "stdout",
     "output_type": "stream",
     "text": [
      "<class 'pandas.core.frame.DataFrame'>\n",
      "Int64Index: 7895 entries, 3107 to 215\n",
      "Data columns (total 5 columns):\n",
      " #   Column  Non-Null Count  Dtype  \n",
      "---  ------  --------------  -----  \n",
      " 0   year    7895 non-null   int64  \n",
      " 1   title   7895 non-null   object \n",
      " 2   plot    7895 non-null   object \n",
      " 3   genres  7895 non-null   object \n",
      " 4   rating  7895 non-null   float64\n",
      "dtypes: float64(1), int64(1), object(3)\n",
      "memory usage: 370.1+ KB\n"
     ]
    }
   ],
   "source": [
    "dataTraining.info()"
   ]
  },
  {
   "cell_type": "code",
   "execution_count": 7,
   "id": "2ebc895a",
   "metadata": {},
   "outputs": [
    {
     "data": {
      "text/plain": [
       "year      0\n",
       "title     0\n",
       "plot      0\n",
       "genres    0\n",
       "rating    0\n",
       "dtype: int64"
      ]
     },
     "execution_count": 7,
     "metadata": {},
     "output_type": "execute_result"
    }
   ],
   "source": [
    "dataTraining.isnull().sum()"
   ]
  },
  {
   "cell_type": "code",
   "execution_count": 8,
   "id": "5d03d603",
   "metadata": {
    "scrolled": false
   },
   "outputs": [
    {
     "data": {
      "image/png": "[encoded data removed]",
      "text/plain": [
       "<Figure size 1200x500 with 1 Axes>"
      ]
     },
     "metadata": {},
     "output_type": "display_data"
    }
   ],
   "source": [
    "generos = []\n",
    "\n",
    "for i in dataTraining['genres']:\n",
    "    list_genres = ast.literal_eval(i)\n",
    "    for j in list_genres:\n",
    "        generos.append(j)\n",
    "\n",
    "df_gen = pd.DataFrame(generos, columns=['Genero'])        \n",
    "df_gen\n",
    "\n",
    "plt.style.use('fivethirtyeight')\n",
    "plt.figure(figsize=(12,5))\n",
    "sns.countplot(x='Genero',data=df_gen, order = df_gen['Genero'].value_counts().index)    # Count of number of descriptions for each class label\n",
    "plt.xticks(rotation=60)\n",
    "plt.show()"
   ]
  },
  {
   "cell_type": "code",
   "execution_count": 9,
   "id": "2b51d0f7",
   "metadata": {},
   "outputs": [],
   "source": [
    "# function for text cleaning \n",
    "def clean_text(text):\n",
    "    # remove backslash-apostrophe \n",
    "    text = re.sub(\"\\'\", \"\", text) \n",
    "    # remove everything except alphabets \n",
    "    text = re.sub(\"[^a-zA-Z]\",\" \",text) \n",
    "    # remove whitespaces \n",
    "    text = ' '.join(text.split()) \n",
    "    # convert text to lowercase \n",
    "    text = text.lower() \n",
    "    \n",
    "    return text"
   ]
  },
  {
   "cell_type": "code",
   "execution_count": 10,
   "id": "97979d80",
   "metadata": {},
   "outputs": [],
   "source": [
    "def freq_words(x, terms = 30): \n",
    "  all_words = ' '.join([text for text in x]) \n",
    "  all_words = all_words.split() \n",
    "  fdist = nltk.FreqDist(all_words) \n",
    "  words_df = pd.DataFrame({'word':list(fdist.keys()), 'count':list(fdist.values())}) \n",
    "  \n",
    "  # selecting top 20 most frequent words \n",
    "  d = words_df.nlargest(columns=\"count\", n = terms) \n",
    "  \n",
    "  # visualize words and frequencies\n",
    "  plt.figure(figsize=(6,6)) \n",
    "  ax = sns.barplot(data=d, x= \"count\", y = \"word\") \n",
    "  ax.set(ylabel = 'Word') \n",
    "  plt.show()"
   ]
  },
  {
   "cell_type": "code",
   "execution_count": 11,
   "id": "bc89ab76",
   "metadata": {},
   "outputs": [],
   "source": [
    "dataTraining['clean_plot'] = dataTraining['plot'].apply(lambda x: clean_text(x))\n",
    "dataTesting['clean_plot'] = dataTesting['plot'].apply(lambda x: clean_text(x))"
   ]
  },
  {
   "cell_type": "code",
   "execution_count": 12,
   "id": "b74a5e05",
   "metadata": {},
   "outputs": [
    {
     "data": {
      "image/png": "[encoded data removed]",
      "text/plain": [
       "<Figure size 600x600 with 1 Axes>"
      ]
     },
     "metadata": {},
     "output_type": "display_data"
    }
   ],
   "source": [
    "# print 30 most frequent words \n",
    "freq_words(dataTraining['clean_plot'], 30)"
   ]
  },
  {
   "cell_type": "code",
   "execution_count": 13,
   "id": "48686060",
   "metadata": {},
   "outputs": [],
   "source": [
    "from nltk.corpus import stopwords\n",
    "stop_words = set(stopwords.words('english'))\n",
    "\n",
    "# function to remove stopwords\n",
    "def remove_stopwords(text):\n",
    "    no_stopword_text = [w for w in text.split() if not w in stop_words]\n",
    "    return ' '.join(no_stopword_text)\n",
    "\n",
    "dataTraining['clean_plot'] = dataTraining['clean_plot'].apply(lambda x: remove_stopwords(x))\n",
    "dataTesting['clean_plot'] = dataTesting['clean_plot'].apply(lambda x: remove_stopwords(x))"
   ]
  },
  {
   "cell_type": "code",
   "execution_count": 14,
   "id": "eda62109",
   "metadata": {},
   "outputs": [
    {
     "data": {
      "image/png": "[encoded data removed]",
      "text/plain": [
       "<Figure size 600x600 with 1 Axes>"
      ]
     },
     "metadata": {},
     "output_type": "display_data"
    }
   ],
   "source": [
    "freq_words(dataTraining['clean_plot'], 30)"
   ]
  },
  {
   "cell_type": "code",
   "execution_count": 15,
   "id": "1ef3ffb5",
   "metadata": {},
   "outputs": [
    {
     "name": "stdout",
     "output_type": "stream",
     "text": [
      "Dataframe size (before removal):  7895\n",
      "Dataframe size (after removal):  7845\n",
      "Removed rows: 50\n"
     ]
    }
   ],
   "source": [
    "# Outliers\n",
    "dataTraining['clean_plot_length']=dataTraining['clean_plot'].apply(lambda x:len(x))  # calculate length of cleaned text\n",
    "dataTraining.head()\n",
    "\n",
    "(dataTraining['clean_plot_length']>1510).value_counts()\n",
    "\n",
    "# Remove extremely long descriptions: outliers\n",
    "print('Dataframe size (before removal): ',len(dataTraining))\n",
    "filt=dataTraining['clean_plot_length']>1510\n",
    "dataTraining.drop(dataTraining[filt].index,axis=0,inplace=True)     # filter rows having cleaned description length > 2000\n",
    "print('Dataframe size (after removal): ',len(dataTraining))\n",
    "print(f'Removed rows: {filt.sum()}')"
   ]
  },
  {
   "cell_type": "code",
   "execution_count": 16,
   "id": "1fe2d16b",
   "metadata": {},
   "outputs": [],
   "source": [
    "# Definición de variable de interés (y)\n",
    "dataTraining['genres'] = dataTraining['genres'].map(lambda x: eval(x))\n",
    "le = MultiLabelBinarizer()\n",
    "y = le.fit_transform(dataTraining['genres'])"
   ]
  },
  {
   "cell_type": "code",
   "execution_count": 17,
   "id": "39bb7402",
   "metadata": {},
   "outputs": [],
   "source": [
    "tfidf_vectorizer = TfidfVectorizer(max_df=0.2, sublinear_tf=True, smooth_idf=False)"
   ]
  },
  {
   "cell_type": "code",
   "execution_count": 18,
   "id": "d11b4e06",
   "metadata": {},
   "outputs": [],
   "source": [
    "# split dataset into training and validation set\n",
    "xtrain, xval, ytrain, yval = train_test_split(dataTraining['clean_plot'], y, test_size=0.2, random_state=9)"
   ]
  },
  {
   "cell_type": "code",
   "execution_count": 19,
   "id": "6eb9a91c",
   "metadata": {},
   "outputs": [],
   "source": [
    "# plot list for testing microservice\n",
    "plot_test_list = [fila for fila in xval.head(2)]"
   ]
  },
  {
   "cell_type": "code",
   "execution_count": 20,
   "id": "b79437d2",
   "metadata": {},
   "outputs": [],
   "source": [
    "# create TF-IDF features\n",
    "xtrain_tfidf = tfidf_vectorizer.fit_transform(xtrain)\n",
    "xval_tfidf = tfidf_vectorizer.transform(xval)"
   ]
  },
  {
   "cell_type": "markdown",
   "id": "6ee5446f",
   "metadata": {},
   "source": [
    "### Hyperparameter Tuning"
   ]
  },
  {
   "cell_type": "code",
   "execution_count": 21,
   "id": "740c7398",
   "metadata": {},
   "outputs": [],
   "source": [
    "# dict_params = {}\n",
    "# max_mcauc = 0\n",
    "\n",
    "# solver = ['lbfgs', 'liblinear', 'newton-cg', 'sag', 'saga']\n",
    "\n",
    "# for s in solver:\n",
    "#     try:\n",
    "#         lr = LogisticRegression(solver=s, penalty='l2')\n",
    "#         clf = OneVsRestClassifier(lr)\n",
    "#         clf.fit(xtrain_tfidf, ytrain)\n",
    "#         # predict probabilities\n",
    "#         y_pred_prob = clf.predict_proba(xval_tfidf)\n",
    "\n",
    "#         if max_mcauc == 0: \n",
    "#             max_mcauc = round(roc_auc_score(yval, y_pred_prob, average='macro'),3)\n",
    "#             item = {'mcauc': max_mcauc, 'solver':s, 'penalty': 'l2'}\n",
    "#             dict_params.update(item)\n",
    "#         else:\n",
    "#             if round(roc_auc_score(yval, y_pred_prob, average='macro'),3) > max_mcauc:\n",
    "#                 max_mcauc = round(roc_auc_score(yval, y_pred_prob, average='macro'),3)\n",
    "#                 item = {'mcauc': max_mcauc, 'solver':s, 'penalty': 'l2'}\n",
    "#                 dict_params.update(item)\n",
    "#     except:\n",
    "#         pass\n",
    "\n",
    "# print(f'Best Params: { dict_params }')"
   ]
  },
  {
   "cell_type": "code",
   "execution_count": 22,
   "id": "4e0396f7",
   "metadata": {},
   "outputs": [],
   "source": [
    "lr = LogisticRegression(solver='liblinear', penalty='l2')\n",
    "clf = OneVsRestClassifier(lr)"
   ]
  },
  {
   "cell_type": "code",
   "execution_count": 23,
   "id": "4ab19c03",
   "metadata": {},
   "outputs": [
    {
     "data": {
      "text/html": [
       "<style>#sk-container-id-1 {color: black;background-color: white;}#sk-container-id-1 pre{padding: 0;}#sk-container-id-1 div.sk-toggleable {background-color: white;}#sk-container-id-1 label.sk-toggleable__label {cursor: pointer;display: block;width: 100%;margin-bottom: 0;padding: 0.3em;box-sizing: border-box;text-align: center;}#sk-container-id-1 label.sk-toggleable__label-arrow:before {content: \"▸\";float: left;margin-right: 0.25em;color: #696969;}#sk-container-id-1 label.sk-toggleable__label-arrow:hover:before {color: black;}#sk-container-id-1 div.sk-estimator:hover label.sk-toggleable__label-arrow:before {color: black;}#sk-container-id-1 div.sk-toggleable__content {max-height: 0;max-width: 0;overflow: hidden;text-align: left;background-color: #f0f8ff;}#sk-container-id-1 div.sk-toggleable__content pre {margin: 0.2em;color: black;border-radius: 0.25em;background-color: #f0f8ff;}#sk-container-id-1 input.sk-toggleable__control:checked~div.sk-toggleable__content {max-height: 200px;max-width: 100%;overflow: auto;}#sk-container-id-1 input.sk-toggleable__control:checked~label.sk-toggleable__label-arrow:before {content: \"▾\";}#sk-container-id-1 div.sk-estimator input.sk-toggleable__control:checked~label.sk-toggleable__label {background-color: #d4ebff;}#sk-container-id-1 div.sk-label input.sk-toggleable__control:checked~label.sk-toggleable__label {background-color: #d4ebff;}#sk-container-id-1 input.sk-hidden--visually {border: 0;clip: rect(1px 1px 1px 1px);clip: rect(1px, 1px, 1px, 1px);height: 1px;margin: -1px;overflow: hidden;padding: 0;position: absolute;width: 1px;}#sk-container-id-1 div.sk-estimator {font-family: monospace;background-color: #f0f8ff;border: 1px dotted black;border-radius: 0.25em;box-sizing: border-box;margin-bottom: 0.5em;}#sk-container-id-1 div.sk-estimator:hover {background-color: #d4ebff;}#sk-container-id-1 div.sk-parallel-item::after {content: \"\";width: 100%;border-bottom: 1px solid gray;flex-grow: 1;}#sk-container-id-1 div.sk-label:hover label.sk-toggleable__label {background-color: #d4ebff;}#sk-container-id-1 div.sk-serial::before {content: \"\";position: absolute;border-left: 1px solid gray;box-sizing: border-box;top: 0;bottom: 0;left: 50%;z-index: 0;}#sk-container-id-1 div.sk-serial {display: flex;flex-direction: column;align-items: center;background-color: white;padding-right: 0.2em;padding-left: 0.2em;position: relative;}#sk-container-id-1 div.sk-item {position: relative;z-index: 1;}#sk-container-id-1 div.sk-parallel {display: flex;align-items: stretch;justify-content: center;background-color: white;position: relative;}#sk-container-id-1 div.sk-item::before, #sk-container-id-1 div.sk-parallel-item::before {content: \"\";position: absolute;border-left: 1px solid gray;box-sizing: border-box;top: 0;bottom: 0;left: 50%;z-index: -1;}#sk-container-id-1 div.sk-parallel-item {display: flex;flex-direction: column;z-index: 1;position: relative;background-color: white;}#sk-container-id-1 div.sk-parallel-item:first-child::after {align-self: flex-end;width: 50%;}#sk-container-id-1 div.sk-parallel-item:last-child::after {align-self: flex-start;width: 50%;}#sk-container-id-1 div.sk-parallel-item:only-child::after {width: 0;}#sk-container-id-1 div.sk-dashed-wrapped {border: 1px dashed gray;margin: 0 0.4em 0.5em 0.4em;box-sizing: border-box;padding-bottom: 0.4em;background-color: white;}#sk-container-id-1 div.sk-label label {font-family: monospace;font-weight: bold;display: inline-block;line-height: 1.2em;}#sk-container-id-1 div.sk-label-container {text-align: center;}#sk-container-id-1 div.sk-container {/* jupyter's `normalize.less` sets `[hidden] { display: none; }` but bootstrap.min.css set `[hidden] { display: none !important; }` so we also need the `!important` here to be able to override the default hidden behavior on the sphinx rendered scikit-learn.org. See: https://github.com/scikit-learn/scikit-learn/issues/21755 */display: inline-block !important;position: relative;}#sk-container-id-1 div.sk-text-repr-fallback {display: none;}</style><div id=\"sk-container-id-1\" class=\"sk-top-container\"><div class=\"sk-text-repr-fallback\"><pre>OneVsRestClassifier(estimator=LogisticRegression(solver=&#x27;liblinear&#x27;))</pre><b>In a Jupyter environment, please rerun this cell to show the HTML representation or trust the notebook. <br />On GitHub, the HTML representation is unable to render, please try loading this page with nbviewer.org.</b></div><div class=\"sk-container\" hidden><div class=\"sk-item sk-dashed-wrapped\"><div class=\"sk-label-container\"><div class=\"sk-label sk-toggleable\"><input class=\"sk-toggleable__control sk-hidden--visually\" id=\"sk-estimator-id-1\" type=\"checkbox\" ><label for=\"sk-estimator-id-1\" class=\"sk-toggleable__label sk-toggleable__label-arrow\">OneVsRestClassifier</label><div class=\"sk-toggleable__content\"><pre>OneVsRestClassifier(estimator=LogisticRegression(solver=&#x27;liblinear&#x27;))</pre></div></div></div><div class=\"sk-parallel\"><div class=\"sk-parallel-item\"><div class=\"sk-item\"><div class=\"sk-label-container\"><div class=\"sk-label sk-toggleable\"><input class=\"sk-toggleable__control sk-hidden--visually\" id=\"sk-estimator-id-2\" type=\"checkbox\" ><label for=\"sk-estimator-id-2\" class=\"sk-toggleable__label sk-toggleable__label-arrow\">estimator: LogisticRegression</label><div class=\"sk-toggleable__content\"><pre>LogisticRegression(solver=&#x27;liblinear&#x27;)</pre></div></div></div><div class=\"sk-serial\"><div class=\"sk-item\"><div class=\"sk-estimator sk-toggleable\"><input class=\"sk-toggleable__control sk-hidden--visually\" id=\"sk-estimator-id-3\" type=\"checkbox\" ><label for=\"sk-estimator-id-3\" class=\"sk-toggleable__label sk-toggleable__label-arrow\">LogisticRegression</label><div class=\"sk-toggleable__content\"><pre>LogisticRegression(solver=&#x27;liblinear&#x27;)</pre></div></div></div></div></div></div></div></div></div></div>"
      ],
      "text/plain": [
       "OneVsRestClassifier(estimator=LogisticRegression(solver='liblinear'))"
      ]
     },
     "execution_count": 23,
     "metadata": {},
     "output_type": "execute_result"
    }
   ],
   "source": [
    "# fit model on train data\n",
    "clf.fit(xtrain_tfidf, ytrain)"
   ]
  },
  {
   "cell_type": "code",
   "execution_count": 24,
   "id": "fcd025a4",
   "metadata": {},
   "outputs": [],
   "source": [
    "# predict probabilities\n",
    "y_pred_prob = clf.predict_proba(xval_tfidf)"
   ]
  },
  {
   "cell_type": "code",
   "execution_count": 25,
   "id": "6106ca38",
   "metadata": {},
   "outputs": [],
   "source": [
    "t = 0.3 # threshold value\n",
    "y_pred_new = (y_pred_prob >= t).astype(int)"
   ]
  },
  {
   "cell_type": "code",
   "execution_count": 26,
   "id": "e1187a44",
   "metadata": {},
   "outputs": [
    {
     "data": {
      "text/plain": [
       "0.559246285783307"
      ]
     },
     "execution_count": 26,
     "metadata": {},
     "output_type": "execute_result"
    }
   ],
   "source": [
    "# evaluate performance\n",
    "f1_score(yval, y_pred_new, average=\"micro\")"
   ]
  },
  {
   "cell_type": "code",
   "execution_count": 27,
   "id": "4aee2646",
   "metadata": {},
   "outputs": [
    {
     "data": {
      "text/plain": [
       "0.9020096951506916"
      ]
     },
     "execution_count": 27,
     "metadata": {},
     "output_type": "execute_result"
    }
   ],
   "source": [
    "# # Impresión del desempeño del modelo\n",
    "roc_auc_score(yval, y_pred_prob, average='macro')"
   ]
  },
  {
   "cell_type": "code",
   "execution_count": 28,
   "id": "c074ff9f",
   "metadata": {},
   "outputs": [],
   "source": [
    "# transformación variables predictoras X del conjunto de test\n",
    "X_test_dtm = tfidf_vectorizer.transform(dataTesting['clean_plot'])\n",
    "\n",
    "cols = ['p_Action', 'p_Adventure', 'p_Animation', 'p_Biography', 'p_Comedy', 'p_Crime', 'p_Documentary', 'p_Drama', 'p_Family',\n",
    "        'p_Fantasy', 'p_Film-Noir', 'p_History', 'p_Horror', 'p_Music', 'p_Musical', 'p_Mystery', 'p_News', 'p_Romance',\n",
    "        'p_Sci-Fi', 'p_Short', 'p_Sport', 'p_Thriller', 'p_War', 'p_Western']\n",
    "\n",
    "# Predicción del conjunto de test\n",
    "y_pred_test_genres = clf.predict_proba(X_test_dtm)"
   ]
  },
  {
   "cell_type": "code",
   "execution_count": 29,
   "id": "9e9cfee7",
   "metadata": {},
   "outputs": [
    {
     "data": {
      "text/html": [
       "<div>\n",
       "<style scoped>\n",
       "    .dataframe tbody tr th:only-of-type {\n",
       "        vertical-align: middle;\n",
       "    }\n",
       "\n",
       "    .dataframe tbody tr th {\n",
       "        vertical-align: top;\n",
       "    }\n",
       "\n",
       "    .dataframe thead th {\n",
       "        text-align: right;\n",
       "    }\n",
       "</style>\n",
       "<table border=\"1\" class=\"dataframe\">\n",
       "  <thead>\n",
       "    <tr style=\"text-align: right;\">\n",
       "      <th></th>\n",
       "      <th>p_Action</th>\n",
       "      <th>p_Adventure</th>\n",
       "      <th>p_Animation</th>\n",
       "      <th>p_Biography</th>\n",
       "      <th>p_Comedy</th>\n",
       "      <th>p_Crime</th>\n",
       "      <th>p_Documentary</th>\n",
       "      <th>p_Drama</th>\n",
       "      <th>p_Family</th>\n",
       "      <th>p_Fantasy</th>\n",
       "      <th>...</th>\n",
       "      <th>p_Musical</th>\n",
       "      <th>p_Mystery</th>\n",
       "      <th>p_News</th>\n",
       "      <th>p_Romance</th>\n",
       "      <th>p_Sci-Fi</th>\n",
       "      <th>p_Short</th>\n",
       "      <th>p_Sport</th>\n",
       "      <th>p_Thriller</th>\n",
       "      <th>p_War</th>\n",
       "      <th>p_Western</th>\n",
       "    </tr>\n",
       "  </thead>\n",
       "  <tbody>\n",
       "    <tr>\n",
       "      <th>1</th>\n",
       "      <td>0.112171</td>\n",
       "      <td>0.101619</td>\n",
       "      <td>0.033583</td>\n",
       "      <td>0.035879</td>\n",
       "      <td>0.374636</td>\n",
       "      <td>0.130120</td>\n",
       "      <td>0.035810</td>\n",
       "      <td>0.558728</td>\n",
       "      <td>0.076195</td>\n",
       "      <td>0.133981</td>\n",
       "      <td>...</td>\n",
       "      <td>0.038254</td>\n",
       "      <td>0.098321</td>\n",
       "      <td>0.001891</td>\n",
       "      <td>0.496728</td>\n",
       "      <td>0.056770</td>\n",
       "      <td>0.011350</td>\n",
       "      <td>0.024985</td>\n",
       "      <td>0.187878</td>\n",
       "      <td>0.028515</td>\n",
       "      <td>0.028861</td>\n",
       "    </tr>\n",
       "    <tr>\n",
       "      <th>4</th>\n",
       "      <td>0.147027</td>\n",
       "      <td>0.054271</td>\n",
       "      <td>0.029473</td>\n",
       "      <td>0.110701</td>\n",
       "      <td>0.278058</td>\n",
       "      <td>0.275763</td>\n",
       "      <td>0.054396</td>\n",
       "      <td>0.814441</td>\n",
       "      <td>0.043415</td>\n",
       "      <td>0.027090</td>\n",
       "      <td>...</td>\n",
       "      <td>0.032850</td>\n",
       "      <td>0.048804</td>\n",
       "      <td>0.002032</td>\n",
       "      <td>0.127137</td>\n",
       "      <td>0.030954</td>\n",
       "      <td>0.012879</td>\n",
       "      <td>0.037541</td>\n",
       "      <td>0.312990</td>\n",
       "      <td>0.050252</td>\n",
       "      <td>0.028695</td>\n",
       "    </tr>\n",
       "    <tr>\n",
       "      <th>5</th>\n",
       "      <td>0.112952</td>\n",
       "      <td>0.045076</td>\n",
       "      <td>0.015235</td>\n",
       "      <td>0.051421</td>\n",
       "      <td>0.147466</td>\n",
       "      <td>0.578275</td>\n",
       "      <td>0.026352</td>\n",
       "      <td>0.789849</td>\n",
       "      <td>0.027128</td>\n",
       "      <td>0.036888</td>\n",
       "      <td>...</td>\n",
       "      <td>0.021232</td>\n",
       "      <td>0.306765</td>\n",
       "      <td>0.001982</td>\n",
       "      <td>0.187006</td>\n",
       "      <td>0.045723</td>\n",
       "      <td>0.010272</td>\n",
       "      <td>0.025866</td>\n",
       "      <td>0.522273</td>\n",
       "      <td>0.027357</td>\n",
       "      <td>0.018954</td>\n",
       "    </tr>\n",
       "    <tr>\n",
       "      <th>6</th>\n",
       "      <td>0.136778</td>\n",
       "      <td>0.098663</td>\n",
       "      <td>0.023049</td>\n",
       "      <td>0.041111</td>\n",
       "      <td>0.216636</td>\n",
       "      <td>0.104383</td>\n",
       "      <td>0.026765</td>\n",
       "      <td>0.650297</td>\n",
       "      <td>0.053468</td>\n",
       "      <td>0.053810</td>\n",
       "      <td>...</td>\n",
       "      <td>0.028862</td>\n",
       "      <td>0.096064</td>\n",
       "      <td>0.001862</td>\n",
       "      <td>0.166511</td>\n",
       "      <td>0.117359</td>\n",
       "      <td>0.011060</td>\n",
       "      <td>0.030912</td>\n",
       "      <td>0.357498</td>\n",
       "      <td>0.058524</td>\n",
       "      <td>0.025250</td>\n",
       "    </tr>\n",
       "    <tr>\n",
       "      <th>7</th>\n",
       "      <td>0.079399</td>\n",
       "      <td>0.084987</td>\n",
       "      <td>0.032164</td>\n",
       "      <td>0.037621</td>\n",
       "      <td>0.252439</td>\n",
       "      <td>0.122932</td>\n",
       "      <td>0.039997</td>\n",
       "      <td>0.401888</td>\n",
       "      <td>0.063810</td>\n",
       "      <td>0.122347</td>\n",
       "      <td>...</td>\n",
       "      <td>0.027522</td>\n",
       "      <td>0.099625</td>\n",
       "      <td>0.001937</td>\n",
       "      <td>0.167360</td>\n",
       "      <td>0.255411</td>\n",
       "      <td>0.012193</td>\n",
       "      <td>0.020116</td>\n",
       "      <td>0.323204</td>\n",
       "      <td>0.023519</td>\n",
       "      <td>0.021948</td>\n",
       "    </tr>\n",
       "  </tbody>\n",
       "</table>\n",
       "<p>5 rows × 24 columns</p>\n",
       "</div>"
      ],
      "text/plain": [
       "   p_Action  p_Adventure  p_Animation  p_Biography  p_Comedy   p_Crime  \\\n",
       "1  0.112171     0.101619     0.033583     0.035879  0.374636  0.130120   \n",
       "4  0.147027     0.054271     0.029473     0.110701  0.278058  0.275763   \n",
       "5  0.112952     0.045076     0.015235     0.051421  0.147466  0.578275   \n",
       "6  0.136778     0.098663     0.023049     0.041111  0.216636  0.104383   \n",
       "7  0.079399     0.084987     0.032164     0.037621  0.252439  0.122932   \n",
       "\n",
       "   p_Documentary   p_Drama  p_Family  p_Fantasy  ...  p_Musical  p_Mystery  \\\n",
       "1       0.035810  0.558728  0.076195   0.133981  ...   0.038254   0.098321   \n",
       "4       0.054396  0.814441  0.043415   0.027090  ...   0.032850   0.048804   \n",
       "5       0.026352  0.789849  0.027128   0.036888  ...   0.021232   0.306765   \n",
       "6       0.026765  0.650297  0.053468   0.053810  ...   0.028862   0.096064   \n",
       "7       0.039997  0.401888  0.063810   0.122347  ...   0.027522   0.099625   \n",
       "\n",
       "     p_News  p_Romance  p_Sci-Fi   p_Short   p_Sport  p_Thriller     p_War  \\\n",
       "1  0.001891   0.496728  0.056770  0.011350  0.024985    0.187878  0.028515   \n",
       "4  0.002032   0.127137  0.030954  0.012879  0.037541    0.312990  0.050252   \n",
       "5  0.001982   0.187006  0.045723  0.010272  0.025866    0.522273  0.027357   \n",
       "6  0.001862   0.166511  0.117359  0.011060  0.030912    0.357498  0.058524   \n",
       "7  0.001937   0.167360  0.255411  0.012193  0.020116    0.323204  0.023519   \n",
       "\n",
       "   p_Western  \n",
       "1   0.028861  \n",
       "4   0.028695  \n",
       "5   0.018954  \n",
       "6   0.025250  \n",
       "7   0.021948  \n",
       "\n",
       "[5 rows x 24 columns]"
      ]
     },
     "execution_count": 29,
     "metadata": {},
     "output_type": "execute_result"
    }
   ],
   "source": [
    "# Guardar predicciones en formato exigido en la competencia de kaggle\n",
    "res = pd.DataFrame(y_pred_test_genres, index=dataTesting.index, columns=cols)\n",
    "res.to_csv('pred_genres_text_RF.csv', index_label='ID')\n",
    "res.head()"
   ]
  },
  {
   "cell_type": "markdown",
   "id": "d4da779b",
   "metadata": {},
   "source": [
    "### Categories List"
   ]
  },
  {
   "cell_type": "code",
   "execution_count": 30,
   "id": "972d1dec",
   "metadata": {},
   "outputs": [
    {
     "data": {
      "text/plain": [
       "array(['Action', 'Adventure', 'Animation', 'Biography', 'Comedy', 'Crime',\n",
       "       'Documentary', 'Drama', 'Family', 'Fantasy', 'Film-Noir',\n",
       "       'History', 'Horror', 'Music', 'Musical', 'Mystery', 'News',\n",
       "       'Romance', 'Sci-Fi', 'Short', 'Sport', 'Thriller', 'War',\n",
       "       'Western'], dtype=object)"
      ]
     },
     "execution_count": 30,
     "metadata": {},
     "output_type": "execute_result"
    }
   ],
   "source": [
    "le.classes_"
   ]
  },
  {
   "cell_type": "markdown",
   "id": "eccbbd36",
   "metadata": {},
   "source": [
    "### Microservice"
   ]
  },
  {
   "cell_type": "code",
   "execution_count": 31,
   "id": "b1e996fd",
   "metadata": {},
   "outputs": [
    {
     "data": {
      "text/plain": [
       "['model_deployment_movie/tfidf_vectorizer.pkl']"
      ]
     },
     "execution_count": 31,
     "metadata": {},
     "output_type": "execute_result"
    }
   ],
   "source": [
    "# Exportar modelo y vector a archivo binario .pkl\n",
    "import joblib\n",
    "\n",
    "joblib.dump(clf, 'model_deployment_movie/movie_genre_clf.pkl', compress=3)\n",
    "joblib.dump(tfidf_vectorizer, 'model_deployment_movie/tfidf_vectorizer.pkl', compress=3)"
   ]
  },
  {
   "cell_type": "code",
   "execution_count": 32,
   "id": "afe2d113",
   "metadata": {},
   "outputs": [
    {
     "name": "stdout",
     "output_type": "stream",
     "text": [
      "doug ireland concierge ritzy hotel new york satisfy hotel guests getting need like jewelry candy mints theatre tickets also tries keep manager terminating milton bellhop working hotel half century likes think spirit hotel founder still around doug wants open hotel roosevelt island saved every cent could get option old hotel matter weeks develop hotel else lose needs least n million dollars best chance get christian hanover hanover considers doug proposal asks take care girlfriend andy girl doug hots constantly turned asks cause want two timing boyfriend hanover hanover married says divorce wife marry doug exactly believe thinks hotel important andy make decisions doug spends andy doug starting wonder important \n",
      "\n",
      "kung pow enter fist movie within movie created spoof martial arts genre writer director steve oedekerk uses contemporary characters splices n kung fu film weaving new old together main character chosen one oedekerk sets avenge deaths parents hands kung fu legend master pain along way encounters strange characters one cow trained martial arts \n",
      "\n"
     ]
    }
   ],
   "source": [
    "for i in plot_test_list:\n",
    "    print(i,'\\n')"
   ]
  },
  {
   "cell_type": "code",
   "execution_count": 33,
   "id": "81364d4c",
   "metadata": {},
   "outputs": [
    {
     "name": "stdout",
     "output_type": "stream",
     "text": [
      "{'Comedy': 0.775, 'Romance': 0.501, 'Drama': 0.336}\n",
      "{'Drama': 0.459, 'Comedy': 0.459, 'Action': 0.257}\n"
     ]
    }
   ],
   "source": [
    "# Importar modelo y predicción\n",
    "from model_deployment_movie.model_deployment import predict\n",
    "\n",
    " # Top 3 predicted categories \n",
    "def top3(q):\n",
    "    q = clean_text(q)\n",
    "    q = remove_stopwords(q)\n",
    "    q_vec = tfidf_vectorizer.transform([q])\n",
    "    q_pred = np.round(clf.predict_proba(q_vec),3)\n",
    "    res = pd.DataFrame(q_pred, columns=le.classes_, )\n",
    "    df = res.T.sort_values(by=0, ascending=False).head(3)\n",
    "    return df[0].to_dict()\n",
    "\n",
    "# Predicción\n",
    "for i in plot_test_list:\n",
    "    print(top3(i))"
   ]
  },
  {
   "cell_type": "markdown",
   "id": "7898837d",
   "metadata": {},
   "source": [
    "### Make model available with Flask"
   ]
  },
  {
   "cell_type": "code",
   "execution_count": 34,
   "id": "b0c2c0bf",
   "metadata": {},
   "outputs": [],
   "source": [
    "# Importación librerías\n",
    "from flask import Flask, render_template\n",
    "from flask_restx import Api, Resource, fields"
   ]
  },
  {
   "cell_type": "code",
   "execution_count": 35,
   "id": "2ec5f0c6",
   "metadata": {},
   "outputs": [],
   "source": [
    "# Definición aplicación Flask\n",
    "app = Flask(__name__)\n",
    "\n",
    "# Definición API Flask\n",
    "api = Api(\n",
    "    app, \n",
    "    version='1.0', \n",
    "    title='Movie genre classification API',\n",
    "    description='Movie genre classification API')\n",
    "\n",
    "ns = api.namespace('Predict', \n",
    "     description='Top 3 Most Likely Movie Genres')\n",
    "\n",
    "# Definición argumentos o parámetros de la API\n",
    "parser = api.parser()\n",
    "\n",
    "parser.add_argument(\n",
    "    'PLOT', \n",
    "    type=str, \n",
    "    required=True, \n",
    "    help='Plot', \n",
    "    location='args')\n",
    "\n",
    "resource_fields = api.model('Resource', {\n",
    "    'result': fields.String\n",
    "})"
   ]
  },
  {
   "cell_type": "code",
   "execution_count": 36,
   "id": "639c98a6",
   "metadata": {},
   "outputs": [],
   "source": [
    "# Definición de la clase para disponibilización\n",
    "@ns.route('/')\n",
    "class MovieGenreApi(Resource):\n",
    "\n",
    "    @api.doc(parser=parser)\n",
    "    @api.marshal_with(resource_fields)\n",
    "    def get(self):\n",
    "        args = parser.parse_args()\n",
    "        \n",
    "        return {\n",
    "         \"result\": predict(args['PLOT'])\n",
    "        }, 200"
   ]
  },
  {
   "cell_type": "code",
   "execution_count": null,
   "id": "59ac3550",
   "metadata": {
    "scrolled": true
   },
   "outputs": [
    {
     "name": "stdout",
     "output_type": "stream",
     "text": [
      " * Serving Flask app \"__main__\" (lazy loading)\n",
      " * Environment: production\n",
      "   WARNING: This is a development server. Do not use it in a production deployment.\n",
      "   Use a production WSGI server instead.\n",
      " * Debug mode: on\n"
     ]
    },
    {
     "name": "stderr",
     "output_type": "stream",
     "text": [
      " * Running on all addresses.\n",
      "   WARNING: This is a development server. Do not use it in a production deployment.\n",
      " * Running on http://192.168.1.4:5000/ (Press CTRL+C to quit)\n",
      "192.168.1.4 - - [25/May/2023 21:16:26] \"GET / HTTP/1.1\" 200 -\n",
      "192.168.1.4 - - [25/May/2023 21:16:26] \"GET /swaggerui/droid-sans.css HTTP/1.1\" 304 -\n",
      "192.168.1.4 - - [25/May/2023 21:16:26] \"GET /swaggerui/swagger-ui.css HTTP/1.1\" 304 -\n",
      "192.168.1.4 - - [25/May/2023 21:16:26] \"GET /swaggerui/swagger-ui-standalone-preset.js HTTP/1.1\" 304 -\n",
      "192.168.1.4 - - [25/May/2023 21:16:26] \"GET /swaggerui/swagger-ui-bundle.js HTTP/1.1\" 304 -\n",
      "192.168.1.4 - - [25/May/2023 21:16:27] \"GET /swagger.json HTTP/1.1\" 200 -\n",
      "192.168.1.4 - - [25/May/2023 21:16:27] \"GET /swaggerui/favicon-32x32.png HTTP/1.1\" 200 -\n",
      "192.168.1.4 - - [25/May/2023 21:16:47] \"GET /Predict/?PLOT=kung%20pow%20enter%20fist%20movie%20within%20movie%20created%20spoof%20martial%20arts%20genre%20writer%20director%20steve%20oedekerk%20uses%20contemporary%20characters%20splices%20n%20kung%20fu%20film%20weaving%20new%20old%20together%20main%20character%20chosen%20one%20oedekerk%20sets%20avenge%20deaths%20parents%20hands%20kung%20fu%20legend%20master%20pain%20along%20way%20encounters%20strange%20characters%20one%20cow%20trained%20martial%20arts%20 HTTP/1.1\" 500 -\n",
      "Traceback (most recent call last):\n",
      "  File \"C:\\ProgramData\\Anaconda3\\Lib\\site-packages\\flask\\app.py\", line 2464, in __call__\n",
      "    return self.wsgi_app(environ, start_response)\n",
      "  File \"C:\\ProgramData\\Anaconda3\\Lib\\site-packages\\flask\\app.py\", line 2450, in wsgi_app\n",
      "    response = self.handle_exception(e)\n",
      "  File \"C:\\Users\\ElkinDavidPeñaRuiz\\AppData\\Roaming\\Python\\Python39\\site-packages\\flask_restx\\api.py\", line 673, in error_router\n",
      "    return original_handler(f)\n",
      "  File \"C:\\ProgramData\\Anaconda3\\Lib\\site-packages\\flask\\app.py\", line 1867, in handle_exception\n",
      "    reraise(exc_type, exc_value, tb)\n",
      "  File \"C:\\ProgramData\\Anaconda3\\Lib\\site-packages\\flask\\_compat.py\", line 39, in reraise\n",
      "    raise value\n",
      "  File \"C:\\Users\\ElkinDavidPeñaRuiz\\AppData\\Roaming\\Python\\Python39\\site-packages\\flask_restx\\api.py\", line 671, in error_router\n",
      "    return self.handle_error(e)\n",
      "  File \"C:\\ProgramData\\Anaconda3\\Lib\\site-packages\\flask\\app.py\", line 2447, in wsgi_app\n",
      "    response = self.full_dispatch_request()\n",
      "  File \"C:\\ProgramData\\Anaconda3\\Lib\\site-packages\\flask\\app.py\", line 1952, in full_dispatch_request\n",
      "    rv = self.handle_user_exception(e)\n",
      "  File \"C:\\Users\\ElkinDavidPeñaRuiz\\AppData\\Roaming\\Python\\Python39\\site-packages\\flask_restx\\api.py\", line 673, in error_router\n",
      "    return original_handler(f)\n",
      "  File \"C:\\ProgramData\\Anaconda3\\Lib\\site-packages\\flask\\app.py\", line 1821, in handle_user_exception\n",
      "    reraise(exc_type, exc_value, tb)\n",
      "  File \"C:\\ProgramData\\Anaconda3\\Lib\\site-packages\\flask\\_compat.py\", line 39, in reraise\n",
      "    raise value\n",
      "  File \"C:\\Users\\ElkinDavidPeñaRuiz\\AppData\\Roaming\\Python\\Python39\\site-packages\\flask_restx\\api.py\", line 671, in error_router\n",
      "    return self.handle_error(e)\n",
      "  File \"C:\\ProgramData\\Anaconda3\\Lib\\site-packages\\flask\\app.py\", line 1950, in full_dispatch_request\n",
      "    rv = self.dispatch_request()\n",
      "  File \"C:\\ProgramData\\Anaconda3\\Lib\\site-packages\\flask\\app.py\", line 1936, in dispatch_request\n",
      "    return self.view_functions[rule.endpoint](**req.view_args)\n",
      "  File \"C:\\Users\\ElkinDavidPeñaRuiz\\AppData\\Roaming\\Python\\Python39\\site-packages\\flask_restx\\api.py\", line 404, in wrapper\n",
      "    resp = resource(*args, **kwargs)\n",
      "  File \"C:\\ProgramData\\Anaconda3\\Lib\\site-packages\\flask\\views.py\", line 89, in view\n",
      "    return self.dispatch_request(*args, **kwargs)\n",
      "  File \"C:\\Users\\ElkinDavidPeñaRuiz\\AppData\\Roaming\\Python\\Python39\\site-packages\\flask_restx\\resource.py\", line 46, in dispatch_request\n",
      "    resp = meth(*args, **kwargs)\n",
      "  File \"C:\\Users\\ElkinDavidPeñaRuiz\\AppData\\Roaming\\Python\\Python39\\site-packages\\flask_restx\\marshalling.py\", line 244, in wrapper\n",
      "    resp = f(*args, **kwargs)\n",
      "  File \"C:\\Users\\ElkinDavidPeñaRuiz\\AppData\\Local\\Temp\\ipykernel_17308\\3774646114.py\", line 11, in get\n",
      "    \n",
      "  File \"C:\\Users\\ElkinDavidPeñaRuiz\\OneDrive - CARBOMAX DE COLOMBIA S.A.S\\PERSONALES\\MIAD\\CICLO 4\\Machine Learning y PLN\\MIAD_UNIANDES\\model_deployment_movie\\model_deployment.py\", line 48, in predict\n",
      "    return top3(plot)\n",
      "  File \"C:\\Users\\ElkinDavidPeñaRuiz\\OneDrive - CARBOMAX DE COLOMBIA S.A.S\\PERSONALES\\MIAD\\CICLO 4\\Machine Learning y PLN\\MIAD_UNIANDES\\model_deployment_movie\\model_deployment.py\", line 43, in top3\n",
      "    q_pred = np.round(clf.predict_proba(q_vec),3)\n",
      "NameError: name 'np' is not defined\n",
      "192.168.1.4 - - [25/May/2023 21:17:32] \"GET / HTTP/1.1\" 200 -\n",
      "192.168.1.4 - - [25/May/2023 21:17:33] \"GET /swagger.json HTTP/1.1\" 200 -\n",
      "192.168.1.4 - - [25/May/2023 21:17:42] \"GET /Predict/?PLOT=kung%20pow%20enter%20fist%20movie%20within%20movie%20created%20spoof%20martial%20arts%20genre%20writer%20director%20steve%20oedekerk%20uses%20contemporary%20characters%20splices%20n%20kung%20fu%20film%20weaving%20new%20old%20together%20main%20character%20chosen%20one%20oedekerk%20sets%20avenge%20deaths%20parents%20hands%20kung%20fu%20legend%20master%20pain%20along%20way%20encounters%20strange%20characters%20one%20cow%20trained%20martial%20arts%20 HTTP/1.1\" 500 -\n",
      "Traceback (most recent call last):\n",
      "  File \"C:\\ProgramData\\Anaconda3\\Lib\\site-packages\\flask\\app.py\", line 2464, in __call__\n",
      "    return self.wsgi_app(environ, start_response)\n",
      "  File \"C:\\ProgramData\\Anaconda3\\Lib\\site-packages\\flask\\app.py\", line 2450, in wsgi_app\n",
      "    response = self.handle_exception(e)\n",
      "  File \"C:\\Users\\ElkinDavidPeñaRuiz\\AppData\\Roaming\\Python\\Python39\\site-packages\\flask_restx\\api.py\", line 673, in error_router\n",
      "    return original_handler(f)\n",
      "  File \"C:\\ProgramData\\Anaconda3\\Lib\\site-packages\\flask\\app.py\", line 1867, in handle_exception\n",
      "    reraise(exc_type, exc_value, tb)\n",
      "  File \"C:\\ProgramData\\Anaconda3\\Lib\\site-packages\\flask\\_compat.py\", line 39, in reraise\n",
      "    raise value\n",
      "  File \"C:\\Users\\ElkinDavidPeñaRuiz\\AppData\\Roaming\\Python\\Python39\\site-packages\\flask_restx\\api.py\", line 671, in error_router\n",
      "    return self.handle_error(e)\n",
      "  File \"C:\\ProgramData\\Anaconda3\\Lib\\site-packages\\flask\\app.py\", line 2447, in wsgi_app\n",
      "    response = self.full_dispatch_request()\n",
      "  File \"C:\\ProgramData\\Anaconda3\\Lib\\site-packages\\flask\\app.py\", line 1952, in full_dispatch_request\n",
      "    rv = self.handle_user_exception(e)\n",
      "  File \"C:\\Users\\ElkinDavidPeñaRuiz\\AppData\\Roaming\\Python\\Python39\\site-packages\\flask_restx\\api.py\", line 673, in error_router\n",
      "    return original_handler(f)\n",
      "  File \"C:\\ProgramData\\Anaconda3\\Lib\\site-packages\\flask\\app.py\", line 1821, in handle_user_exception\n",
      "    reraise(exc_type, exc_value, tb)\n",
      "  File \"C:\\ProgramData\\Anaconda3\\Lib\\site-packages\\flask\\_compat.py\", line 39, in reraise\n",
      "    raise value\n",
      "  File \"C:\\Users\\ElkinDavidPeñaRuiz\\AppData\\Roaming\\Python\\Python39\\site-packages\\flask_restx\\api.py\", line 671, in error_router\n",
      "    return self.handle_error(e)\n",
      "  File \"C:\\ProgramData\\Anaconda3\\Lib\\site-packages\\flask\\app.py\", line 1950, in full_dispatch_request\n",
      "    rv = self.dispatch_request()\n",
      "  File \"C:\\ProgramData\\Anaconda3\\Lib\\site-packages\\flask\\app.py\", line 1936, in dispatch_request\n",
      "    return self.view_functions[rule.endpoint](**req.view_args)\n",
      "  File \"C:\\Users\\ElkinDavidPeñaRuiz\\AppData\\Roaming\\Python\\Python39\\site-packages\\flask_restx\\api.py\", line 404, in wrapper\n",
      "    resp = resource(*args, **kwargs)\n",
      "  File \"C:\\ProgramData\\Anaconda3\\Lib\\site-packages\\flask\\views.py\", line 89, in view\n",
      "    return self.dispatch_request(*args, **kwargs)\n",
      "  File \"C:\\Users\\ElkinDavidPeñaRuiz\\AppData\\Roaming\\Python\\Python39\\site-packages\\flask_restx\\resource.py\", line 46, in dispatch_request\n",
      "    resp = meth(*args, **kwargs)\n",
      "  File \"C:\\Users\\ElkinDavidPeñaRuiz\\AppData\\Roaming\\Python\\Python39\\site-packages\\flask_restx\\marshalling.py\", line 244, in wrapper\n",
      "    resp = f(*args, **kwargs)\n",
      "  File \"C:\\Users\\ElkinDavidPeñaRuiz\\AppData\\Local\\Temp\\ipykernel_17308\\3774646114.py\", line 11, in get\n",
      "    \n",
      "  File \"C:\\Users\\ElkinDavidPeñaRuiz\\OneDrive - CARBOMAX DE COLOMBIA S.A.S\\PERSONALES\\MIAD\\CICLO 4\\Machine Learning y PLN\\MIAD_UNIANDES\\model_deployment_movie\\model_deployment.py\", line 48, in predict\n",
      "    \n",
      "  File \"C:\\Users\\ElkinDavidPeñaRuiz\\OneDrive - CARBOMAX DE COLOMBIA S.A.S\\PERSONALES\\MIAD\\CICLO 4\\Machine Learning y PLN\\MIAD_UNIANDES\\model_deployment_movie\\model_deployment.py\", line 43, in top3\n",
      "    q_vec = tfidf_vectorizer.transform([q])\n",
      "NameError: name 'np' is not defined\n"
     ]
    }
   ],
   "source": [
    "# Ejecución de la aplicación que disponibiliza el modelo de manera local en el puerto 5000\n",
    "app.run(debug=True, use_reloader=False, host='0.0.0.0', port=5000)"
   ]
  }
 ],
 "metadata": {
  "kernelspec": {
   "display_name": "Python 3 (ipykernel)",
   "language": "python",
   "name": "python3"
  },
  "language_info": {
   "codemirror_mode": {
    "name": "ipython",
    "version": 3
   },
   "file_extension": ".py",
   "mimetype": "text/x-python",
   "name": "python",
   "nbconvert_exporter": "python",
   "pygments_lexer": "ipython3",
   "version": "3.9.15"
  }
 },
 "nbformat": 4,
 "nbformat_minor": 5
}
