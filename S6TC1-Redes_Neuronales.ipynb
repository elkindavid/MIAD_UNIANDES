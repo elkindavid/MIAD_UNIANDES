{
 "cells": [
  {
   "cell_type": "markdown",
   "metadata": {},
   "source": [
    "![image info](https://raw.githubusercontent.com/albahnsen/MIAD_ML_and_NLP/main/images/banner_1.png)"
   ]
  },
  {
   "cell_type": "markdown",
   "metadata": {},
   "source": [
    "# Taller: Redes Neuronales\n",
    "\n",
    "En este taller podrán poner en práctica sus conocimientos sobre la construcción e implementación de redes neuronales de una capa y multicapa. El taller está constituido por 4 puntos, en los cuales deberan seguir las intrucciones de cada numeral para su desarrollo."
   ]
  },
  {
   "cell_type": "markdown",
   "metadata": {},
   "source": [
    "## Datos predicción probabilidad de admisión a la universidad\n",
    "\n",
    "En este taller se usará el conjunto de datos de admisiones a una universidad proveniente de la base de datos de Kaggle. Cada observación contiene la probabilidad de que un estudiante sea admitido por la universidad, dadas distintas variables predictoras como el puntaje del examén TOEFL y GRE, el promedio (GPA), entre otras. El objetivo es predecir la probabilidad de admissión de cada estudiante. Para más detalles pueden visitar el siguiente enlace: [datos](https://www.kaggle.com/mohansacharya/graduate-admissions)."
   ]
  },
  {
   "cell_type": "code",
   "execution_count": 1,
   "metadata": {},
   "outputs": [],
   "source": [
    "import warnings\n",
    "warnings.filterwarnings('ignore')"
   ]
  },
  {
   "cell_type": "code",
   "execution_count": 2,
   "metadata": {},
   "outputs": [],
   "source": [
    "# Importación librerías\n",
    "import numpy as np\n",
    "import keras \n",
    "import pandas as pd\n",
    "import matplotlib.pyplot as plt\n",
    "%matplotlib inline\n",
    "\n",
    "from sklearn.model_selection import train_test_split\n",
    "from keras import initializers\n",
    "from keras import optimizers\n",
    "from keras.models import Sequential\n",
    "from keras.layers import Dense\n",
    "from keras.layers import Dropout"
   ]
  },
  {
   "cell_type": "code",
   "execution_count": 3,
   "metadata": {},
   "outputs": [
    {
     "data": {
      "text/html": [
       "<div>\n",
       "<style scoped>\n",
       "    .dataframe tbody tr th:only-of-type {\n",
       "        vertical-align: middle;\n",
       "    }\n",
       "\n",
       "    .dataframe tbody tr th {\n",
       "        vertical-align: top;\n",
       "    }\n",
       "\n",
       "    .dataframe thead th {\n",
       "        text-align: right;\n",
       "    }\n",
       "</style>\n",
       "<table border=\"1\" class=\"dataframe\">\n",
       "  <thead>\n",
       "    <tr style=\"text-align: right;\">\n",
       "      <th></th>\n",
       "      <th>GRE Score</th>\n",
       "      <th>TOEFL Score</th>\n",
       "      <th>University Rating</th>\n",
       "      <th>SOP</th>\n",
       "      <th>LOR</th>\n",
       "      <th>CGPA</th>\n",
       "      <th>Research</th>\n",
       "      <th>Chance of Admit</th>\n",
       "    </tr>\n",
       "    <tr>\n",
       "      <th>Serial No.</th>\n",
       "      <th></th>\n",
       "      <th></th>\n",
       "      <th></th>\n",
       "      <th></th>\n",
       "      <th></th>\n",
       "      <th></th>\n",
       "      <th></th>\n",
       "      <th></th>\n",
       "    </tr>\n",
       "  </thead>\n",
       "  <tbody>\n",
       "    <tr>\n",
       "      <th>1</th>\n",
       "      <td>337</td>\n",
       "      <td>118</td>\n",
       "      <td>4</td>\n",
       "      <td>4.5</td>\n",
       "      <td>4.5</td>\n",
       "      <td>9.65</td>\n",
       "      <td>1</td>\n",
       "      <td>0.92</td>\n",
       "    </tr>\n",
       "    <tr>\n",
       "      <th>2</th>\n",
       "      <td>324</td>\n",
       "      <td>107</td>\n",
       "      <td>4</td>\n",
       "      <td>4.0</td>\n",
       "      <td>4.5</td>\n",
       "      <td>8.87</td>\n",
       "      <td>1</td>\n",
       "      <td>0.76</td>\n",
       "    </tr>\n",
       "    <tr>\n",
       "      <th>3</th>\n",
       "      <td>316</td>\n",
       "      <td>104</td>\n",
       "      <td>3</td>\n",
       "      <td>3.0</td>\n",
       "      <td>3.5</td>\n",
       "      <td>8.00</td>\n",
       "      <td>1</td>\n",
       "      <td>0.72</td>\n",
       "    </tr>\n",
       "    <tr>\n",
       "      <th>4</th>\n",
       "      <td>322</td>\n",
       "      <td>110</td>\n",
       "      <td>3</td>\n",
       "      <td>3.5</td>\n",
       "      <td>2.5</td>\n",
       "      <td>8.67</td>\n",
       "      <td>1</td>\n",
       "      <td>0.80</td>\n",
       "    </tr>\n",
       "    <tr>\n",
       "      <th>5</th>\n",
       "      <td>314</td>\n",
       "      <td>103</td>\n",
       "      <td>2</td>\n",
       "      <td>2.0</td>\n",
       "      <td>3.0</td>\n",
       "      <td>8.21</td>\n",
       "      <td>0</td>\n",
       "      <td>0.65</td>\n",
       "    </tr>\n",
       "  </tbody>\n",
       "</table>\n",
       "</div>"
      ],
      "text/plain": [
       "            GRE Score  TOEFL Score  University Rating  SOP  LOR   CGPA  \\\n",
       "Serial No.                                                               \n",
       "1                 337          118                  4  4.5   4.5  9.65   \n",
       "2                 324          107                  4  4.0   4.5  8.87   \n",
       "3                 316          104                  3  3.0   3.5  8.00   \n",
       "4                 322          110                  3  3.5   2.5  8.67   \n",
       "5                 314          103                  2  2.0   3.0  8.21   \n",
       "\n",
       "            Research  Chance of Admit   \n",
       "Serial No.                              \n",
       "1                  1              0.92  \n",
       "2                  1              0.76  \n",
       "3                  1              0.72  \n",
       "4                  1              0.80  \n",
       "5                  0              0.65  "
      ]
     },
     "execution_count": 3,
     "metadata": {},
     "output_type": "execute_result"
    }
   ],
   "source": [
    "# Carga de datos de archivo .csv\n",
    "data = pd.read_csv('https://raw.githubusercontent.com/jsalcedo14/MIAD_ML_NLP_2023/main/datasets/universityGraduateAdmissions.csv', index_col=0)\n",
    "data.head()"
   ]
  },
  {
   "cell_type": "code",
   "execution_count": 4,
   "metadata": {},
   "outputs": [
    {
     "data": {
      "image/png": "[encoded data removed]",
      "text/plain": [
       "<Figure size 1080x1080 with 9 Axes>"
      ]
     },
     "metadata": {
      "needs_background": "light"
     },
     "output_type": "display_data"
    }
   ],
   "source": [
    "# Hitogramas de las varaibles del dataset\n",
    "data.hist(bins=25, figsize=(15,15))\n",
    "plt.show()"
   ]
  },
  {
   "cell_type": "code",
   "execution_count": 5,
   "metadata": {},
   "outputs": [],
   "source": [
    "# Definición de variables predictoras (X)\n",
    "X = data.drop(data.columns[-1], axis=1)\n",
    "# Definición de variable de interés (y)\n",
    "Y = pd.DataFrame(np.array(data[data.columns[-1]]))\n",
    "#pd.DataFrame(np.array(boston_dataset.target), columns=['labels'])"
   ]
  },
  {
   "cell_type": "code",
   "execution_count": 6,
   "metadata": {},
   "outputs": [],
   "source": [
    "# Separación de variables predictoras (X) y variable de interés (y) en set de entrenamiento y test usandola función train_test_split\n",
    "X_train, X_test , Y_train, Y_test = train_test_split(X,Y, test_size=0.3 ,random_state=22)"
   ]
  },
  {
   "cell_type": "markdown",
   "metadata": {},
   "source": [
    "## Punto 1 - Red Neuronal de una capa\n",
    "\n",
    "En la celda 1 creen una **red neuronal de una capa** con la librería Keras, que prediga la probabilidad de admisión de los estudiantes, usando los sets de entrenamiento y test definidos anteriormente. Pueden usar la función de perdida, el optimizador y el número de épocas que consideren pertinentes para el modelo, justificando su selección. Finalmente, grafiquen la pérdida del modelo vs el número de épocas en el set de entrenamiento y validación, y presenten el desempeño del modelo con las métricas error absoluto medio (MAE) y error cuadrático medio (MSE)."
   ]
  },
  {
   "cell_type": "code",
   "execution_count": 7,
   "metadata": {},
   "outputs": [],
   "source": [
    "# Celda 1\n",
    "from sklearn.preprocessing import StandardScaler\n",
    "\n",
    "# Definición de la función StandardScaler\n",
    "scaler = StandardScaler()\n",
    "scaler.fit(X)\n",
    "\n",
    "# Transformación de los set de entrenamiento y test\n",
    "X_train = pd.DataFrame(data=scaler.transform(X_train), columns=X_train.columns, index=X_train.index)\n",
    "X_test = pd.DataFrame(data=scaler.transform(X_test), columns=X_test.columns, index=X_test.index)\n",
    "\n",
    "X_train = np.array(X_train)\n",
    "Y_train = np.array(Y_train)\n",
    "\n",
    "X_test = np.array(X_test)\n",
    "Y_test = np.array(Y_test)"
   ]
  },
  {
   "cell_type": "code",
   "execution_count": 8,
   "metadata": {},
   "outputs": [
    {
     "name": "stdout",
     "output_type": "stream",
     "text": [
      "1  output variables\n"
     ]
    }
   ],
   "source": [
    "output_var = Y_train.shape[1]\n",
    "print(output_var, ' output variables')"
   ]
  },
  {
   "cell_type": "code",
   "execution_count": 9,
   "metadata": {},
   "outputs": [
    {
     "name": "stdout",
     "output_type": "stream",
     "text": [
      "7 input variables\n"
     ]
    }
   ],
   "source": [
    "dims = X_train.shape[1]\n",
    "print(dims, 'input variables')"
   ]
  },
  {
   "cell_type": "code",
   "execution_count": 10,
   "metadata": {},
   "outputs": [
    {
     "name": "stdout",
     "output_type": "stream",
     "text": [
      "Model: \"sequential\"\n",
      "_________________________________________________________________\n",
      " Layer (type)                Output Shape              Param #   \n",
      "=================================================================\n",
      " dense (Dense)               (None, 1)                 8         \n",
      "                                                                 \n",
      "=================================================================\n",
      "Total params: 8\n",
      "Trainable params: 8\n",
      "Non-trainable params: 0\n",
      "_________________________________________________________________\n",
      "None\n"
     ]
    }
   ],
   "source": [
    "#K.clear_session()\n",
    "\n",
    "# Definición red neuronal con la función Sequential()\n",
    "model = Sequential()\n",
    "# Definición de la capa densa con un tamaño de salida igual a output_var y un input_shape de dims\n",
    "model.add(Dense(output_var, input_shape=(dims,)))\n",
    "\n",
    "# Impresión de la arquitectura de la red neuronal\n",
    "print(model.summary())"
   ]
  },
  {
   "cell_type": "code",
   "execution_count": 11,
   "metadata": {},
   "outputs": [
    {
     "data": {
      "image/png": "[encoded data removed]",
      "text/plain": [
       "<Figure size 864x576 with 2 Axes>"
      ]
     },
     "metadata": {
      "needs_background": "light"
     },
     "output_type": "display_data"
    },
    {
     "name": "stdout",
     "output_type": "stream",
     "text": [
      "Loss\n",
      "\ttraining         \t (min:    0.007, max:    2.230, cur:    0.007)\n",
      "\tvalidation       \t (min:    0.006, max:    1.154, cur:    0.006)\n",
      "11/11 [==============================] - 0s 34ms/step - loss: 0.0070 - val_loss: 0.0055\n"
     ]
    },
    {
     "data": {
      "text/plain": [
       "<keras.callbacks.History at 0x1ec26339f70>"
      ]
     },
     "execution_count": 11,
     "metadata": {},
     "output_type": "execute_result"
    }
   ],
   "source": [
    "# Definición de función de perdida. Se usa mean_squared_error dado que es un ejercicio de regresión\n",
    "from keras.models import Sequential\n",
    "from keras.layers import Dense, Activation\n",
    "from livelossplot import PlotLossesKeras\n",
    "from keras import backend as K\n",
    "import keras.optimizers as opts\n",
    "K.clear_session()\n",
    "model.compile(optimizer='sgd', loss='mean_squared_error')\n",
    "# Entrenamiento de la red neuronal con 50 épocas\n",
    "model.fit(X_train, Y_train, \n",
    "          verbose=1, \n",
    "          epochs=50, \n",
    "          validation_data=(X_test, Y_test),\n",
    "          callbacks=[PlotLossesKeras()])"
   ]
  },
  {
   "cell_type": "code",
   "execution_count": 12,
   "metadata": {},
   "outputs": [
    {
     "data": {
      "image/png": "[encoded data removed]",
      "text/plain": [
       "<Figure size 864x576 with 2 Axes>"
      ]
     },
     "metadata": {
      "needs_background": "light"
     },
     "output_type": "display_data"
    },
    {
     "name": "stdout",
     "output_type": "stream",
     "text": [
      "Loss\n",
      "\ttraining         \t (min:    0.042, max:    0.758, cur:    0.043)\n",
      "\tvalidation       \t (min:    0.041, max:    0.732, cur:    0.041)\n",
      "11/11 [==============================] - 0s 46ms/step - loss: 0.0429 - val_loss: 0.0410\n"
     ]
    },
    {
     "data": {
      "text/plain": [
       "<keras.callbacks.History at 0x1ec26b938e0>"
      ]
     },
     "execution_count": 12,
     "metadata": {},
     "output_type": "execute_result"
    }
   ],
   "source": [
    "model = Sequential()\n",
    "# Definición de la capa densa con un tamaño de salida igual a output_var y un input_shape de dims\n",
    "model.add(Dense(output_var, input_shape=(dims,)))\n",
    "\n",
    "# Impresión de la arquitectura de la red neuronal\n",
    "print(model.summary())\n",
    "K.clear_session()\n",
    "model.compile(optimizer='sgd', loss='mae')\n",
    "# Entrenamiento de la red neuronal con 50 épocas\n",
    "model.fit(X_train, Y_train, \n",
    "          verbose=1, \n",
    "          epochs=50, \n",
    "          validation_data=(X_test, Y_test),\n",
    "          callbacks=[PlotLossesKeras()])"
   ]
  },
  {
   "cell_type": "markdown",
   "metadata": {},
   "source": [
    "## Punto 2 - Red Neuronal multicapa\n",
    "\n",
    "En la celda 2 creen una **red neuronal con dos capas** con la librería Keras, que prediga la probabilidad de admisión de los estudiantes usando los sets de entrenamiento y test definidos anteriormente. Pueden usar la función de perdida, el optimizador, el número de épocas y el número de neuronas que consideren pertinentes para el modelo, justificando su selección. Finalmente, grafiquen la pérdida del modelo vs el número de épocas en el set de entrenamiento y validación, y presenten el desempeño del modelo con las métricas error absoluto medio (MAE) y error cuadrático medio (MSE)."
   ]
  },
  {
   "cell_type": "code",
   "execution_count": 19,
   "metadata": {},
   "outputs": [
    {
     "data": {
      "image/png": "[encoded data removed]",
      "text/plain": [
       "<Figure size 864x576 with 2 Axes>"
      ]
     },
     "metadata": {
      "needs_background": "light"
     },
     "output_type": "display_data"
    },
    {
     "name": "stdout",
     "output_type": "stream",
     "text": [
      "Loss\n",
      "\ttraining         \t (min:    0.006, max:    0.463, cur:    0.006)\n",
      "\tvalidation       \t (min:    0.008, max:    0.326, cur:    0.008)\n",
      "5/5 [==============================] - 1s 128ms/step - loss: 0.0060 - val_loss: 0.0084\n"
     ]
    },
    {
     "data": {
      "text/plain": [
       "<keras.callbacks.History at 0x1ec27e06070>"
      ]
     },
     "execution_count": 19,
     "metadata": {},
     "output_type": "execute_result"
    }
   ],
   "source": [
    "# Celda 2\n",
    "K.clear_session()\n",
    "\n",
    "# Definición red neuronal con la función Sequential()\n",
    "model = Sequential()\n",
    "\n",
    "# Definición de la capa densa con un tamaño de salida igual a output_var y un input_shape de dims\n",
    "model.add(Dense(256, input_shape=(dims,),activation='relu'))\n",
    "model.add(Dense(256,activation='relu'))\n",
    "model.add(Dense(output_var))\n",
    "model.add(Activation('relu'))\n",
    "\n",
    "# Impresión de la arquitectura de la red neuronal\n",
    "print(model.summary())\n",
    "\n",
    "# Definición de función de perdida. Se usa mean_squared_error dado que es un ejercicio de regresión\n",
    "model.compile(optimizer='sgd', loss='mean_squared_error')\n",
    "# Separación de datos de entrenamiento para considerar un set de validación durante entrenamiento\n",
    "X_train, X_val, Y_train, Y_val = train_test_split(X_train, Y_train, test_size=0.15, random_state=42)\n",
    "# Entrenamiento de la red neuronal con 50 épocas\n",
    "model.fit(X_train, Y_train,\n",
    "          validation_data = (X_val, Y_val),\n",
    "          epochs=50, \n",
    "          callbacks=[PlotLossesKeras()])"
   ]
  },
  {
   "cell_type": "code",
   "execution_count": 20,
   "metadata": {},
   "outputs": [
    {
     "data": {
      "image/png": "[encoded data removed]",
      "text/plain": [
       "<Figure size 864x576 with 2 Axes>"
      ]
     },
     "metadata": {
      "needs_background": "light"
     },
     "output_type": "display_data"
    },
    {
     "name": "stdout",
     "output_type": "stream",
     "text": [
      "Loss\n",
      "\ttraining         \t (min:    0.041, max:    0.706, cur:    0.041)\n",
      "\tvalidation       \t (min:    0.046, max:    0.696, cur:    0.050)\n",
      "5/5 [==============================] - 1s 126ms/step - loss: 0.0410 - val_loss: 0.0503\n"
     ]
    },
    {
     "data": {
      "text/plain": [
       "<keras.callbacks.History at 0x1ec27e206d0>"
      ]
     },
     "execution_count": 20,
     "metadata": {},
     "output_type": "execute_result"
    }
   ],
   "source": [
    "K.clear_session()\n",
    "\n",
    "# Definición red neuronal con la función Sequential()\n",
    "model = Sequential()\n",
    "\n",
    "# Definición de la capa densa con un tamaño de salida igual a output_var y un input_shape de dims\n",
    "model.add(Dense(256, input_shape=(dims,),activation='relu'))\n",
    "model.add(Dense(256,activation='relu'))\n",
    "model.add(Dense(output_var))\n",
    "model.add(Activation('relu'))\n",
    "\n",
    "# Impresión de la arquitectura de la red neuronal\n",
    "print(model.summary())\n",
    "\n",
    "# Definición de función de perdida. Se usa mean_squared_error dado que es un ejercicio de regresión\n",
    "model.compile(optimizer='sgd', loss='mae')\n",
    "# Separación de datos de entrenamiento para considerar un set de validación durante entrenamiento\n",
    "X_train, X_val, Y_train, Y_val = train_test_split(X_train, Y_train, test_size=0.15, random_state=42)\n",
    "# Entrenamiento de la red neuronal con 50 épocas\n",
    "model.fit(X_train, Y_train,\n",
    "          validation_data = (X_val, Y_val),\n",
    "          epochs=50, \n",
    "          callbacks=[PlotLossesKeras()])"
   ]
  },
  {
   "cell_type": "markdown",
   "metadata": {},
   "source": [
    "## Punto 3  - Red Neuronal multicapa\n",
    "\n",
    "En la celda 3 creen **una red neuronal con más de una capa con la librería Keras, usando early stopping y dropout,** que prediga la probabilidad de admisión de los estudiantes con los sets de entrenamiento y test definidos anteriormente. Pueden usar la función de perdida, el optimizador, el número de épocas y el número de neuronas que consideren pertinentes para el modelo, justificando su selección. Finalmente, grafiquen la pérdida del modelo vs el número de épocas en el set de entrenamiento y validación, y presenten el desempeño del modelo con las métricas error absoluto medio (MAE) y error cuadrático medio (MSE)."
   ]
  },
  {
   "cell_type": "code",
   "execution_count": 22,
   "metadata": {},
   "outputs": [
    {
     "name": "stdout",
     "output_type": "stream",
     "text": [
      "Model: \"sequential_1\"\n",
      "_________________________________________________________________\n",
      " Layer (type)                Output Shape              Param #   \n",
      "=================================================================\n",
      " dense_3 (Dense)             (None, 256)               2048      \n",
      "                                                                 \n",
      " dense_4 (Dense)             (None, 256)               65792     \n",
      "                                                                 \n",
      " dense_5 (Dense)             (None, 1)                 257       \n",
      "                                                                 \n",
      " activation_1 (Activation)   (None, 1)                 0         \n",
      "                                                                 \n",
      "=================================================================\n",
      "Total params: 68,097\n",
      "Trainable params: 68,097\n",
      "Non-trainable params: 0\n",
      "_________________________________________________________________\n",
      "None\n",
      "Epoch 1/50\n",
      "1/1 [==============================] - 1s 1s/step - loss: 0.4687 - val_loss: 0.3787\n",
      "Epoch 2/50\n",
      "1/1 [==============================] - 0s 116ms/step - loss: 0.4043 - val_loss: 0.3182\n",
      "Epoch 3/50\n",
      "1/1 [==============================] - 0s 118ms/step - loss: 0.3369 - val_loss: 0.2581\n",
      "Epoch 4/50\n",
      "1/1 [==============================] - 0s 107ms/step - loss: 0.2693 - val_loss: 0.2110\n",
      "Epoch 5/50\n",
      "1/1 [==============================] - 0s 117ms/step - loss: 0.2169 - val_loss: 0.1746\n",
      "Epoch 6/50\n",
      "1/1 [==============================] - 0s 114ms/step - loss: 0.1764 - val_loss: 0.1469\n",
      "Epoch 7/50\n",
      "1/1 [==============================] - 0s 86ms/step - loss: 0.1457 - val_loss: 0.1259\n",
      "Epoch 8/50\n",
      "1/1 [==============================] - 0s 189ms/step - loss: 0.1223 - val_loss: 0.1101\n",
      "Epoch 9/50\n",
      "1/1 [==============================] - 0s 134ms/step - loss: 0.1044 - val_loss: 0.0981\n",
      "Epoch 10/50\n",
      "1/1 [==============================] - 0s 124ms/step - loss: 0.0909 - val_loss: 0.0890\n",
      "Epoch 11/50\n",
      "1/1 [==============================] - 0s 116ms/step - loss: 0.0805 - val_loss: 0.0821\n",
      "Epoch 12/50\n",
      "1/1 [==============================] - 0s 105ms/step - loss: 0.0725 - val_loss: 0.0768\n",
      "Epoch 13/50\n",
      "1/1 [==============================] - 0s 111ms/step - loss: 0.0664 - val_loss: 0.0727\n",
      "Epoch 14/50\n",
      "1/1 [==============================] - 0s 112ms/step - loss: 0.0615 - val_loss: 0.0695\n",
      "Epoch 15/50\n",
      "1/1 [==============================] - 0s 116ms/step - loss: 0.0578 - val_loss: 0.0670\n",
      "Epoch 16/50\n",
      "1/1 [==============================] - 0s 126ms/step - loss: 0.0547 - val_loss: 0.0650\n",
      "Epoch 17/50\n",
      "1/1 [==============================] - 0s 106ms/step - loss: 0.0523 - val_loss: 0.0633\n",
      "Epoch 18/50\n",
      "1/1 [==============================] - 0s 117ms/step - loss: 0.0502 - val_loss: 0.0619\n",
      "Epoch 19/50\n",
      "1/1 [==============================] - 0s 148ms/step - loss: 0.0485 - val_loss: 0.0607\n",
      "Epoch 20/50\n",
      "1/1 [==============================] - 0s 99ms/step - loss: 0.0471 - val_loss: 0.0597\n",
      "Epoch 21/50\n",
      "1/1 [==============================] - 0s 120ms/step - loss: 0.0458 - val_loss: 0.0588\n",
      "Epoch 22/50\n",
      "1/1 [==============================] - 0s 110ms/step - loss: 0.0447 - val_loss: 0.0579\n",
      "Epoch 23/50\n",
      "1/1 [==============================] - 0s 109ms/step - loss: 0.0436 - val_loss: 0.0571\n",
      "Epoch 24/50\n",
      "1/1 [==============================] - 0s 102ms/step - loss: 0.0427 - val_loss: 0.0563\n",
      "Epoch 25/50\n",
      "1/1 [==============================] - 0s 122ms/step - loss: 0.0418 - val_loss: 0.0556\n",
      "Epoch 26/50\n",
      "1/1 [==============================] - 0s 131ms/step - loss: 0.0410 - val_loss: 0.0549\n",
      "Epoch 27/50\n",
      "1/1 [==============================] - 0s 116ms/step - loss: 0.0402 - val_loss: 0.0542\n",
      "Epoch 28/50\n",
      "1/1 [==============================] - 0s 108ms/step - loss: 0.0395 - val_loss: 0.0536\n",
      "Epoch 29/50\n",
      "1/1 [==============================] - 0s 114ms/step - loss: 0.0388 - val_loss: 0.0529\n",
      "Epoch 30/50\n",
      "1/1 [==============================] - 0s 114ms/step - loss: 0.0381 - val_loss: 0.0523\n",
      "Epoch 31/50\n",
      "1/1 [==============================] - 0s 103ms/step - loss: 0.0375 - val_loss: 0.0516\n",
      "Epoch 32/50\n",
      "1/1 [==============================] - 0s 131ms/step - loss: 0.0368 - val_loss: 0.0510\n",
      "Epoch 33/50\n",
      "1/1 [==============================] - 0s 121ms/step - loss: 0.0362 - val_loss: 0.0504\n",
      "Epoch 34/50\n",
      "1/1 [==============================] - 0s 110ms/step - loss: 0.0356 - val_loss: 0.0498\n",
      "Epoch 35/50\n",
      "1/1 [==============================] - 0s 110ms/step - loss: 0.0351 - val_loss: 0.0492\n",
      "Epoch 36/50\n",
      "1/1 [==============================] - 0s 98ms/step - loss: 0.0345 - val_loss: 0.0486\n",
      "Epoch 37/50\n",
      "1/1 [==============================] - 0s 126ms/step - loss: 0.0340 - val_loss: 0.0480\n",
      "Epoch 38/50\n",
      "1/1 [==============================] - 0s 106ms/step - loss: 0.0334 - val_loss: 0.0474\n",
      "Epoch 39/50\n",
      "1/1 [==============================] - 0s 114ms/step - loss: 0.0329 - val_loss: 0.0468\n",
      "Epoch 40/50\n",
      "1/1 [==============================] - 0s 124ms/step - loss: 0.0324 - val_loss: 0.0463\n",
      "Epoch 41/50\n",
      "1/1 [==============================] - 0s 104ms/step - loss: 0.0319 - val_loss: 0.0457\n",
      "Epoch 42/50\n",
      "1/1 [==============================] - 0s 110ms/step - loss: 0.0314 - val_loss: 0.0452\n",
      "Epoch 43/50\n",
      "1/1 [==============================] - 0s 106ms/step - loss: 0.0310 - val_loss: 0.0446\n",
      "Epoch 44/50\n",
      "1/1 [==============================] - 0s 119ms/step - loss: 0.0305 - val_loss: 0.0441\n",
      "Epoch 45/50\n",
      "1/1 [==============================] - 0s 119ms/step - loss: 0.0301 - val_loss: 0.0436\n",
      "Epoch 46/50\n",
      "1/1 [==============================] - 0s 98ms/step - loss: 0.0296 - val_loss: 0.0431\n",
      "Epoch 47/50\n",
      "1/1 [==============================] - 0s 113ms/step - loss: 0.0292 - val_loss: 0.0426\n",
      "Epoch 48/50\n",
      "1/1 [==============================] - 0s 106ms/step - loss: 0.0288 - val_loss: 0.0421\n",
      "Epoch 49/50\n",
      "1/1 [==============================] - 0s 117ms/step - loss: 0.0284 - val_loss: 0.0416\n",
      "Epoch 50/50\n",
      "1/1 [==============================] - 0s 107ms/step - loss: 0.0280 - val_loss: 0.0411\n"
     ]
    },
    {
     "data": {
      "text/plain": [
       "<keras.callbacks.History at 0x1ec2665a820>"
      ]
     },
     "execution_count": 22,
     "metadata": {},
     "output_type": "execute_result"
    }
   ],
   "source": [
    "# Celda 3\n",
    "# Importación librerías\n",
    "from sklearn.model_selection import train_test_split\n",
    "from keras.callbacks import EarlyStopping, ModelCheckpoint\n",
    "\n",
    "# Definición de la función EarlyStopping para considerar durante el entrenamiento\n",
    "early_stop = EarlyStopping(monitor='val_loss', patience=2, verbose=1) \n",
    "# Definición de la función ModelCheckpoint para guardar el modelo con mejor desempeño\n",
    "fBestModel = 'best_model.h5'\n",
    "best_model = ModelCheckpoint(fBestModel, verbose=0, save_best_only=True)\n",
    "# Definición red neuronal con la función Sequential()\n",
    "model = Sequential()\n",
    "\n",
    "# Definición de la capa densa con un tamaño de salida igual a output_var y un input_shape de dims\n",
    "model.add(Dense(256, input_shape=(dims,),activation='relu'))\n",
    "model.add(Dense(256,activation='relu'))\n",
    "model.add(Dense(output_var))\n",
    "model.add(Activation('relu'))\n",
    "\n",
    "# Impresión de la arquitectura de la red neuronal\n",
    "print(model.summary())\n",
    "\n",
    "# Definición de función de perdida. Se usa mean_squared_error dado que es un ejercicio de regresión\n",
    "model.compile(optimizer='sgd', loss='mean_squared_error')\n",
    "# Separación de datos de entrenamiento para considerar un set de validación durante entrenamiento\n",
    "X_train, X_val, Y_train, Y_val = train_test_split(X_train, Y_train, test_size=0.15, random_state=42)\n",
    "\n",
    "# Entrenamiento de la red neuronal con 50 épocas y early stopping\n",
    "model.fit(X_train, Y_train, \n",
    "          verbose=True, \n",
    "          epochs=50, \n",
    "          batch_size=128,\n",
    "          validation_data=(X_test,Y_test),\n",
    "          callbacks=[best_model, early_stop])"
   ]
  },
  {
   "cell_type": "code",
   "execution_count": 23,
   "metadata": {},
   "outputs": [
    {
     "name": "stdout",
     "output_type": "stream",
     "text": [
      "Model: \"sequential_2\"\n",
      "_________________________________________________________________\n",
      " Layer (type)                Output Shape              Param #   \n",
      "=================================================================\n",
      " dense_6 (Dense)             (None, 256)               2048      \n",
      "                                                                 \n",
      " dense_7 (Dense)             (None, 256)               65792     \n",
      "                                                                 \n",
      " dense_8 (Dense)             (None, 1)                 257       \n",
      "                                                                 \n",
      " activation_2 (Activation)   (None, 1)                 0         \n",
      "                                                                 \n",
      "=================================================================\n",
      "Total params: 68,097\n",
      "Trainable params: 68,097\n",
      "Non-trainable params: 0\n",
      "_________________________________________________________________\n",
      "None\n",
      "Epoch 1/50\n",
      "1/1 [==============================] - 1s 1s/step - loss: 0.6558 - val_loss: 0.6196\n",
      "Epoch 2/50\n",
      "1/1 [==============================] - 0s 86ms/step - loss: 0.6255 - val_loss: 0.5867\n",
      "Epoch 3/50\n",
      "1/1 [==============================] - 0s 100ms/step - loss: 0.5934 - val_loss: 0.5572\n",
      "Epoch 4/50\n",
      "1/1 [==============================] - 0s 107ms/step - loss: 0.5623 - val_loss: 0.5411\n",
      "Epoch 5/50\n",
      "1/1 [==============================] - 0s 121ms/step - loss: 0.5441 - val_loss: 0.5236\n",
      "Epoch 6/50\n",
      "1/1 [==============================] - 0s 112ms/step - loss: 0.5261 - val_loss: 0.5093\n",
      "Epoch 7/50\n",
      "1/1 [==============================] - 0s 116ms/step - loss: 0.5119 - val_loss: 0.4949\n",
      "Epoch 8/50\n",
      "1/1 [==============================] - 0s 109ms/step - loss: 0.4964 - val_loss: 0.4758\n",
      "Epoch 9/50\n",
      "1/1 [==============================] - 0s 105ms/step - loss: 0.4762 - val_loss: 0.4493\n",
      "Epoch 10/50\n",
      "1/1 [==============================] - 0s 122ms/step - loss: 0.4459 - val_loss: 0.4200\n",
      "Epoch 11/50\n",
      "1/1 [==============================] - 0s 100ms/step - loss: 0.4129 - val_loss: 0.3912\n",
      "Epoch 12/50\n",
      "1/1 [==============================] - 0s 97ms/step - loss: 0.3802 - val_loss: 0.3632\n",
      "Epoch 13/50\n",
      "1/1 [==============================] - 0s 116ms/step - loss: 0.3488 - val_loss: 0.3360\n",
      "Epoch 14/50\n",
      "1/1 [==============================] - 0s 111ms/step - loss: 0.3190 - val_loss: 0.3099\n",
      "Epoch 15/50\n",
      "1/1 [==============================] - 0s 163ms/step - loss: 0.2905 - val_loss: 0.2843\n",
      "Epoch 16/50\n",
      "1/1 [==============================] - 0s 112ms/step - loss: 0.2620 - val_loss: 0.2593\n",
      "Epoch 17/50\n",
      "1/1 [==============================] - 0s 105ms/step - loss: 0.2343 - val_loss: 0.2341\n",
      "Epoch 18/50\n",
      "1/1 [==============================] - 0s 119ms/step - loss: 0.2064 - val_loss: 0.2102\n",
      "Epoch 19/50\n",
      "1/1 [==============================] - 0s 110ms/step - loss: 0.1782 - val_loss: 0.1902\n",
      "Epoch 20/50\n",
      "1/1 [==============================] - 0s 102ms/step - loss: 0.1576 - val_loss: 0.1802\n",
      "Epoch 21/50\n",
      "1/1 [==============================] - 0s 102ms/step - loss: 0.1482 - val_loss: 0.1729\n",
      "Epoch 22/50\n",
      "1/1 [==============================] - 0s 100ms/step - loss: 0.1415 - val_loss: 0.1673\n",
      "Epoch 23/50\n",
      "1/1 [==============================] - 0s 113ms/step - loss: 0.1366 - val_loss: 0.1622\n",
      "Epoch 24/50\n",
      "1/1 [==============================] - 0s 112ms/step - loss: 0.1319 - val_loss: 0.1574\n",
      "Epoch 25/50\n",
      "1/1 [==============================] - 0s 90ms/step - loss: 0.1277 - val_loss: 0.1530\n",
      "Epoch 26/50\n",
      "1/1 [==============================] - 0s 106ms/step - loss: 0.1240 - val_loss: 0.1491\n",
      "Epoch 27/50\n",
      "1/1 [==============================] - 0s 102ms/step - loss: 0.1205 - val_loss: 0.1460\n",
      "Epoch 28/50\n",
      "1/1 [==============================] - 0s 112ms/step - loss: 0.1172 - val_loss: 0.1429\n",
      "Epoch 29/50\n",
      "1/1 [==============================] - 0s 91ms/step - loss: 0.1139 - val_loss: 0.1397\n",
      "Epoch 30/50\n",
      "1/1 [==============================] - 0s 97ms/step - loss: 0.1109 - val_loss: 0.1368\n",
      "Epoch 31/50\n",
      "1/1 [==============================] - 0s 102ms/step - loss: 0.1082 - val_loss: 0.1339\n",
      "Epoch 32/50\n",
      "1/1 [==============================] - 0s 105ms/step - loss: 0.1055 - val_loss: 0.1314\n",
      "Epoch 33/50\n",
      "1/1 [==============================] - 0s 108ms/step - loss: 0.1028 - val_loss: 0.1288\n",
      "Epoch 34/50\n",
      "1/1 [==============================] - 0s 112ms/step - loss: 0.1003 - val_loss: 0.1273\n",
      "Epoch 35/50\n",
      "1/1 [==============================] - 0s 92ms/step - loss: 0.0980 - val_loss: 0.1248\n",
      "Epoch 36/50\n",
      "1/1 [==============================] - 0s 107ms/step - loss: 0.0959 - val_loss: 0.1236\n",
      "Epoch 37/50\n",
      "1/1 [==============================] - 0s 101ms/step - loss: 0.0939 - val_loss: 0.1213\n",
      "Epoch 38/50\n",
      "1/1 [==============================] - 0s 109ms/step - loss: 0.0919 - val_loss: 0.1202\n",
      "Epoch 39/50\n",
      "1/1 [==============================] - 0s 113ms/step - loss: 0.0902 - val_loss: 0.1176\n",
      "Epoch 40/50\n",
      "1/1 [==============================] - 0s 82ms/step - loss: 0.0883 - val_loss: 0.1167\n",
      "Epoch 41/50\n",
      "1/1 [==============================] - 0s 107ms/step - loss: 0.0867 - val_loss: 0.1147\n",
      "Epoch 42/50\n",
      "1/1 [==============================] - 0s 97ms/step - loss: 0.0851 - val_loss: 0.1137\n",
      "Epoch 43/50\n",
      "1/1 [==============================] - 0s 109ms/step - loss: 0.0836 - val_loss: 0.1117\n",
      "Epoch 44/50\n",
      "1/1 [==============================] - 0s 113ms/step - loss: 0.0821 - val_loss: 0.1108\n",
      "Epoch 45/50\n",
      "1/1 [==============================] - 0s 110ms/step - loss: 0.0805 - val_loss: 0.1098\n",
      "Epoch 46/50\n",
      "1/1 [==============================] - 0s 107ms/step - loss: 0.0791 - val_loss: 0.1083\n",
      "Epoch 47/50\n",
      "1/1 [==============================] - 0s 120ms/step - loss: 0.0777 - val_loss: 0.1069\n",
      "Epoch 48/50\n",
      "1/1 [==============================] - 0s 101ms/step - loss: 0.0765 - val_loss: 0.1063\n",
      "Epoch 49/50\n",
      "1/1 [==============================] - 0s 98ms/step - loss: 0.0755 - val_loss: 0.1035\n",
      "Epoch 50/50\n",
      "1/1 [==============================] - 0s 97ms/step - loss: 0.0744 - val_loss: 0.1034\n"
     ]
    },
    {
     "data": {
      "text/plain": [
       "<keras.callbacks.History at 0x1ec2930ec10>"
      ]
     },
     "execution_count": 23,
     "metadata": {},
     "output_type": "execute_result"
    }
   ],
   "source": [
    "from sklearn.model_selection import train_test_split\n",
    "from keras.callbacks import EarlyStopping, ModelCheckpoint\n",
    "# Definición de la función EarlyStopping para considerar durante el entrenamiento\n",
    "early_stop = EarlyStopping(monitor='val_loss', patience=2, verbose=1) \n",
    "# Definición de la función ModelCheckpoint para guardar el modelo con mejor desempeño\n",
    "fBestModel = 'best_model.h5'\n",
    "best_model = ModelCheckpoint(fBestModel, verbose=0, save_best_only=True)\n",
    "# Definición red neuronal con la función Sequential()\n",
    "model = Sequential()\n",
    "\n",
    "# Definición de la capa densa con un tamaño de salida igual a output_var y un input_shape de dims\n",
    "model.add(Dense(256, input_shape=(dims,),activation='relu'))\n",
    "model.add(Dense(256,activation='relu'))\n",
    "model.add(Dense(output_var))\n",
    "model.add(Activation('relu'))\n",
    "\n",
    "# Impresión de la arquitectura de la red neuronal\n",
    "print(model.summary())\n",
    "\n",
    "# Definición de función de perdida. Se usa mean_squared_error dado que es un ejercicio de regresión\n",
    "model.compile(optimizer='sgd', loss='mae')\n",
    "# Separación de datos de entrenamiento para considerar un set de validación durante entrenamiento\n",
    "X_train, X_val, Y_train, Y_val = train_test_split(X_train, Y_train, test_size=0.15, random_state=42)\n",
    "\n",
    "# Entrenamiento de la red neuronal con 50 épocas y early stopping\n",
    "model.fit(X_train, Y_train, \n",
    "          verbose=True, \n",
    "          epochs=50, \n",
    "          batch_size=128,\n",
    "          validation_data=(X_test,Y_test),\n",
    "          callbacks=[best_model, early_stop])"
   ]
  },
  {
   "cell_type": "markdown",
   "metadata": {},
   "source": [
    "## Punto 4 - Comparación y análisis de resultados\n",
    "\n",
    "En la celda 4 comparen los resultados obtenidos de las diferentes redes y comenten las ventajas del mejor modelo y las desventajas del modelo con el menor desempeño."
   ]
  },
  {
   "cell_type": "code",
   "execution_count": 16,
   "metadata": {},
   "outputs": [],
   "source": [
    "# Celda 4\n"
   ]
  }
 ],
 "metadata": {
  "kernelspec": {
   "display_name": "Python 3 (ipykernel)",
   "language": "python",
   "name": "python3"
  },
  "language_info": {
   "codemirror_mode": {
    "name": "ipython",
    "version": 3
   },
   "file_extension": ".py",
   "mimetype": "text/x-python",
   "name": "python",
   "nbconvert_exporter": "python",
   "pygments_lexer": "ipython3",
   "version": "3.9.12"
  }
 },
 "nbformat": 4,
 "nbformat_minor": 4
}
